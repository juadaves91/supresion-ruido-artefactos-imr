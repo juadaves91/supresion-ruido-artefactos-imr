{
 "cells": [
  {
   "cell_type": "markdown",
   "id": "217a3d2e",
   "metadata": {},
   "source": [
    "<img src=\"https://www.unir.net/wp-content/uploads/2019/11/Unir_2021_logo.svg\" width=\"240\" height=\"240\" align=\"right\"/>"
   ]
  },
  {
   "cell_type": "markdown",
   "id": "5c36edf2",
   "metadata": {},
   "source": [
    "<span>\n",
    "<h2>Eliminación de ruido en imagenes de resonancia magnetica, mediante red neuronal convolucional CNN </h2> \n",
    "</span>"
   ]
  },
  {
   "cell_type": "markdown",
   "id": "edea9d0f",
   "metadata": {},
   "source": [
    "## Instalar librerías"
   ]
  },
  {
   "cell_type": "code",
   "execution_count": null,
   "id": "c17c102e",
   "metadata": {},
   "outputs": [],
   "source": [
    "import warnings\n",
    "warnings.simplefilter('ignore', category=FutureWarning)"
   ]
  },
  {
   "cell_type": "code",
   "execution_count": null,
   "id": "452d1720",
   "metadata": {},
   "outputs": [],
   "source": [
    "!pip install tf-nightly"
   ]
  },
  {
   "cell_type": "code",
   "execution_count": null,
   "id": "02996336",
   "metadata": {},
   "outputs": [],
   "source": [
    "!pip install h5py"
   ]
  },
  {
   "cell_type": "code",
   "execution_count": null,
   "id": "6de0b3a8",
   "metadata": {},
   "outputs": [],
   "source": [
    "!pip install scikit-learn"
   ]
  },
  {
   "cell_type": "code",
   "execution_count": null,
   "id": "17fc3746",
   "metadata": {},
   "outputs": [],
   "source": [
    "!pip uninstall tensorflow-directml"
   ]
  },
  {
   "cell_type": "code",
   "execution_count": null,
   "id": "d8378ad6",
   "metadata": {},
   "outputs": [],
   "source": [
    "!pip install matplotlib"
   ]
  },
  {
   "cell_type": "code",
   "execution_count": null,
   "id": "1c012353",
   "metadata": {},
   "outputs": [],
   "source": [
    "!pip install opencv-python"
   ]
  },
  {
   "cell_type": "code",
   "execution_count": null,
   "id": "733eaeb1",
   "metadata": {},
   "outputs": [],
   "source": [
    "!pip install pillow"
   ]
  },
  {
   "cell_type": "code",
   "execution_count": 115,
   "id": "00a0dbb5",
   "metadata": {},
   "outputs": [],
   "source": [
    "import sys\n",
    "from PIL import Image\n",
    "sys.modules['Image'] = Image "
   ]
  },
  {
   "cell_type": "markdown",
   "id": "044224dd",
   "metadata": {},
   "source": [
    "## Importar librerías"
   ]
  },
  {
   "cell_type": "code",
   "execution_count": 116,
   "id": "11b3a8a4",
   "metadata": {},
   "outputs": [],
   "source": [
    "import warnings\n",
    "warnings.simplefilter('ignore', category=FutureWarning)\n",
    " \n",
    "import tensorflow\n",
    "from tensorflow import keras\n",
    "from tensorflow.keras.models import Sequential\n",
    "from tensorflow.keras.layers import Activation, Dense, Flatten, BatchNormalization, Conv2D, MaxPool2D\n",
    "from tensorflow.keras.optimizers import Adam\n",
    "from tensorflow.keras.metrics import categorical_crossentropy\n",
    "from tensorflow.keras.preprocessing.image import ImageDataGenerator\n",
    "from tensorflow.keras.preprocessing import image\n",
    "from tensorflow.keras.applications import imagenet_utils\n",
    "from sklearn.metrics import confusion_matrix\n",
    "import itertools\n",
    "import shutil\n",
    "import random\n",
    "import glob\n",
    "import matplotlib.pyplot as plt\n",
    "import cv2\n",
    "import datetime\n",
    "import time\n",
    "import numpy as np\n",
    "from sklearn.metrics import plot_confusion_matrix\n",
    "\n",
    "import os.path\n",
    "from tensorflow.keras import Model, optimizers\n",
    "from tensorflow.keras.applications import xception\n",
    "from tensorflow.keras.layers import GlobalAveragePooling2D, Dense\n",
    "from tensorflow.keras.preprocessing.image import ImageDataGenerator\n",
    "from keras.callbacks import EarlyStopping\n",
    "from sklearn.metrics import classification_report"
   ]
  },
  {
   "cell_type": "markdown",
   "id": "713c5ed3",
   "metadata": {},
   "source": [
    "## Configurar GPU con TensorFlow"
   ]
  },
  {
   "cell_type": "code",
   "execution_count": 117,
   "id": "9f90b773",
   "metadata": {
    "scrolled": true
   },
   "outputs": [
    {
     "name": "stdout",
     "output_type": "stream",
     "text": [
      "Num GPUs available 0\n",
      "/device:DML:0\n",
      "True\n"
     ]
    }
   ],
   "source": [
    "tensorflow.test.is_gpu_available()\n",
    "print(\"Num GPUs available\", len(tensorflow.config.experimental.list_physical_devices('GPU')))\n",
    "\n",
    "print(tensorflow.test.gpu_device_name())\n",
    "print(tensorflow.test.is_gpu_available())"
   ]
  },
  {
   "cell_type": "markdown",
   "id": "16a38f6a",
   "metadata": {},
   "source": [
    "## Preparación de imagenes"
   ]
  },
  {
   "cell_type": "markdown",
   "id": "0c9f4c52",
   "metadata": {},
   "source": [
    "### Definir conjuntos de datos"
   ]
  },
  {
   "cell_type": "markdown",
   "id": "d2d473b4",
   "metadata": {},
   "source": [
    "#### Definir variables de entrenamiento, validacion y prueba"
   ]
  },
  {
   "cell_type": "code",
   "execution_count": 118,
   "id": "ddf58186",
   "metadata": {},
   "outputs": [],
   "source": [
    "# Entrenamiento\n",
    "path_train = 'D:/ADNI - IDA/ADNI1_Complete 1Yr 1.5T/ADNI-PRE-PROCESAMIENTO/ENTRENAMIENTO/' \n",
    "\n",
    "# Validacion\n",
    "path_val = 'D:/ADNI - IDA/ADNI1_Complete 1Yr 1.5T/ADNI-PRE-PROCESAMIENTO/VALIDACION/' \n",
    "\n",
    "# Pruebas\n",
    "path_test = r'D:/ADNI - IDA/ADNI1_Complete 1Yr 1.5T/ADNI-PRE-PROCESAMIENTO/PRUEBA/'"
   ]
  },
  {
   "cell_type": "markdown",
   "id": "2eff27bb",
   "metadata": {},
   "source": [
    "### Definir conjuntos de datos en formato KERAS"
   ]
  },
  {
   "cell_type": "code",
   "execution_count": 119,
   "id": "17ee933d",
   "metadata": {},
   "outputs": [
    {
     "name": "stdout",
     "output_type": "stream",
     "text": [
      "Found 5343 images belonging to 3 classes.\n",
      "Found 1265 images belonging to 3 classes.\n",
      "Found 63 images belonging to 3 classes.\n"
     ]
    }
   ],
   "source": [
    "# Generacion de lotes de datos para modelo en Keras en formato vgg16\n",
    "\n",
    "img_width = 256\n",
    "img_height = 256\n",
    "batch_size = 32\n",
    "\n",
    "# Entrenamiento\n",
    "train_batches = ImageDataGenerator(preprocessing_function=tensorflow.keras.applications.xception.preprocess_input) \\\n",
    "    .flow_from_directory(directory=path_train,\n",
    "                         target_size=(img_width,img_height),\n",
    "                         classes=['AD','CN','MCI'],\n",
    "                         batch_size=batch_size)\n",
    "\n",
    "# Validacion\n",
    "valid_batches = ImageDataGenerator(preprocessing_function=tensorflow.keras.applications.xception.preprocess_input) \\\n",
    "    .flow_from_directory(directory=path_val,\n",
    "                         target_size=(img_width,img_height),\n",
    "                         classes=['AD','CN','MCI'],\n",
    "                         batch_size=batch_size)\n",
    "\n",
    "# Pruebas\n",
    "test_batches = ImageDataGenerator(preprocessing_function=tensorflow.keras.applications.xception.preprocess_input) \\\n",
    "    .flow_from_directory(directory=path_test,\n",
    "                         target_size=(img_width,img_height),\n",
    "                         classes=['AD','CN','MCI'],\n",
    "                         batch_size=batch_size, \n",
    "                         shuffle=False)"
   ]
  },
  {
   "cell_type": "code",
   "execution_count": 120,
   "id": "c8e939d0",
   "metadata": {},
   "outputs": [],
   "source": [
    "assert train_batches.n == 5343 \n",
    "assert valid_batches.n == 1265   \n",
    "assert test_batches.n == 63  \n",
    "assert train_batches.num_classes == valid_batches.num_classes == test_batches.num_classes == 3 "
   ]
  },
  {
   "cell_type": "code",
   "execution_count": 121,
   "id": "3d20946a",
   "metadata": {},
   "outputs": [],
   "source": [
    "imgs, labels = next(train_batches)"
   ]
  },
  {
   "cell_type": "code",
   "execution_count": 122,
   "id": "6bc5a44f",
   "metadata": {},
   "outputs": [],
   "source": [
    "\"\"\"Esta funcion mostrara imagenes en un grid con 1 fila y 10 columnas\n",
    "\n",
    "Parameters\n",
    "----------\n",
    "list : numpy.ndarray\n",
    "\"\"\"\n",
    "\n",
    "def plotImages(images_arr):\n",
    "    fig, axes = plt.subplots(1, 10, figsize=(20,20))\n",
    "    axes =  axes.flatten()\n",
    "    for img, ax in zip(images_arr, axes):\n",
    "        ax.imshow(img, cmap='gray', vmin=0, vmax=255)\n",
    "        ax.axis('off')\n",
    "    plt.tight_layout()\n",
    "    plt.show()"
   ]
  },
  {
   "cell_type": "code",
   "execution_count": null,
   "id": "e2f5f2fc",
   "metadata": {},
   "outputs": [],
   "source": [
    "imgs[0].shape"
   ]
  },
  {
   "cell_type": "code",
   "execution_count": null,
   "id": "a887766e",
   "metadata": {},
   "outputs": [],
   "source": [
    "plotImages(imgs)\n",
    "print(labels)"
   ]
  },
  {
   "cell_type": "markdown",
   "id": "9f58917b",
   "metadata": {},
   "source": [
    "## Construccion y entrenamiento del modelo CNN - Xception"
   ]
  },
  {
   "cell_type": "code",
   "execution_count": 124,
   "id": "0aa55150",
   "metadata": {},
   "outputs": [
    {
     "name": "stdout",
     "output_type": "stream",
     "text": [
      "Model: \"model_8\"\n",
      "_________________________________________________________________\n",
      "Layer (type)                 Output Shape              Param #   \n",
      "=================================================================\n",
      "input_16 (InputLayer)        [(None, 256, 256, 3)]     0         \n",
      "_________________________________________________________________\n",
      "xception (Model)             (None, 2048)              20861480  \n",
      "_________________________________________________________________\n",
      "dense_18 (Dense)             (None, 64)                131136    \n",
      "_________________________________________________________________\n",
      "dropout_8 (Dropout)          (None, 64)                0         \n",
      "_________________________________________________________________\n",
      "dense_19 (Dense)             (None, 3)                 195       \n",
      "=================================================================\n",
      "Total params: 20,992,811\n",
      "Trainable params: 131,331\n",
      "Non-trainable params: 20,861,480\n",
      "_________________________________________________________________\n"
     ]
    }
   ],
   "source": [
    "with tensorflow.device('DML'):\n",
    "    IMG_SHAPE = (256, 256, 3)\n",
    "\n",
    "    base_model = xception.Xception(input_shape=IMG_SHAPE, \n",
    "                                   include_top=False,\n",
    "                                   weights='imagenet',\n",
    "                                   pooling='avg')\n",
    "    base_model.trainable = False\n",
    "\n",
    "    inputs = tensorflow.keras.layers.Input(IMG_SHAPE)\n",
    "    x = base_model(inputs)\n",
    "    x = tensorflow.keras.layers.Dense(64, activation='relu')(x)\n",
    "    x = tensorflow.keras.layers.Dropout(0.5)(x)\n",
    "    prediction  = tensorflow.keras.layers.Dense(3, activation='softmax')(x)\n",
    "\n",
    "    model = Model(inputs=inputs, outputs=prediction)\n",
    "    model.summary()"
   ]
  },
  {
   "cell_type": "markdown",
   "id": "cf968efb",
   "metadata": {},
   "source": [
    " ## Entrenamiento del modelo Xception"
   ]
  },
  {
   "cell_type": "code",
   "execution_count": 125,
   "id": "bfea10ed",
   "metadata": {},
   "outputs": [
    {
     "name": "stdout",
     "output_type": "stream",
     "text": [
      "Model: \"model_8\"\n",
      "_________________________________________________________________\n",
      "Layer (type)                 Output Shape              Param #   \n",
      "=================================================================\n",
      "input_16 (InputLayer)        [(None, 256, 256, 3)]     0         \n",
      "_________________________________________________________________\n",
      "xception (Model)             (None, 2048)              20861480  \n",
      "_________________________________________________________________\n",
      "dense_18 (Dense)             (None, 64)                131136    \n",
      "_________________________________________________________________\n",
      "dropout_8 (Dropout)          (None, 64)                0         \n",
      "_________________________________________________________________\n",
      "dense_19 (Dense)             (None, 3)                 195       \n",
      "=================================================================\n",
      "Total params: 20,992,811\n",
      "Trainable params: 131,331\n",
      "Non-trainable params: 20,861,480\n",
      "_________________________________________________________________\n"
     ]
    }
   ],
   "source": [
    "with tensorflow.device('DML'):\n",
    "    model.compile(optimizer=Adam(learning_rate=0.0001),\n",
    "                  loss='categorical_crossentropy',\n",
    "                  metrics=['accuracy'])\n",
    "    \n",
    "    model.summary()   "
   ]
  },
  {
   "cell_type": "code",
   "execution_count": 126,
   "id": "b8753bc7",
   "metadata": {},
   "outputs": [
    {
     "name": "stdout",
     "output_type": "stream",
     "text": [
      "Epoch 1/20\n",
      "Epoch 1/20\n",
      "167/167 - 113s - loss: 1.0854 - acc: 0.3895 - val_loss: 1.1184 - val_acc: 0.3431\n",
      "Epoch 2/20\n",
      "Epoch 1/20\n",
      "167/167 - 103s - loss: 1.0452 - acc: 0.4713 - val_loss: 1.1354 - val_acc: 0.3652\n",
      "Epoch 3/20\n",
      "Epoch 1/20\n",
      "167/167 - 104s - loss: 1.0075 - acc: 0.5023 - val_loss: 1.1957 - val_acc: 0.3621\n",
      "Epoch 4/20\n",
      "Epoch 1/20\n",
      "167/167 - 105s - loss: 0.9829 - acc: 0.5188 - val_loss: 1.3508 - val_acc: 0.3447\n",
      "Epoch 5/20\n",
      "Epoch 1/20\n",
      "167/167 - 105s - loss: 0.9605 - acc: 0.5381 - val_loss: 1.4618 - val_acc: 0.3352\n",
      "Epoch 6/20\n",
      "Epoch 1/20\n",
      "167/167 - 105s - loss: 0.9518 - acc: 0.5416 - val_loss: 1.5180 - val_acc: 0.3478\n",
      "Epoch 7/20\n",
      "Epoch 1/20\n",
      "167/167 - 104s - loss: 0.9250 - acc: 0.5639 - val_loss: 1.5751 - val_acc: 0.3415\n",
      "Epoch 8/20\n",
      "Epoch 1/20\n",
      "167/167 - 104s - loss: 0.9139 - acc: 0.5645 - val_loss: 1.5856 - val_acc: 0.3423\n",
      "Epoch 9/20\n",
      "Epoch 1/20\n",
      "167/167 - 104s - loss: 0.9121 - acc: 0.5703 - val_loss: 1.5072 - val_acc: 0.3470\n",
      "Epoch 10/20\n",
      "Epoch 1/20\n",
      "167/167 - 105s - loss: 0.8957 - acc: 0.5897 - val_loss: 1.4456 - val_acc: 0.3494\n",
      "Epoch 11/20\n",
      "Epoch 1/20\n",
      "Restoring model weights from the end of the best epoch\n",
      "167/167 - 107s - loss: 0.8896 - acc: 0.5783 - val_loss: 1.6249 - val_acc: 0.3486\n",
      "Epoch 00011: early stopping\n"
     ]
    }
   ],
   "source": [
    "# Entrena nuestra nueva capa superior del modelo\n",
    "\n",
    "epochs = 20\n",
    "epochs_ft = 20\n",
    "\n",
    "with tensorflow.device('DML'):\n",
    "    \n",
    "\n",
    "    earlystopper = EarlyStopping(monitor='val_loss',\n",
    "                                 min_delta=0, \n",
    "                                 patience=10, # maximo epochs\n",
    "                                 verbose=1,\n",
    "                                 restore_best_weights=True,\n",
    "                                 mode='auto')\n",
    "    \n",
    "    model.fit_generator(train_batches,\n",
    "                        epochs=epochs,\n",
    "                        validation_data=valid_batches,\n",
    "                        verbose=2,\n",
    "                        callbacks = [earlystopper])"
   ]
  },
  {
   "cell_type": "markdown",
   "id": "517f3492",
   "metadata": {},
   "source": [
    " ## Predicción con conjunto de pruebas"
   ]
  },
  {
   "cell_type": "code",
   "execution_count": 127,
   "id": "6df3c18f",
   "metadata": {},
   "outputs": [],
   "source": [
    "test_labels = test_batches.classes"
   ]
  },
  {
   "cell_type": "code",
   "execution_count": 128,
   "id": "039136c0",
   "metadata": {},
   "outputs": [],
   "source": [
    "predictions = model.predict(x = test_batches, verbose = 0)"
   ]
  },
  {
   "cell_type": "code",
   "execution_count": 129,
   "id": "7c2c2e57",
   "metadata": {},
   "outputs": [],
   "source": [
    "cm = confusion_matrix(y_true = test_batches.classes, \n",
    "                      y_pred = np.argmax(predictions, axis=-1))"
   ]
  },
  {
   "cell_type": "code",
   "execution_count": 130,
   "id": "b89846de",
   "metadata": {},
   "outputs": [
    {
     "data": {
      "text/plain": [
       "{'AD': 0, 'CN': 1, 'MCI': 2}"
      ]
     },
     "execution_count": 130,
     "metadata": {},
     "output_type": "execute_result"
    }
   ],
   "source": [
    "test_batches.class_indices"
   ]
  },
  {
   "cell_type": "code",
   "execution_count": 131,
   "id": "12e9eaa0",
   "metadata": {},
   "outputs": [
    {
     "data": {
      "image/png": "[encoded data removed]",
      "text/plain": [
       "<Figure size 576x432 with 2 Axes>"
      ]
     },
     "metadata": {
      "needs_background": "light"
     },
     "output_type": "display_data"
    }
   ],
   "source": [
    "def plot_confusion_matrix(cm, target_names, title='Confusion matrix', cmap=None, normalize=False):\n",
    "    \"\"\"\n",
    "    arguments\n",
    "    ---------\n",
    "    cm:           confusion matrix from sklearn.metrics.confusion_matrix\n",
    "\n",
    "    target_names: given classification classes such as [0, 1, 2]\n",
    "                  the class names, for example: ['high', 'medium', 'low']\n",
    "\n",
    "    title:        the text to display at the top of the matrix\n",
    "\n",
    "    cmap:         the gradient of the values displayed from matplotlib.pyplot.cm\n",
    "                  see http://matplotlib.org/examples/color/colormaps_reference.html\n",
    "\n",
    "    normalize:    If False, plot the raw numbers\n",
    "                  If True, plot the proportions\n",
    "    \"\"\"\n",
    "     \n",
    "    if cmap is None:\n",
    "        cmap = plt.get_cmap('Blues')\n",
    "\n",
    "    plt.figure(figsize=(8, 6))\n",
    "    plt.imshow(cm, interpolation='nearest', cmap=cmap)\n",
    "    plt.title(title)\n",
    "    plt.colorbar()\n",
    "    \n",
    "    if target_names is not None:\n",
    "        tick_marks = np.arange(len(target_names))\n",
    "        plt.xticks(tick_marks, target_names, rotation=45)\n",
    "        plt.yticks(tick_marks, target_names)\n",
    "\n",
    "    if normalize:\n",
    "        cm = cm.astype('float') / cm.sum(axis=1)[:, np.newaxis]\n",
    "\n",
    "\n",
    "    thresh = cm.max() / 1.5 if normalize else cm.max() / 2\n",
    "    for i, j in itertools.product(range(cm.shape[0]), range(cm.shape[1])):\n",
    "        if normalize:\n",
    "            plt.text(j, i, \"{:0.4f}\".format(cm[i, j]),\n",
    "                     horizontalalignment=\"center\",\n",
    "                     color=\"white\" if cm[i, j] > thresh else \"black\")\n",
    "        else:\n",
    "            plt.text(j, i, \"{:,}\".format(cm[i, j]),\n",
    "                     horizontalalignment=\"center\",\n",
    "                     color=\"white\" if cm[i, j] > thresh else \"black\")\n",
    "\n",
    "\n",
    "    plt.tight_layout()\n",
    "    plt.ylim(len(target_names)-0.5, -0.5)\n",
    "    plt.ylabel('True labels')\n",
    "    plt.xlabel('Predicted labels')\n",
    "    plt.savefig(title + '.png', dpi=500, bbox_inches = 'tight')\n",
    "    plt.show()\n",
    "    \n",
    "    \n",
    "    \n",
    "# a tuple for all the class names\n",
    "target_names = ('AD', 'CN', 'MCI')\n",
    "plot_confusion_matrix(cm, target_names)"
   ]
  },
  {
   "cell_type": "markdown",
   "id": "0f4e99a3",
   "metadata": {},
   "source": [
    "<!-- GoogLeNet \n",
    "ILSVRC-2013 (Clarifai)\n",
    "MSRA\n",
    "Zeler & Fergus\n",
    "OverFeat\n",
    "Krizhevsky -->"
   ]
  },
  {
   "cell_type": "markdown",
   "id": "e47d85e2",
   "metadata": {},
   "source": [
    "## Visualizar resultados del entrenamiento"
   ]
  },
  {
   "cell_type": "markdown",
   "id": "419e2790",
   "metadata": {},
   "source": [
    "print(model.history.history.keys())"
   ]
  },
  {
   "cell_type": "code",
   "execution_count": 132,
   "id": "1481ba56",
   "metadata": {},
   "outputs": [
    {
     "name": "stdout",
     "output_type": "stream",
     "text": [
      "[0.38948154, 0.4712708, 0.5023395, 0.5188097, 0.5380872, 0.54164326, 0.5639154, 0.56447685, 0.5702789, 0.58974355, 0.57832676]\n",
      "[0.343083, 0.3652174, 0.36205533, 0.34466404, 0.33517787, 0.3478261, 0.34150198, 0.3422925, 0.34703556, 0.3494071, 0.3486166]\n",
      "[1.0854174167324981, 1.0451896293721528, 1.007478758098703, 0.9829072778242348, 0.9605190706079023, 0.9518638080076267, 0.9249609464923474, 0.9139183671782799, 0.9120821718551148, 0.8957089864536102, 0.8896338216111206]\n",
      "[1.1184098809957503, 1.1354259222745895, 1.1956936463713645, 1.350765234231949, 1.4618200987577439, 1.517990881204605, 1.5751123279333115, 1.5856042563915254, 1.5071950525045394, 1.4455876737833022, 1.6248500257730485]\n"
     ]
    }
   ],
   "source": [
    "acc = model.history.history['acc']\n",
    "val_acc = model.history.history['val_acc']\n",
    "loss = model.history.history['loss']\n",
    "val_loss = model.history.history['val_loss']\n",
    "\n",
    "print(acc)\n",
    "print(val_acc)\n",
    "print(loss)\n",
    "print(val_loss)"
   ]
  },
  {
   "cell_type": "code",
   "execution_count": 134,
   "id": "99995b51",
   "metadata": {},
   "outputs": [
    {
     "data": {
      "image/png": "[encoded data removed]",
      "text/plain": [
       "<Figure size 1080x360 with 1 Axes>"
      ]
     },
     "metadata": {
      "needs_background": "light"
     },
     "output_type": "display_data"
    }
   ],
   "source": [
    "acc = model.history.history['acc']\n",
    "val_acc = model.history.history['val_acc']\n",
    "\n",
    "loss = model.history.history['loss']\n",
    "val_loss = model.history.history['val_loss']\n",
    "\n",
    "epochs_range = range(11)\n",
    "\n",
    "plt.figure(figsize=(15, 5))\n",
    "plt.plot(epochs_range, acc, label='Training Accuracy')\n",
    "plt.plot(epochs_range, val_acc, label='Validation Accuracy')\n",
    "plt.legend(loc='lower right')\n",
    "plt.title('Training and Validation Accuracy')\n",
    "plt.show()"
   ]
  },
  {
   "cell_type": "code",
   "execution_count": 135,
   "id": "d0f14703",
   "metadata": {},
   "outputs": [
    {
     "data": {
      "image/png": "[encoded data removed]",
      "text/plain": [
       "<Figure size 1080x360 with 1 Axes>"
      ]
     },
     "metadata": {
      "needs_background": "light"
     },
     "output_type": "display_data"
    }
   ],
   "source": [
    "plt.figure(figsize=(15, 5))\n",
    "plt.plot(epochs_range, loss, label='Training Loss')\n",
    "plt.plot(epochs_range, val_loss, label='Validation Loss')\n",
    "plt.legend(loc='upper right')\n",
    "plt.title('Training and Validation Loss')\n",
    "plt.show()"
   ]
  },
  {
   "cell_type": "code",
   "execution_count": 136,
   "id": "170a3422",
   "metadata": {},
   "outputs": [
    {
     "name": "stdout",
     "output_type": "stream",
     "text": [
      "              precision    recall  f1-score   support\n",
      "\n",
      "          AD       0.35      0.45      0.39        20\n",
      "          CN       0.00      0.00      0.00        21\n",
      "         MCI       0.38      0.64      0.47        22\n",
      "\n",
      "    accuracy                           0.37        63\n",
      "   macro avg       0.24      0.36      0.29        63\n",
      "weighted avg       0.24      0.37      0.29        63\n",
      "\n"
     ]
    },
    {
     "name": "stderr",
     "output_type": "stream",
     "text": [
      "C:\\ProgramData\\Anaconda3\\envs\\gpu_tfm_unir\\lib\\site-packages\\sklearn\\metrics\\_classification.py:1248: UndefinedMetricWarning: Precision and F-score are ill-defined and being set to 0.0 in labels with no predicted samples. Use `zero_division` parameter to control this behavior.\n",
      "  _warn_prf(average, modifier, msg_start, len(result))\n",
      "C:\\ProgramData\\Anaconda3\\envs\\gpu_tfm_unir\\lib\\site-packages\\sklearn\\metrics\\_classification.py:1248: UndefinedMetricWarning: Precision and F-score are ill-defined and being set to 0.0 in labels with no predicted samples. Use `zero_division` parameter to control this behavior.\n",
      "  _warn_prf(average, modifier, msg_start, len(result))\n",
      "C:\\ProgramData\\Anaconda3\\envs\\gpu_tfm_unir\\lib\\site-packages\\sklearn\\metrics\\_classification.py:1248: UndefinedMetricWarning: Precision and F-score are ill-defined and being set to 0.0 in labels with no predicted samples. Use `zero_division` parameter to control this behavior.\n",
      "  _warn_prf(average, modifier, msg_start, len(result))\n"
     ]
    }
   ],
   "source": [
    "y_true = test_batches.classes\n",
    "y_pred = np.argmax(predictions, axis=-1)\n",
    "target_names = ('AD', 'CN', 'MCI')\n",
    "\n",
    "print(classification_report(y_true, y_pred, target_names=target_names))"
   ]
  },
  {
   "cell_type": "markdown",
   "id": "dc992ddc",
   "metadata": {},
   "source": [
    "---\n",
    "---\n",
    "---"
   ]
  },
  {
   "cell_type": "markdown",
   "id": "b4ebfc04",
   "metadata": {},
   "source": [
    "## Construccion y construir afinar el modelo CNN-Xception (Modelo afinado)"
   ]
  },
  {
   "cell_type": "code",
   "execution_count": 142,
   "id": "300d5227",
   "metadata": {},
   "outputs": [],
   "source": [
    "# Agregar la base de la parte superior del modelo (top)\n",
    "\n",
    "nb_classes = 3\n",
    "\n",
    "def add_top(base):\n",
    "    x = base.output\n",
    "\n",
    "    # Capa de grupo de promedio global\n",
    "    x = GlobalAveragePooling2D()(x)\n",
    "\n",
    "    x = tensorflow.keras.layers.Dense(64, activation='relu')(x)\n",
    "    x = tensorflow.keras.layers.Dropout(0.2)(x)\n",
    "    \n",
    "    # Capa regular densamente conectada\n",
    "    x = Dense(512, activation='relu')(x)\n",
    "\n",
    "    # Capa de salida\n",
    "    predictions = Dense(nb_classes, activation='softmax')(x)\n",
    "\n",
    "    return Model(inputs = base.input, outputs= predictions)"
   ]
  },
  {
   "cell_type": "code",
   "execution_count": 143,
   "id": "b2278e9b",
   "metadata": {},
   "outputs": [],
   "source": [
    "# Modelo de configuración afinado\n",
    "def setup_model(model, trainable):\n",
    "    # Congelar las capas no entrenables de la base del modelo\n",
    "    for layer in model.layers[:(len(model.layers) - trainable)]:\n",
    "        layer.trainable = False\n",
    "\n",
    "    for layer in model.layers[(len(model.layers) - trainable):]:\n",
    "        layer.trainable = True\n",
    "\n",
    "    model.compile(\n",
    "        loss='categorical_crossentropy',\n",
    "        # Tasa de entrenamiento más lenta para el ajuste fino\n",
    "        optimizer=optimizers.SGD(lr=1e-4, momentum=0.9),\n",
    "        # optimizer=Adam(learning_rate=0.0001),\n",
    "        metrics=['accuracy']\n",
    "    )\n",
    "    \n",
    "    return model"
   ]
  },
  {
   "cell_type": "code",
   "execution_count": 144,
   "id": "f3c01e9c",
   "metadata": {},
   "outputs": [],
   "source": [
    "# Configurar el modelo para volver a entrenar nuestra \n",
    "# capa superior más el bloque 13 y 14 de Xception\n",
    "with tensorflow.device('DML'):\n",
    "    xception_base = xception.Xception(include_top=False,\n",
    "                                      weights='imagenet',\n",
    "                                      input_shape=(img_width, img_height, 3))\n",
    "\n",
    "    model = add_top(xception_base)\n",
    "    model = setup_model(model, 19)"
   ]
  },
  {
   "cell_type": "code",
   "execution_count": 145,
   "id": "b9147f66",
   "metadata": {},
   "outputs": [
    {
     "name": "stdout",
     "output_type": "stream",
     "text": [
      "Model: \"model_10\"\n",
      "__________________________________________________________________________________________________\n",
      "Layer (type)                    Output Shape         Param #     Connected to                     \n",
      "==================================================================================================\n",
      "input_18 (InputLayer)           [(None, 256, 256, 3) 0                                            \n",
      "__________________________________________________________________________________________________\n",
      "block1_conv1 (Conv2D)           (None, 127, 127, 32) 864         input_18[0][0]                   \n",
      "__________________________________________________________________________________________________\n",
      "block1_conv1_bn (BatchNormaliza (None, 127, 127, 32) 128         block1_conv1[0][0]               \n",
      "__________________________________________________________________________________________________\n",
      "block1_conv1_act (Activation)   (None, 127, 127, 32) 0           block1_conv1_bn[0][0]            \n",
      "__________________________________________________________________________________________________\n",
      "block1_conv2 (Conv2D)           (None, 125, 125, 64) 18432       block1_conv1_act[0][0]           \n",
      "__________________________________________________________________________________________________\n",
      "block1_conv2_bn (BatchNormaliza (None, 125, 125, 64) 256         block1_conv2[0][0]               \n",
      "__________________________________________________________________________________________________\n",
      "block1_conv2_act (Activation)   (None, 125, 125, 64) 0           block1_conv2_bn[0][0]            \n",
      "__________________________________________________________________________________________________\n",
      "block2_sepconv1 (SeparableConv2 (None, 125, 125, 128 8768        block1_conv2_act[0][0]           \n",
      "__________________________________________________________________________________________________\n",
      "block2_sepconv1_bn (BatchNormal (None, 125, 125, 128 512         block2_sepconv1[0][0]            \n",
      "__________________________________________________________________________________________________\n",
      "block2_sepconv2_act (Activation (None, 125, 125, 128 0           block2_sepconv1_bn[0][0]         \n",
      "__________________________________________________________________________________________________\n",
      "block2_sepconv2 (SeparableConv2 (None, 125, 125, 128 17536       block2_sepconv2_act[0][0]        \n",
      "__________________________________________________________________________________________________\n",
      "block2_sepconv2_bn (BatchNormal (None, 125, 125, 128 512         block2_sepconv2[0][0]            \n",
      "__________________________________________________________________________________________________\n",
      "conv2d_36 (Conv2D)              (None, 63, 63, 128)  8192        block1_conv2_act[0][0]           \n",
      "__________________________________________________________________________________________________\n",
      "block2_pool (MaxPooling2D)      (None, 63, 63, 128)  0           block2_sepconv2_bn[0][0]         \n",
      "__________________________________________________________________________________________________\n",
      "batch_normalization_36 (BatchNo (None, 63, 63, 128)  512         conv2d_36[0][0]                  \n",
      "__________________________________________________________________________________________________\n",
      "add_108 (Add)                   (None, 63, 63, 128)  0           block2_pool[0][0]                \n",
      "                                                                 batch_normalization_36[0][0]     \n",
      "__________________________________________________________________________________________________\n",
      "block3_sepconv1_act (Activation (None, 63, 63, 128)  0           add_108[0][0]                    \n",
      "__________________________________________________________________________________________________\n",
      "block3_sepconv1 (SeparableConv2 (None, 63, 63, 256)  33920       block3_sepconv1_act[0][0]        \n",
      "__________________________________________________________________________________________________\n",
      "block3_sepconv1_bn (BatchNormal (None, 63, 63, 256)  1024        block3_sepconv1[0][0]            \n",
      "__________________________________________________________________________________________________\n",
      "block3_sepconv2_act (Activation (None, 63, 63, 256)  0           block3_sepconv1_bn[0][0]         \n",
      "__________________________________________________________________________________________________\n",
      "block3_sepconv2 (SeparableConv2 (None, 63, 63, 256)  67840       block3_sepconv2_act[0][0]        \n",
      "__________________________________________________________________________________________________\n",
      "block3_sepconv2_bn (BatchNormal (None, 63, 63, 256)  1024        block3_sepconv2[0][0]            \n",
      "__________________________________________________________________________________________________\n",
      "conv2d_37 (Conv2D)              (None, 32, 32, 256)  32768       add_108[0][0]                    \n",
      "__________________________________________________________________________________________________\n",
      "block3_pool (MaxPooling2D)      (None, 32, 32, 256)  0           block3_sepconv2_bn[0][0]         \n",
      "__________________________________________________________________________________________________\n",
      "batch_normalization_37 (BatchNo (None, 32, 32, 256)  1024        conv2d_37[0][0]                  \n",
      "__________________________________________________________________________________________________\n",
      "add_109 (Add)                   (None, 32, 32, 256)  0           block3_pool[0][0]                \n",
      "                                                                 batch_normalization_37[0][0]     \n",
      "__________________________________________________________________________________________________\n",
      "block4_sepconv1_act (Activation (None, 32, 32, 256)  0           add_109[0][0]                    \n",
      "__________________________________________________________________________________________________\n",
      "block4_sepconv1 (SeparableConv2 (None, 32, 32, 728)  188672      block4_sepconv1_act[0][0]        \n",
      "__________________________________________________________________________________________________\n",
      "block4_sepconv1_bn (BatchNormal (None, 32, 32, 728)  2912        block4_sepconv1[0][0]            \n",
      "__________________________________________________________________________________________________\n",
      "block4_sepconv2_act (Activation (None, 32, 32, 728)  0           block4_sepconv1_bn[0][0]         \n",
      "__________________________________________________________________________________________________\n",
      "block4_sepconv2 (SeparableConv2 (None, 32, 32, 728)  536536      block4_sepconv2_act[0][0]        \n",
      "__________________________________________________________________________________________________\n",
      "block4_sepconv2_bn (BatchNormal (None, 32, 32, 728)  2912        block4_sepconv2[0][0]            \n",
      "__________________________________________________________________________________________________\n",
      "conv2d_38 (Conv2D)              (None, 16, 16, 728)  186368      add_109[0][0]                    \n",
      "__________________________________________________________________________________________________\n",
      "block4_pool (MaxPooling2D)      (None, 16, 16, 728)  0           block4_sepconv2_bn[0][0]         \n",
      "__________________________________________________________________________________________________\n",
      "batch_normalization_38 (BatchNo (None, 16, 16, 728)  2912        conv2d_38[0][0]                  \n",
      "__________________________________________________________________________________________________\n",
      "add_110 (Add)                   (None, 16, 16, 728)  0           block4_pool[0][0]                \n",
      "                                                                 batch_normalization_38[0][0]     \n",
      "__________________________________________________________________________________________________\n",
      "block5_sepconv1_act (Activation (None, 16, 16, 728)  0           add_110[0][0]                    \n",
      "__________________________________________________________________________________________________\n",
      "block5_sepconv1 (SeparableConv2 (None, 16, 16, 728)  536536      block5_sepconv1_act[0][0]        \n",
      "__________________________________________________________________________________________________\n",
      "block5_sepconv1_bn (BatchNormal (None, 16, 16, 728)  2912        block5_sepconv1[0][0]            \n",
      "__________________________________________________________________________________________________\n",
      "block5_sepconv2_act (Activation (None, 16, 16, 728)  0           block5_sepconv1_bn[0][0]         \n",
      "__________________________________________________________________________________________________\n",
      "block5_sepconv2 (SeparableConv2 (None, 16, 16, 728)  536536      block5_sepconv2_act[0][0]        \n",
      "__________________________________________________________________________________________________\n",
      "block5_sepconv2_bn (BatchNormal (None, 16, 16, 728)  2912        block5_sepconv2[0][0]            \n",
      "__________________________________________________________________________________________________\n",
      "block5_sepconv3_act (Activation (None, 16, 16, 728)  0           block5_sepconv2_bn[0][0]         \n",
      "__________________________________________________________________________________________________\n",
      "block5_sepconv3 (SeparableConv2 (None, 16, 16, 728)  536536      block5_sepconv3_act[0][0]        \n",
      "__________________________________________________________________________________________________\n",
      "block5_sepconv3_bn (BatchNormal (None, 16, 16, 728)  2912        block5_sepconv3[0][0]            \n",
      "__________________________________________________________________________________________________\n",
      "add_111 (Add)                   (None, 16, 16, 728)  0           block5_sepconv3_bn[0][0]         \n",
      "                                                                 add_110[0][0]                    \n",
      "__________________________________________________________________________________________________\n",
      "block6_sepconv1_act (Activation (None, 16, 16, 728)  0           add_111[0][0]                    \n",
      "__________________________________________________________________________________________________\n",
      "block6_sepconv1 (SeparableConv2 (None, 16, 16, 728)  536536      block6_sepconv1_act[0][0]        \n",
      "__________________________________________________________________________________________________\n",
      "block6_sepconv1_bn (BatchNormal (None, 16, 16, 728)  2912        block6_sepconv1[0][0]            \n",
      "__________________________________________________________________________________________________\n",
      "block6_sepconv2_act (Activation (None, 16, 16, 728)  0           block6_sepconv1_bn[0][0]         \n",
      "__________________________________________________________________________________________________\n",
      "block6_sepconv2 (SeparableConv2 (None, 16, 16, 728)  536536      block6_sepconv2_act[0][0]        \n",
      "__________________________________________________________________________________________________\n",
      "block6_sepconv2_bn (BatchNormal (None, 16, 16, 728)  2912        block6_sepconv2[0][0]            \n",
      "__________________________________________________________________________________________________\n",
      "block6_sepconv3_act (Activation (None, 16, 16, 728)  0           block6_sepconv2_bn[0][0]         \n",
      "__________________________________________________________________________________________________\n",
      "block6_sepconv3 (SeparableConv2 (None, 16, 16, 728)  536536      block6_sepconv3_act[0][0]        \n",
      "__________________________________________________________________________________________________\n",
      "block6_sepconv3_bn (BatchNormal (None, 16, 16, 728)  2912        block6_sepconv3[0][0]            \n",
      "__________________________________________________________________________________________________\n",
      "add_112 (Add)                   (None, 16, 16, 728)  0           block6_sepconv3_bn[0][0]         \n",
      "                                                                 add_111[0][0]                    \n",
      "__________________________________________________________________________________________________\n",
      "block7_sepconv1_act (Activation (None, 16, 16, 728)  0           add_112[0][0]                    \n",
      "__________________________________________________________________________________________________\n",
      "block7_sepconv1 (SeparableConv2 (None, 16, 16, 728)  536536      block7_sepconv1_act[0][0]        \n",
      "__________________________________________________________________________________________________\n",
      "block7_sepconv1_bn (BatchNormal (None, 16, 16, 728)  2912        block7_sepconv1[0][0]            \n",
      "__________________________________________________________________________________________________\n",
      "block7_sepconv2_act (Activation (None, 16, 16, 728)  0           block7_sepconv1_bn[0][0]         \n",
      "__________________________________________________________________________________________________\n",
      "block7_sepconv2 (SeparableConv2 (None, 16, 16, 728)  536536      block7_sepconv2_act[0][0]        \n",
      "__________________________________________________________________________________________________\n",
      "block7_sepconv2_bn (BatchNormal (None, 16, 16, 728)  2912        block7_sepconv2[0][0]            \n",
      "__________________________________________________________________________________________________\n",
      "block7_sepconv3_act (Activation (None, 16, 16, 728)  0           block7_sepconv2_bn[0][0]         \n",
      "__________________________________________________________________________________________________\n",
      "block7_sepconv3 (SeparableConv2 (None, 16, 16, 728)  536536      block7_sepconv3_act[0][0]        \n",
      "__________________________________________________________________________________________________\n",
      "block7_sepconv3_bn (BatchNormal (None, 16, 16, 728)  2912        block7_sepconv3[0][0]            \n",
      "__________________________________________________________________________________________________\n",
      "add_113 (Add)                   (None, 16, 16, 728)  0           block7_sepconv3_bn[0][0]         \n",
      "                                                                 add_112[0][0]                    \n",
      "__________________________________________________________________________________________________\n",
      "block8_sepconv1_act (Activation (None, 16, 16, 728)  0           add_113[0][0]                    \n",
      "__________________________________________________________________________________________________\n",
      "block8_sepconv1 (SeparableConv2 (None, 16, 16, 728)  536536      block8_sepconv1_act[0][0]        \n",
      "__________________________________________________________________________________________________\n",
      "block8_sepconv1_bn (BatchNormal (None, 16, 16, 728)  2912        block8_sepconv1[0][0]            \n",
      "__________________________________________________________________________________________________\n",
      "block8_sepconv2_act (Activation (None, 16, 16, 728)  0           block8_sepconv1_bn[0][0]         \n",
      "__________________________________________________________________________________________________\n",
      "block8_sepconv2 (SeparableConv2 (None, 16, 16, 728)  536536      block8_sepconv2_act[0][0]        \n",
      "__________________________________________________________________________________________________\n",
      "block8_sepconv2_bn (BatchNormal (None, 16, 16, 728)  2912        block8_sepconv2[0][0]            \n",
      "__________________________________________________________________________________________________\n",
      "block8_sepconv3_act (Activation (None, 16, 16, 728)  0           block8_sepconv2_bn[0][0]         \n",
      "__________________________________________________________________________________________________\n",
      "block8_sepconv3 (SeparableConv2 (None, 16, 16, 728)  536536      block8_sepconv3_act[0][0]        \n",
      "__________________________________________________________________________________________________\n",
      "block8_sepconv3_bn (BatchNormal (None, 16, 16, 728)  2912        block8_sepconv3[0][0]            \n",
      "__________________________________________________________________________________________________\n",
      "add_114 (Add)                   (None, 16, 16, 728)  0           block8_sepconv3_bn[0][0]         \n",
      "                                                                 add_113[0][0]                    \n",
      "__________________________________________________________________________________________________\n",
      "block9_sepconv1_act (Activation (None, 16, 16, 728)  0           add_114[0][0]                    \n",
      "__________________________________________________________________________________________________\n",
      "block9_sepconv1 (SeparableConv2 (None, 16, 16, 728)  536536      block9_sepconv1_act[0][0]        \n",
      "__________________________________________________________________________________________________\n",
      "block9_sepconv1_bn (BatchNormal (None, 16, 16, 728)  2912        block9_sepconv1[0][0]            \n",
      "__________________________________________________________________________________________________\n",
      "block9_sepconv2_act (Activation (None, 16, 16, 728)  0           block9_sepconv1_bn[0][0]         \n",
      "__________________________________________________________________________________________________\n",
      "block9_sepconv2 (SeparableConv2 (None, 16, 16, 728)  536536      block9_sepconv2_act[0][0]        \n",
      "__________________________________________________________________________________________________\n",
      "block9_sepconv2_bn (BatchNormal (None, 16, 16, 728)  2912        block9_sepconv2[0][0]            \n",
      "__________________________________________________________________________________________________\n",
      "block9_sepconv3_act (Activation (None, 16, 16, 728)  0           block9_sepconv2_bn[0][0]         \n",
      "__________________________________________________________________________________________________\n",
      "block9_sepconv3 (SeparableConv2 (None, 16, 16, 728)  536536      block9_sepconv3_act[0][0]        \n",
      "__________________________________________________________________________________________________\n",
      "block9_sepconv3_bn (BatchNormal (None, 16, 16, 728)  2912        block9_sepconv3[0][0]            \n",
      "__________________________________________________________________________________________________\n",
      "add_115 (Add)                   (None, 16, 16, 728)  0           block9_sepconv3_bn[0][0]         \n",
      "                                                                 add_114[0][0]                    \n",
      "__________________________________________________________________________________________________\n",
      "block10_sepconv1_act (Activatio (None, 16, 16, 728)  0           add_115[0][0]                    \n",
      "__________________________________________________________________________________________________\n",
      "block10_sepconv1 (SeparableConv (None, 16, 16, 728)  536536      block10_sepconv1_act[0][0]       \n",
      "__________________________________________________________________________________________________\n",
      "block10_sepconv1_bn (BatchNorma (None, 16, 16, 728)  2912        block10_sepconv1[0][0]           \n",
      "__________________________________________________________________________________________________\n",
      "block10_sepconv2_act (Activatio (None, 16, 16, 728)  0           block10_sepconv1_bn[0][0]        \n",
      "__________________________________________________________________________________________________\n",
      "block10_sepconv2 (SeparableConv (None, 16, 16, 728)  536536      block10_sepconv2_act[0][0]       \n",
      "__________________________________________________________________________________________________\n",
      "block10_sepconv2_bn (BatchNorma (None, 16, 16, 728)  2912        block10_sepconv2[0][0]           \n",
      "__________________________________________________________________________________________________\n",
      "block10_sepconv3_act (Activatio (None, 16, 16, 728)  0           block10_sepconv2_bn[0][0]        \n",
      "__________________________________________________________________________________________________\n",
      "block10_sepconv3 (SeparableConv (None, 16, 16, 728)  536536      block10_sepconv3_act[0][0]       \n",
      "__________________________________________________________________________________________________\n",
      "block10_sepconv3_bn (BatchNorma (None, 16, 16, 728)  2912        block10_sepconv3[0][0]           \n",
      "__________________________________________________________________________________________________\n",
      "add_116 (Add)                   (None, 16, 16, 728)  0           block10_sepconv3_bn[0][0]        \n",
      "                                                                 add_115[0][0]                    \n",
      "__________________________________________________________________________________________________\n",
      "block11_sepconv1_act (Activatio (None, 16, 16, 728)  0           add_116[0][0]                    \n",
      "__________________________________________________________________________________________________\n",
      "block11_sepconv1 (SeparableConv (None, 16, 16, 728)  536536      block11_sepconv1_act[0][0]       \n",
      "__________________________________________________________________________________________________\n",
      "block11_sepconv1_bn (BatchNorma (None, 16, 16, 728)  2912        block11_sepconv1[0][0]           \n",
      "__________________________________________________________________________________________________\n",
      "block11_sepconv2_act (Activatio (None, 16, 16, 728)  0           block11_sepconv1_bn[0][0]        \n",
      "__________________________________________________________________________________________________\n",
      "block11_sepconv2 (SeparableConv (None, 16, 16, 728)  536536      block11_sepconv2_act[0][0]       \n",
      "__________________________________________________________________________________________________\n",
      "block11_sepconv2_bn (BatchNorma (None, 16, 16, 728)  2912        block11_sepconv2[0][0]           \n",
      "__________________________________________________________________________________________________\n",
      "block11_sepconv3_act (Activatio (None, 16, 16, 728)  0           block11_sepconv2_bn[0][0]        \n",
      "__________________________________________________________________________________________________\n",
      "block11_sepconv3 (SeparableConv (None, 16, 16, 728)  536536      block11_sepconv3_act[0][0]       \n",
      "__________________________________________________________________________________________________\n",
      "block11_sepconv3_bn (BatchNorma (None, 16, 16, 728)  2912        block11_sepconv3[0][0]           \n",
      "__________________________________________________________________________________________________\n",
      "add_117 (Add)                   (None, 16, 16, 728)  0           block11_sepconv3_bn[0][0]        \n",
      "                                                                 add_116[0][0]                    \n",
      "__________________________________________________________________________________________________\n",
      "block12_sepconv1_act (Activatio (None, 16, 16, 728)  0           add_117[0][0]                    \n",
      "__________________________________________________________________________________________________\n",
      "block12_sepconv1 (SeparableConv (None, 16, 16, 728)  536536      block12_sepconv1_act[0][0]       \n",
      "__________________________________________________________________________________________________\n",
      "block12_sepconv1_bn (BatchNorma (None, 16, 16, 728)  2912        block12_sepconv1[0][0]           \n",
      "__________________________________________________________________________________________________\n",
      "block12_sepconv2_act (Activatio (None, 16, 16, 728)  0           block12_sepconv1_bn[0][0]        \n",
      "__________________________________________________________________________________________________\n",
      "block12_sepconv2 (SeparableConv (None, 16, 16, 728)  536536      block12_sepconv2_act[0][0]       \n",
      "__________________________________________________________________________________________________\n",
      "block12_sepconv2_bn (BatchNorma (None, 16, 16, 728)  2912        block12_sepconv2[0][0]           \n",
      "__________________________________________________________________________________________________\n",
      "block12_sepconv3_act (Activatio (None, 16, 16, 728)  0           block12_sepconv2_bn[0][0]        \n",
      "__________________________________________________________________________________________________\n",
      "block12_sepconv3 (SeparableConv (None, 16, 16, 728)  536536      block12_sepconv3_act[0][0]       \n",
      "__________________________________________________________________________________________________\n",
      "block12_sepconv3_bn (BatchNorma (None, 16, 16, 728)  2912        block12_sepconv3[0][0]           \n",
      "__________________________________________________________________________________________________\n",
      "add_118 (Add)                   (None, 16, 16, 728)  0           block12_sepconv3_bn[0][0]        \n",
      "                                                                 add_117[0][0]                    \n",
      "__________________________________________________________________________________________________\n",
      "block13_sepconv1_act (Activatio (None, 16, 16, 728)  0           add_118[0][0]                    \n",
      "__________________________________________________________________________________________________\n",
      "block13_sepconv1 (SeparableConv (None, 16, 16, 728)  536536      block13_sepconv1_act[0][0]       \n",
      "__________________________________________________________________________________________________\n",
      "block13_sepconv1_bn (BatchNorma (None, 16, 16, 728)  2912        block13_sepconv1[0][0]           \n",
      "__________________________________________________________________________________________________\n",
      "block13_sepconv2_act (Activatio (None, 16, 16, 728)  0           block13_sepconv1_bn[0][0]        \n",
      "__________________________________________________________________________________________________\n",
      "block13_sepconv2 (SeparableConv (None, 16, 16, 1024) 752024      block13_sepconv2_act[0][0]       \n",
      "__________________________________________________________________________________________________\n",
      "block13_sepconv2_bn (BatchNorma (None, 16, 16, 1024) 4096        block13_sepconv2[0][0]           \n",
      "__________________________________________________________________________________________________\n",
      "conv2d_39 (Conv2D)              (None, 8, 8, 1024)   745472      add_118[0][0]                    \n",
      "__________________________________________________________________________________________________\n",
      "block13_pool (MaxPooling2D)     (None, 8, 8, 1024)   0           block13_sepconv2_bn[0][0]        \n",
      "__________________________________________________________________________________________________\n",
      "batch_normalization_39 (BatchNo (None, 8, 8, 1024)   4096        conv2d_39[0][0]                  \n",
      "__________________________________________________________________________________________________\n",
      "add_119 (Add)                   (None, 8, 8, 1024)   0           block13_pool[0][0]               \n",
      "                                                                 batch_normalization_39[0][0]     \n",
      "__________________________________________________________________________________________________\n",
      "block14_sepconv1 (SeparableConv (None, 8, 8, 1536)   1582080     add_119[0][0]                    \n",
      "__________________________________________________________________________________________________\n",
      "block14_sepconv1_bn (BatchNorma (None, 8, 8, 1536)   6144        block14_sepconv1[0][0]           \n",
      "__________________________________________________________________________________________________\n",
      "block14_sepconv1_act (Activatio (None, 8, 8, 1536)   0           block14_sepconv1_bn[0][0]        \n",
      "__________________________________________________________________________________________________\n",
      "block14_sepconv2 (SeparableConv (None, 8, 8, 2048)   3159552     block14_sepconv1_act[0][0]       \n",
      "__________________________________________________________________________________________________\n",
      "block14_sepconv2_bn (BatchNorma (None, 8, 8, 2048)   8192        block14_sepconv2[0][0]           \n",
      "__________________________________________________________________________________________________\n",
      "block14_sepconv2_act (Activatio (None, 8, 8, 2048)   0           block14_sepconv2_bn[0][0]        \n",
      "__________________________________________________________________________________________________\n",
      "global_average_pooling2d_10 (Gl (None, 2048)         0           block14_sepconv2_act[0][0]       \n",
      "__________________________________________________________________________________________________\n",
      "dense_23 (Dense)                (None, 64)           131136      global_average_pooling2d_10[0][0]\n",
      "__________________________________________________________________________________________________\n",
      "dropout_10 (Dropout)            (None, 64)           0           dense_23[0][0]                   \n",
      "__________________________________________________________________________________________________\n",
      "dense_24 (Dense)                (None, 512)          33280       dropout_10[0][0]                 \n",
      "__________________________________________________________________________________________________\n",
      "dense_25 (Dense)                (None, 3)            1539        dense_24[0][0]                   \n",
      "==================================================================================================\n",
      "Total params: 21,027,435\n",
      "Trainable params: 6,417,803\n",
      "Non-trainable params: 14,609,632\n",
      "__________________________________________________________________________________________________\n"
     ]
    }
   ],
   "source": [
    "model.summary()"
   ]
  },
  {
   "cell_type": "code",
   "execution_count": null,
   "id": "bf3f44fc",
   "metadata": {},
   "outputs": [
    {
     "name": "stdout",
     "output_type": "stream",
     "text": [
      "Epoch 1/20\n",
      "Epoch 1/20\n",
      "167/167 - 142s - loss: 1.0994 - acc: 0.3358 - val_loss: 1.1172 - val_acc: 0.3257\n",
      "Epoch 2/20\n",
      "Epoch 1/20\n",
      "167/167 - 125s - loss: 1.0967 - acc: 0.3498 - val_loss: 1.1080 - val_acc: 0.3304\n",
      "Epoch 3/20\n",
      "Epoch 1/20\n",
      "167/167 - 125s - loss: 1.0953 - acc: 0.3567 - val_loss: 1.1017 - val_acc: 0.3407\n",
      "Epoch 4/20\n"
     ]
    }
   ],
   "source": [
    "# Afinar la modelo\n",
    "\n",
    "epochs_ft = 20\n",
    "\n",
    "with tensorflow.device('DML'):\n",
    "    earlystopper = EarlyStopping(monitor='val_loss',\n",
    "                             min_delta=0, \n",
    "                             patience=10, # maximo epochs\n",
    "                             verbose=1,\n",
    "                             restore_best_weights=True,\n",
    "                             mode='auto')\n",
    "    \n",
    "    model.fit_generator(train_batches,\n",
    "                        epochs=epochs_ft,\n",
    "                        validation_data=valid_batches,\n",
    "                        verbose=2,\n",
    "                        callbacks = [earlystopper])"
   ]
  },
  {
   "cell_type": "markdown",
   "id": "3766f017",
   "metadata": {},
   "source": [
    "## Prediccion modelo afinado Xception model (Modelo afinado)"
   ]
  },
  {
   "cell_type": "code",
   "execution_count": null,
   "id": "dad93211",
   "metadata": {},
   "outputs": [],
   "source": [
    "predictions = model.predict(x=test_batches, verbose=0)"
   ]
  },
  {
   "cell_type": "code",
   "execution_count": null,
   "id": "84f2f4b9",
   "metadata": {},
   "outputs": [],
   "source": [
    "cm = confusion_matrix(y_true = test_batches.classes, \n",
    "                      y_pred = np.argmax(predictions, axis=-1))"
   ]
  },
  {
   "cell_type": "code",
   "execution_count": null,
   "id": "d19f807a",
   "metadata": {},
   "outputs": [],
   "source": [
    "target_names = ('AD', 'CN', 'MCI')\n",
    "plot_confusion_matrix(cm, target_names)"
   ]
  },
  {
   "cell_type": "markdown",
   "id": "9aa85d3a",
   "metadata": {},
   "source": [
    "## Visualizar resultados del entrenamiento (Modelo afinado)"
   ]
  },
  {
   "cell_type": "code",
   "execution_count": null,
   "id": "50c41756",
   "metadata": {},
   "outputs": [],
   "source": [
    "print(model.history.history.keys())"
   ]
  },
  {
   "cell_type": "code",
   "execution_count": null,
   "id": "578ceb33",
   "metadata": {},
   "outputs": [],
   "source": [
    "acc = model.history.history['acc']\n",
    "val_acc = model.history.history['val_acc']\n",
    "loss = model.history.history['loss']\n",
    "val_loss = model.history.history['val_loss']\n",
    "\n",
    "print(acc)\n",
    "print(val_acc)\n",
    "print(loss)\n",
    "print(val_loss)"
   ]
  },
  {
   "cell_type": "code",
   "execution_count": null,
   "id": "e2ba2121",
   "metadata": {},
   "outputs": [],
   "source": [
    "acc = model.history.history['acc']\n",
    "val_acc = model.history.history['val_acc']\n",
    "\n",
    "loss = model.history.history['loss']\n",
    "val_loss = model.history.history['val_loss']\n",
    "\n",
    "epochs_range = range(epochs_ft)\n",
    "\n",
    "plt.figure(figsize=(15, 5))\n",
    "plt.plot(epochs_range, acc, label='Training Accuracy')\n",
    "plt.plot(epochs_range, val_acc, label='Validation Accuracy')\n",
    "plt.legend(loc='lower right')\n",
    "plt.title('Training and Validation Accuracy')\n",
    "plt.show()"
   ]
  },
  {
   "cell_type": "code",
   "execution_count": null,
   "id": "e63fd2df",
   "metadata": {},
   "outputs": [],
   "source": [
    "plt.figure(figsize=(15, 5))\n",
    "plt.plot(epochs_range, loss, label='Training Loss')\n",
    "plt.plot(epochs_range, val_loss, label='Validation Loss')\n",
    "plt.legend(loc='upper right')\n",
    "plt.title('Training and Validation Loss')\n",
    "plt.show()"
   ]
  },
  {
   "cell_type": "code",
   "execution_count": null,
   "id": "7f86a936",
   "metadata": {},
   "outputs": [],
   "source": [
    "from sklearn.metrics import classification_report\n",
    "\n",
    "y_true = test_batches.classes\n",
    "y_pred = np.argmax(predictions, axis=-1)\n",
    "target_names = ('AD', 'CN', 'MCI')\n",
    "\n",
    "print(classification_report(y_true, y_pred, target_names=target_names))"
   ]
  },
  {
   "cell_type": "markdown",
   "id": "88dfd756",
   "metadata": {},
   "source": [
    "Como puede ver en los gráficos, la precisión del entrenamiento y la precisión de la validación están desfasadas por un amplio margen y el modelo ha logrado solo alrededor del 92 % de precisión en el conjunto de validación.\n",
    "\n",
    "Veamos qué salió mal e intentemos aumentar el rendimiento general del modelo."
   ]
  },
  {
   "cell_type": "markdown",
   "id": "4a23ae9e",
   "metadata": {},
   "source": [
    "## Sobreajuste"
   ]
  },
  {
   "cell_type": "markdown",
   "id": "590df3ca",
   "metadata": {},
   "source": [
    "En los gráficos anteriores, la precisión del entrenamiento aumenta linealmente con el tiempo, mientras que la precisión de la validación se detiene alrededor del 35 % en el proceso de entrenamiento. Además, la diferencia en la precisión entre la precisión del entrenamiento y la validación es notable, un signo de sobreajuste .\n",
    "\n",
    "Cuando hay una pequeña cantidad de ejemplos de entrenamiento, el modelo a veces aprende de los ruidos o detalles no deseados de los ejemplos de entrenamiento, hasta el punto de afectar negativamente el rendimiento del modelo en los nuevos ejemplos. Este fenómeno se conoce como sobreajuste. Significa que el modelo tendrá dificultades para generalizar en un nuevo conjunto de datos.\n",
    "\n",
    "Hay múltiples formas de combatir el sobreajuste en el proceso de entrenamiento:\n",
    "\n",
    "- Aumento de datos (aplicada)\n",
    "- Aplicar giro horizontal (aplicada)\n",
    "- Rotar aleatoriamente la imagen (aplicada)\n",
    "- Aplicar aumento de zoom (aplicada)\n",
    "- Dropout"
   ]
  },
  {
   "cell_type": "markdown",
   "id": "806c0acc",
   "metadata": {},
   "source": [
    "## Dropout"
   ]
  },
  {
   "cell_type": "markdown",
   "id": "1253e3fa",
   "metadata": {},
   "source": [
    "técnica para reducir el sobreajuste es introducir deserción en la red. Es una forma de regularización que obliga a los pesos de la red a tomar solo valores pequeños, lo que hace que la distribución de los valores de peso sea más regular y la red puede reducir el sobreajuste en ejemplos de entrenamiento pequeños. Dropout es una de las técnicas de regularización utilizadas.\n",
    "\n",
    "Cuando aplica abandono a una capa, elimina aleatoriamente (establecido en cero) un número de unidades de salida de la capa aplicada durante el proceso de entrenamiento. Dropout toma un número fraccionario como su valor de entrada, en forma de 0.1, 0.2, 0.4, etc. Esto significa eliminar aleatoriamente el 10%, 20% o 40% de las unidades de salida de la capa aplicada.\n",
    "\n",
    "Cuando se aplica un abandono de 0,1 a una determinada capa, elimina aleatoriamente el 10 % de las unidades de salida en cada época de entrenamiento."
   ]
  },
  {
   "cell_type": "markdown",
   "id": "916074b4",
   "metadata": {},
   "source": [
    "### Creando una nueva red con Dropouts"
   ]
  },
  {
   "cell_type": "markdown",
   "id": "c1f409c4",
   "metadata": {},
   "source": [
    "Aquí, aplica el abandono a la primera y la última capa de agrupación máxima y a una capa completamente conectada que tiene 512 unidades de salida. El 30 % de la primera y la última capa de agrupación máxima, y ​​el 10 % de las unidades de salida de capa completamente conectadas, se establecen aleatoriamente en cero durante cada época de entrenamiento."
   ]
  },
  {
   "cell_type": "markdown",
   "id": "6a142710",
   "metadata": {},
   "source": [
    "https://www.kaggle.com/code/voandy/transfer-learning-fine-tuning-xception-98-7-acc/script\n",
    "\n",
    "https://colab.research.google.com/github/tensorflow/docs/blob/snapshot-keras/site/en/guide/keras/transfer_learning.ipynb#scrollTo=4235d0c69821"
   ]
  },
  {
   "cell_type": "markdown",
   "id": "1ae62e78",
   "metadata": {},
   "source": [
    "https://www.analyticsvidhya.com/blog/2020/10/create-image-classification-model-python-keras/\n",
    "https://learnopencv.com/keras-tutorial-fine-tuning-using-pre-trained-models/"
   ]
  },
  {
   "cell_type": "markdown",
   "id": "882809a2",
   "metadata": {},
   "source": [
    "https://www.analyticsvidhya.com/blog/2020/10/create-image-classification-model-python-keras/"
   ]
  },
  {
   "cell_type": "markdown",
   "id": "761978f4",
   "metadata": {},
   "source": [
    "https://www.tensorflow.org/api_docs/python/tf/keras/metrics/Recall"
   ]
  },
  {
   "cell_type": "markdown",
   "id": "2813ce57",
   "metadata": {},
   "source": [
    "https://androidkt.com/precision-recall-and-f1/"
   ]
  },
  {
   "cell_type": "markdown",
   "id": "5f000310",
   "metadata": {},
   "source": [
    "https://keras.io/api/preprocessing/image/"
   ]
  },
  {
   "cell_type": "markdown",
   "id": "ea0eded3",
   "metadata": {},
   "source": [
    "https://www.kaggle.com/datasets/tourist55/alzheimers-dataset-4-class-of-images"
   ]
  },
  {
   "cell_type": "markdown",
   "id": "9801d913",
   "metadata": {},
   "source": [
    "https://towardsdatascience.com/alzheimer-diagnosis-with-deep-learning-a-survey-265406fa542a\n",
    "\n",
    "https://www.youtube.com/watch?v=3V9YFPfgyAY"
   ]
  },
  {
   "cell_type": "markdown",
   "id": "09f2e9f6",
   "metadata": {},
   "source": [
    "https://github.com/Yale-Deep-Learning-for-Alzheimers/Alzheimers-DL-Network"
   ]
  },
  {
   "cell_type": "markdown",
   "id": "8b19c491",
   "metadata": {},
   "source": [
    "https://www.kaggle.com/code/muneebkhurram/alzheimer-mri-classification"
   ]
  },
  {
   "cell_type": "markdown",
   "id": "eb5b6a73",
   "metadata": {},
   "source": [
    "0. Image Preparation for Convolutional Neural Networks with TensorFlow's Keras API\n",
    "https://www.youtube.com/watch?v=_L2uYfVV48I&list=PLZbbT5o_s2xrwRnXk_yCPtnqqo4_u2YGL&index=10\n",
    "\n",
    "0.1 Data Augmentation with TensorFlow's Keras API\n",
    "https://www.youtube.com/watch?v=WSvpLUietIM&list=PLZbbT5o_s2xrwRnXk_yCPtnqqo4_u2YGL&index=14\n",
    "\n",
    "1.Keras with TensorFlow - Data Processing for Neural Network Training\n",
    "https://www.youtube.com/watch?v=3FwGDUD_ZuQ&list=PLZbbT5o_s2xrwRnXk_yCPtnqqo4_u2YGL&index=3\n",
    "\n",
    "2.Build and Train a Convolutional Neural Network with TensorFlow's Keras API\n",
    "https://www.youtube.com/watch?v=3V9YFPfgyAY&t=326s\n",
    "\n",
    "3.Keras with TensorFlow Prerequisites - Getting Started With Neural Networks\n",
    "https://www.youtube.com/watch?v=e47ISlpYFok\n",
    "\n",
    "4.Train a Fine-Tuned Neural Network with TensorFlow's Keras API\n",
    "https://www.youtube.com/watch?v=TguZ0WK0orQ\n",
    "\n",
    "5.Create a Confusion Matrix for Neural Network Predictions\n",
    "https://www.youtube.com/watch?v=VYGVOwlT4oE&list=PLZbbT5o_s2xrwRnXk_yCPtnqqo4_u2YGL&index=9\n",
    "\n",
    "6.MobileNet Image Classification with TensorFlow's Keras API\n",
    "https://www.youtube.com/watch?v=5JAZiue-fzY&list=PLZbbT5o_s2xrwRnXk_yCPtnqqo4_u2YGL&index=19\n",
    "\n",
    "7.Save and Load a Model with TensorFlow's Keras API\n",
    "https://www.youtube.com/watch?v=8Nl-of5C3uA&list=PLZbbT5o_s2xrwRnXk_yCPtnqqo4_u2YGL&index=10"
   ]
  },
  {
   "cell_type": "markdown",
   "id": "61117e73",
   "metadata": {},
   "source": [
    "https://keras.io/api/applications/"
   ]
  },
  {
   "cell_type": "markdown",
   "id": "736d0513",
   "metadata": {},
   "source": [
    "https://note.nkmk.me/python-tensorflow-keras-applications-pretrained-models/"
   ]
  },
  {
   "cell_type": "code",
   "execution_count": null,
   "id": "f95b1961",
   "metadata": {},
   "outputs": [],
   "source": []
  }
 ],
 "metadata": {
  "kernelspec": {
   "display_name": "gpu_tfm_unir",
   "language": "python",
   "name": "gpu_tfm_unir"
  },
  "language_info": {
   "codemirror_mode": {
    "name": "ipython",
    "version": 3
   },
   "file_extension": ".py",
   "mimetype": "text/x-python",
   "name": "python",
   "nbconvert_exporter": "python",
   "pygments_lexer": "ipython3",
   "version": "3.6.13"
  }
 },
 "nbformat": 4,
 "nbformat_minor": 5
}
