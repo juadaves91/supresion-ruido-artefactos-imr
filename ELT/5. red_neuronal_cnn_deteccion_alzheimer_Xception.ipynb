{
 "cells": [
  {
   "cell_type": "markdown",
   "id": "217a3d2e",
   "metadata": {},
   "source": [
    "<img src=\"https://www.unir.net/wp-content/uploads/2019/11/Unir_2021_logo.svg\" width=\"240\" height=\"240\" align=\"right\"/>"
   ]
  },
  {
   "cell_type": "markdown",
   "id": "5c36edf2",
   "metadata": {},
   "source": [
    "<span>\n",
    "<h2>Eliminación de ruido en imagenes de resonancia magnetica, mediante red neuronal convolucional CNN </h2> \n",
    "</span>"
   ]
  },
  {
   "cell_type": "markdown",
   "id": "a78f2c7b",
   "metadata": {},
   "source": [
    "https://www.kaggle.com/code/voandy/transfer-learning-fine-tuning-xception-98-7-acc/script\n",
    "\n",
    "https://colab.research.google.com/github/tensorflow/docs/blob/snapshot-keras/site/en/guide/keras/transfer_learning.ipynb#scrollTo=4235d0c69821"
   ]
  },
  {
   "cell_type": "markdown",
   "id": "edea9d0f",
   "metadata": {},
   "source": [
    "## Instalar librerías"
   ]
  },
  {
   "cell_type": "code",
   "execution_count": null,
   "id": "c17c102e",
   "metadata": {},
   "outputs": [],
   "source": [
    "import warnings\n",
    "warnings.simplefilter('ignore', category=FutureWarning)"
   ]
  },
  {
   "cell_type": "code",
   "execution_count": null,
   "id": "452d1720",
   "metadata": {},
   "outputs": [],
   "source": [
    "pip install tf-nightly"
   ]
  },
  {
   "cell_type": "code",
   "execution_count": null,
   "id": "02996336",
   "metadata": {},
   "outputs": [],
   "source": [
    "pip install h5py"
   ]
  },
  {
   "cell_type": "code",
   "execution_count": null,
   "id": "6de0b3a8",
   "metadata": {},
   "outputs": [],
   "source": [
    "pip install scikit-learn"
   ]
  },
  {
   "cell_type": "code",
   "execution_count": null,
   "id": "17fc3746",
   "metadata": {},
   "outputs": [],
   "source": [
    "!pip uninstall tensorflow-directml"
   ]
  },
  {
   "cell_type": "code",
   "execution_count": null,
   "id": "d8378ad6",
   "metadata": {},
   "outputs": [],
   "source": [
    "!pip install matplotlib"
   ]
  },
  {
   "cell_type": "code",
   "execution_count": null,
   "id": "1c012353",
   "metadata": {},
   "outputs": [],
   "source": [
    "!pip install opencv-python"
   ]
  },
  {
   "cell_type": "code",
   "execution_count": null,
   "id": "733eaeb1",
   "metadata": {},
   "outputs": [],
   "source": [
    "!pip install pillow"
   ]
  },
  {
   "cell_type": "code",
   "execution_count": 1,
   "id": "00a0dbb5",
   "metadata": {},
   "outputs": [],
   "source": [
    "import sys\n",
    "from PIL import Image\n",
    "sys.modules['Image'] = Image "
   ]
  },
  {
   "cell_type": "markdown",
   "id": "044224dd",
   "metadata": {},
   "source": [
    "## Importar librerías"
   ]
  },
  {
   "cell_type": "code",
   "execution_count": 2,
   "id": "11b3a8a4",
   "metadata": {},
   "outputs": [],
   "source": [
    "import warnings\n",
    "warnings.simplefilter('ignore', category=FutureWarning)\n",
    " \n",
    "import tensorflow\n",
    "from tensorflow import keras\n",
    "from tensorflow.keras.models import Sequential\n",
    "from tensorflow.keras.layers import Activation, Dense, Flatten, BatchNormalization, Conv2D, MaxPool2D\n",
    "from tensorflow.keras.optimizers import Adam\n",
    "from tensorflow.keras.metrics import categorical_crossentropy\n",
    "from tensorflow.keras.preprocessing.image import ImageDataGenerator\n",
    "from tensorflow.keras.preprocessing import image\n",
    "from tensorflow.keras.applications import imagenet_utils\n",
    "from sklearn.metrics import confusion_matrix\n",
    "import itertools\n",
    "import shutil\n",
    "import random\n",
    "import glob\n",
    "import matplotlib.pyplot as plt\n",
    "import cv2\n",
    "import datetime\n",
    "import time\n",
    "import numpy as np\n",
    "from sklearn.metrics import plot_confusion_matrix\n",
    "\n",
    "import os.path\n",
    "from tensorflow.keras import Model, optimizers\n",
    "from tensorflow.keras.applications import xception\n",
    "from tensorflow.keras.layers import GlobalAveragePooling2D, Dense\n",
    "from tensorflow.keras.preprocessing.image import ImageDataGenerator\n",
    "from keras.callbacks import EarlyStopping"
   ]
  },
  {
   "cell_type": "markdown",
   "id": "713c5ed3",
   "metadata": {},
   "source": [
    "## Configurar GPU con TensorFlow"
   ]
  },
  {
   "cell_type": "code",
   "execution_count": 4,
   "id": "9f90b773",
   "metadata": {
    "scrolled": true
   },
   "outputs": [
    {
     "name": "stdout",
     "output_type": "stream",
     "text": [
      "Num GPUs available 0\n",
      "/device:DML:0\n",
      "True\n"
     ]
    }
   ],
   "source": [
    "tensorflow.test.is_gpu_available()\n",
    "print(\"Num GPUs available\", len(tensorflow.config.experimental.list_physical_devices('GPU')))\n",
    "\n",
    "print(tensorflow.test.gpu_device_name())\n",
    "print(tensorflow.test.is_gpu_available())"
   ]
  },
  {
   "cell_type": "markdown",
   "id": "16a38f6a",
   "metadata": {},
   "source": [
    "## Preparacion de imagenes"
   ]
  },
  {
   "cell_type": "markdown",
   "id": "0c9f4c52",
   "metadata": {},
   "source": [
    "### Definir conjuntos de datos"
   ]
  },
  {
   "cell_type": "markdown",
   "id": "d2d473b4",
   "metadata": {},
   "source": [
    "#### Definir variables de entrenamiento, validacion y prueba"
   ]
  },
  {
   "cell_type": "code",
   "execution_count": 3,
   "id": "ddf58186",
   "metadata": {},
   "outputs": [],
   "source": [
    "# Entrenamiento\n",
    "path_train = 'D:/ADNI - IDA/ADNI1_Complete 1Yr 1.5T/ADNI-PRE-PROCESAMIENTO/ENTRENAMIENTO/' \n",
    "\n",
    "# Validacion\n",
    "path_val = 'D:/ADNI - IDA/ADNI1_Complete 1Yr 1.5T/ADNI-PRE-PROCESAMIENTO/VALIDACION/' \n",
    "\n",
    "# Pruebas\n",
    "path_test = r'D:/ADNI - IDA/ADNI1_Complete 1Yr 1.5T/ADNI-PRE-PROCESAMIENTO/PRUEBA/'"
   ]
  },
  {
   "cell_type": "markdown",
   "id": "2eff27bb",
   "metadata": {},
   "source": [
    "### Definir conjuntos de datos en formato KERAS"
   ]
  },
  {
   "cell_type": "code",
   "execution_count": 26,
   "id": "17ee933d",
   "metadata": {},
   "outputs": [
    {
     "name": "stdout",
     "output_type": "stream",
     "text": [
      "Found 5343 images belonging to 3 classes.\n",
      "Found 1265 images belonging to 3 classes.\n",
      "Found 63 images belonging to 3 classes.\n"
     ]
    }
   ],
   "source": [
    "# Generacion de lotes de datos para modelo en Keras en formato vgg16\n",
    "\n",
    "img_width = 256\n",
    "img_height = 256\n",
    "batch_size = 32\n",
    "\n",
    "# Entrenamiento\n",
    "train_batches = ImageDataGenerator(preprocessing_function=tensorflow.keras.applications.xception.preprocess_input) \\\n",
    "    .flow_from_directory(directory=path_train,\n",
    "                         target_size=(img_width,img_height),\n",
    "                         classes=['AD','CN','MCI'],\n",
    "                         batch_size=batch_size)\n",
    "\n",
    "# Validacion\n",
    "valid_batches = ImageDataGenerator(preprocessing_function=tensorflow.keras.applications.xception.preprocess_input) \\\n",
    "    .flow_from_directory(directory=path_val,\n",
    "                         target_size=(img_width,img_height),\n",
    "                         classes=['AD','CN','MCI'],\n",
    "                         batch_size=batch_size)\n",
    "\n",
    "# Pruebas\n",
    "test_batches = ImageDataGenerator(preprocessing_function=tensorflow.keras.applications.xception.preprocess_input) \\\n",
    "    .flow_from_directory(directory=path_test,\n",
    "                         target_size=(img_width,img_height),\n",
    "                         classes=['AD','CN','MCI'],\n",
    "                         batch_size=batch_size, \n",
    "                         shuffle=False)"
   ]
  },
  {
   "cell_type": "code",
   "execution_count": 27,
   "id": "c8e939d0",
   "metadata": {},
   "outputs": [],
   "source": [
    "assert train_batches.n == 5343 \n",
    "assert valid_batches.n == 1265   \n",
    "assert test_batches.n == 63  \n",
    "assert train_batches.num_classes == valid_batches.num_classes == test_batches.num_classes == 3 "
   ]
  },
  {
   "cell_type": "code",
   "execution_count": 28,
   "id": "3d20946a",
   "metadata": {},
   "outputs": [],
   "source": [
    "imgs, labels = next(train_batches)"
   ]
  },
  {
   "cell_type": "code",
   "execution_count": 29,
   "id": "6bc5a44f",
   "metadata": {},
   "outputs": [],
   "source": [
    "\"\"\"Esta funcion mostrara imagenes en un grid con 1 fila y 10 columnas\n",
    "\n",
    "Parameters\n",
    "----------\n",
    "list : numpy.ndarray\n",
    "\"\"\"\n",
    "\n",
    "def plotImages(images_arr):\n",
    "    fig, axes = plt.subplots(1, 10, figsize=(20,20))\n",
    "    axes =  axes.flatten()\n",
    "    for img, ax in zip(images_arr, axes):\n",
    "        ax.imshow(img, cmap='gray', vmin=0, vmax=255)\n",
    "        ax.axis('off')\n",
    "    plt.tight_layout()\n",
    "    plt.show()"
   ]
  },
  {
   "cell_type": "code",
   "execution_count": 30,
   "id": "e2f5f2fc",
   "metadata": {},
   "outputs": [
    {
     "data": {
      "text/plain": [
       "(256, 256, 3)"
      ]
     },
     "execution_count": 30,
     "metadata": {},
     "output_type": "execute_result"
    }
   ],
   "source": [
    "imgs[0].shape"
   ]
  },
  {
   "cell_type": "code",
   "execution_count": 31,
   "id": "a887766e",
   "metadata": {},
   "outputs": [
    {
     "name": "stderr",
     "output_type": "stream",
     "text": [
      "Clipping input data to the valid range for imshow with RGB data ([0..1] for floats or [0..255] for integers).\n",
      "Clipping input data to the valid range for imshow with RGB data ([0..1] for floats or [0..255] for integers).\n",
      "Clipping input data to the valid range for imshow with RGB data ([0..1] for floats or [0..255] for integers).\n",
      "Clipping input data to the valid range for imshow with RGB data ([0..1] for floats or [0..255] for integers).\n",
      "Clipping input data to the valid range for imshow with RGB data ([0..1] for floats or [0..255] for integers).\n",
      "Clipping input data to the valid range for imshow with RGB data ([0..1] for floats or [0..255] for integers).\n",
      "Clipping input data to the valid range for imshow with RGB data ([0..1] for floats or [0..255] for integers).\n",
      "Clipping input data to the valid range for imshow with RGB data ([0..1] for floats or [0..255] for integers).\n",
      "Clipping input data to the valid range for imshow with RGB data ([0..1] for floats or [0..255] for integers).\n",
      "Clipping input data to the valid range for imshow with RGB data ([0..1] for floats or [0..255] for integers).\n"
     ]
    },
    {
     "data": {
      "image/png": "[encoded data removed]",
      "text/plain": [
       "<Figure size 1440x1440 with 10 Axes>"
      ]
     },
     "metadata": {
      "needs_background": "light"
     },
     "output_type": "display_data"
    },
    {
     "name": "stdout",
     "output_type": "stream",
     "text": [
      "[[0. 1. 0.]\n",
      " [0. 0. 1.]\n",
      " [1. 0. 0.]\n",
      " [0. 0. 1.]\n",
      " [1. 0. 0.]\n",
      " [0. 1. 0.]\n",
      " [0. 0. 1.]\n",
      " [0. 0. 1.]\n",
      " [0. 1. 0.]\n",
      " [1. 0. 0.]\n",
      " [0. 0. 1.]\n",
      " [1. 0. 0.]\n",
      " [1. 0. 0.]\n",
      " [0. 1. 0.]\n",
      " [0. 0. 1.]\n",
      " [0. 0. 1.]\n",
      " [0. 0. 1.]\n",
      " [1. 0. 0.]\n",
      " [0. 0. 1.]\n",
      " [0. 1. 0.]\n",
      " [0. 0. 1.]\n",
      " [0. 0. 1.]\n",
      " [0. 1. 0.]\n",
      " [0. 0. 1.]\n",
      " [1. 0. 0.]\n",
      " [0. 1. 0.]\n",
      " [0. 0. 1.]\n",
      " [0. 0. 1.]\n",
      " [0. 1. 0.]\n",
      " [0. 0. 1.]\n",
      " [0. 0. 1.]\n",
      " [1. 0. 0.]]\n"
     ]
    }
   ],
   "source": [
    "plotImages(imgs)\n",
    "print(labels)"
   ]
  },
  {
   "cell_type": "markdown",
   "id": "9f58917b",
   "metadata": {},
   "source": [
    "## Construccion y entrenamiento del modelo CNN - Xception"
   ]
  },
  {
   "cell_type": "code",
   "execution_count": 33,
   "id": "fc1017b6",
   "metadata": {},
   "outputs": [
    {
     "name": "stdout",
     "output_type": "stream",
     "text": [
      "Model: \"model_4\"\n",
      "_________________________________________________________________\n",
      "Layer (type)                 Output Shape              Param #   \n",
      "=================================================================\n",
      "input_9 (InputLayer)         [(None, 256, 256, 3)]     0         \n",
      "_________________________________________________________________\n",
      "xception (Model)             (None, 2048)              20861480  \n",
      "_________________________________________________________________\n",
      "dense_9 (Dense)              (None, 64)                131136    \n",
      "_________________________________________________________________\n",
      "dropout_4 (Dropout)          (None, 64)                0         \n",
      "_________________________________________________________________\n",
      "dense_10 (Dense)             (None, 3)                 195       \n",
      "=================================================================\n",
      "Total params: 20,992,811\n",
      "Trainable params: 131,331\n",
      "Non-trainable params: 20,861,480\n",
      "_________________________________________________________________\n"
     ]
    }
   ],
   "source": [
    "with tensorflow.device('DML'):\n",
    "    IMG_SHAPE = (256, 256, 3)\n",
    "\n",
    "    base_model = xception.Xception(input_shape=IMG_SHAPE, \n",
    "                                   include_top=False,\n",
    "                                   weights='imagenet',\n",
    "                                   pooling='avg')\n",
    "    base_model.trainable = False\n",
    "\n",
    "    inputs = tensorflow.keras.layers.Input(IMG_SHAPE)\n",
    "    x = base_model(inputs)\n",
    "    x = tensorflow.keras.layers.Dense(64, activation='relu')(x)\n",
    "    x = tensorflow.keras.layers.Dropout(0.4)(x)\n",
    "    prediction  = tensorflow.keras.layers.Dense(3, activation='softmax')(x)\n",
    "\n",
    "    model = Model(inputs=inputs, outputs=prediction)\n",
    "    model.summary()"
   ]
  },
  {
   "cell_type": "markdown",
   "id": "cf968efb",
   "metadata": {},
   "source": [
    " ## Entrenamiento del modelo Xception"
   ]
  },
  {
   "cell_type": "code",
   "execution_count": 35,
   "id": "34de6df9",
   "metadata": {},
   "outputs": [
    {
     "name": "stdout",
     "output_type": "stream",
     "text": [
      "Model: \"model_4\"\n",
      "_________________________________________________________________\n",
      "Layer (type)                 Output Shape              Param #   \n",
      "=================================================================\n",
      "input_9 (InputLayer)         [(None, 256, 256, 3)]     0         \n",
      "_________________________________________________________________\n",
      "xception (Model)             (None, 2048)              20861480  \n",
      "_________________________________________________________________\n",
      "dense_9 (Dense)              (None, 64)                131136    \n",
      "_________________________________________________________________\n",
      "dropout_4 (Dropout)          (None, 64)                0         \n",
      "_________________________________________________________________\n",
      "dense_10 (Dense)             (None, 3)                 195       \n",
      "=================================================================\n",
      "Total params: 20,992,811\n",
      "Trainable params: 131,331\n",
      "Non-trainable params: 20,861,480\n",
      "_________________________________________________________________\n"
     ]
    }
   ],
   "source": [
    "with tensorflow.device('DML'):\n",
    "    model.compile(optimizer=Adam(learning_rate=0.0001),\n",
    "                  loss='categorical_crossentropy',\n",
    "                  metrics=['accuracy'])\n",
    "    \n",
    "    model.summary()   "
   ]
  },
  {
   "cell_type": "code",
   "execution_count": 52,
   "id": "b8753bc7",
   "metadata": {},
   "outputs": [
    {
     "name": "stdout",
     "output_type": "stream",
     "text": [
      "Epoch 1/10\n",
      "Epoch 1/10\n",
      "167/167 - 105s - loss: 0.8665 - acc: 0.6004 - val_loss: 1.5722 - val_acc: 0.3636\n",
      "Epoch 2/10\n",
      "Epoch 1/10\n",
      "167/167 - 106s - loss: 0.8546 - acc: 0.6103 - val_loss: 1.6239 - val_acc: 0.3510\n",
      "Epoch 3/10\n",
      "Epoch 1/10\n",
      "167/167 - 102s - loss: 0.8434 - acc: 0.6266 - val_loss: 1.7081 - val_acc: 0.3581\n",
      "Epoch 4/10\n",
      "Epoch 1/10\n",
      "Restoring model weights from the end of the best epoch\n",
      "167/167 - 102s - loss: 0.8392 - acc: 0.6236 - val_loss: 1.7146 - val_acc: 0.3597\n",
      "Epoch 00004: early stopping\n"
     ]
    }
   ],
   "source": [
    "# Entrena nuestra nueva capa superior del modelo\n",
    "\n",
    "epochs = 10\n",
    "epochs_ft = 20\n",
    "\n",
    "with tensorflow.device('DML'):\n",
    "    \n",
    "\n",
    "    earlystopper = EarlyStopping(monitor='val_loss',\n",
    "                                 min_delta=0, \n",
    "                                 patience=5, # maximo epochs\n",
    "                                 verbose=1,\n",
    "                                 restore_best_weights=True,\n",
    "                                 mode='auto')\n",
    "    \n",
    "    model.fit_generator(train_batches,\n",
    "                        epochs=epochs,\n",
    "                        validation_data=valid_batches,\n",
    "                        verbose=2,\n",
    "                        callbacks = [earlystopper])"
   ]
  },
  {
   "cell_type": "markdown",
   "id": "517f3492",
   "metadata": {},
   "source": [
    " ## Prediccion con conjunto de pruebas"
   ]
  },
  {
   "cell_type": "code",
   "execution_count": 53,
   "id": "6df3c18f",
   "metadata": {},
   "outputs": [],
   "source": [
    "test_labels = test_batches.classes"
   ]
  },
  {
   "cell_type": "code",
   "execution_count": 54,
   "id": "039136c0",
   "metadata": {},
   "outputs": [],
   "source": [
    "predictions = model.predict(x = test_batches, verbose = 0)"
   ]
  },
  {
   "cell_type": "code",
   "execution_count": 55,
   "id": "7c2c2e57",
   "metadata": {},
   "outputs": [],
   "source": [
    "cm = confusion_matrix(y_true = test_batches.classes, \n",
    "                      y_pred = np.argmax(predictions, axis=-1))"
   ]
  },
  {
   "cell_type": "code",
   "execution_count": 56,
   "id": "b89846de",
   "metadata": {},
   "outputs": [
    {
     "data": {
      "text/plain": [
       "{'AD': 0, 'CN': 1, 'MCI': 2}"
      ]
     },
     "execution_count": 56,
     "metadata": {},
     "output_type": "execute_result"
    }
   ],
   "source": [
    "test_batches.class_indices"
   ]
  },
  {
   "cell_type": "code",
   "execution_count": 57,
   "id": "12e9eaa0",
   "metadata": {},
   "outputs": [
    {
     "data": {
      "image/png": "[encoded data removed]",
      "text/plain": [
       "<Figure size 576x432 with 2 Axes>"
      ]
     },
     "metadata": {
      "needs_background": "light"
     },
     "output_type": "display_data"
    }
   ],
   "source": [
    "def plot_confusion_matrix(cm, target_names, title='Confusion matrix', cmap=None, normalize=False):\n",
    "    \"\"\"\n",
    "    arguments\n",
    "    ---------\n",
    "    cm:           confusion matrix from sklearn.metrics.confusion_matrix\n",
    "\n",
    "    target_names: given classification classes such as [0, 1, 2]\n",
    "                  the class names, for example: ['high', 'medium', 'low']\n",
    "\n",
    "    title:        the text to display at the top of the matrix\n",
    "\n",
    "    cmap:         the gradient of the values displayed from matplotlib.pyplot.cm\n",
    "                  see http://matplotlib.org/examples/color/colormaps_reference.html\n",
    "\n",
    "    normalize:    If False, plot the raw numbers\n",
    "                  If True, plot the proportions\n",
    "    \"\"\"\n",
    "     \n",
    "    if cmap is None:\n",
    "        cmap = plt.get_cmap('Blues')\n",
    "\n",
    "    plt.figure(figsize=(8, 6))\n",
    "    plt.imshow(cm, interpolation='nearest', cmap=cmap)\n",
    "    plt.title(title)\n",
    "    plt.colorbar()\n",
    "    \n",
    "    if target_names is not None:\n",
    "        tick_marks = np.arange(len(target_names))\n",
    "        plt.xticks(tick_marks, target_names, rotation=45)\n",
    "        plt.yticks(tick_marks, target_names)\n",
    "\n",
    "    if normalize:\n",
    "        cm = cm.astype('float') / cm.sum(axis=1)[:, np.newaxis]\n",
    "\n",
    "\n",
    "    thresh = cm.max() / 1.5 if normalize else cm.max() / 2\n",
    "    for i, j in itertools.product(range(cm.shape[0]), range(cm.shape[1])):\n",
    "        if normalize:\n",
    "            plt.text(j, i, \"{:0.4f}\".format(cm[i, j]),\n",
    "                     horizontalalignment=\"center\",\n",
    "                     color=\"white\" if cm[i, j] > thresh else \"black\")\n",
    "        else:\n",
    "            plt.text(j, i, \"{:,}\".format(cm[i, j]),\n",
    "                     horizontalalignment=\"center\",\n",
    "                     color=\"white\" if cm[i, j] > thresh else \"black\")\n",
    "\n",
    "\n",
    "    plt.tight_layout()\n",
    "    plt.ylim(len(target_names)-0.5, -0.5)\n",
    "    plt.ylabel('True labels')\n",
    "    plt.xlabel('Predicted labels')\n",
    "    plt.savefig(title + '.png', dpi=500, bbox_inches = 'tight')\n",
    "    plt.show()\n",
    "    \n",
    "    \n",
    "    \n",
    "# a tuple for all the class names\n",
    "target_names = ('AD', 'CN', 'MCI')\n",
    "plot_confusion_matrix(cm, target_names)"
   ]
  },
  {
   "cell_type": "markdown",
   "id": "0f4e99a3",
   "metadata": {},
   "source": [
    "<!-- GoogLeNet \n",
    "ILSVRC-2013 (Clarifai)\n",
    "MSRA\n",
    "Zeler & Fergus\n",
    "OverFeat\n",
    "Krizhevsky -->"
   ]
  },
  {
   "cell_type": "code",
   "execution_count": null,
   "id": "65c6e9e2",
   "metadata": {},
   "outputs": [],
   "source": [
    "# TODO: Grafico de Epochs: https://www.analyticsvidhya.com/blog/2020/10/create-image-classification-model-python-keras/"
   ]
  },
  {
   "cell_type": "code",
   "execution_count": null,
   "id": "4e75c702",
   "metadata": {},
   "outputs": [],
   "source": [
    "https://www.analyticsvidhya.com/blog/2020/10/create-image-classification-model-python-keras/"
   ]
  },
  {
   "cell_type": "markdown",
   "id": "b4ebfc04",
   "metadata": {},
   "source": [
    "## Construccion y construir afinar el modelo CNN-Xception"
   ]
  },
  {
   "cell_type": "markdown",
   "id": "51fad6bb",
   "metadata": {},
   "source": [
    "https://learnopencv.com/keras-tutorial-fine-tuning-using-pre-trained-models/"
   ]
  },
  {
   "cell_type": "code",
   "execution_count": 71,
   "id": "300d5227",
   "metadata": {},
   "outputs": [],
   "source": [
    "# Agregar la base de la parte superior del modelo (top)\n",
    "\n",
    "nb_classes = 3\n",
    "\n",
    "def add_top(base):\n",
    "    x = base.output\n",
    "\n",
    "    # Capa de grupo de promedio global\n",
    "    x = GlobalAveragePooling2D()(x)\n",
    "\n",
    "    x = tensorflow.keras.layers.Dense(64, activation='relu')(x)\n",
    "    x = tensorflow.keras.layers.Dropout(0.2)(x)\n",
    "    \n",
    "    # Capa regular densamente conectada\n",
    "    x = Dense(512, activation='relu')(x)\n",
    "\n",
    "    # Capa de salida\n",
    "    predictions = Dense(nb_classes, activation='softmax')(x)\n",
    "\n",
    "    return Model(inputs = base.input, outputs= predictions)"
   ]
  },
  {
   "cell_type": "code",
   "execution_count": 72,
   "id": "b2278e9b",
   "metadata": {},
   "outputs": [],
   "source": [
    "# Modelo de configuración afinado\n",
    "def setup_model(model, trainable):\n",
    "    # Congele las capas no entrenables de la base del modelo\n",
    "    for layer in model.layers[:(len(model.layers) - trainable)]:\n",
    "        layer.trainable = False\n",
    "\n",
    "    for layer in model.layers[(len(model.layers) - trainable):]:\n",
    "        layer.trainable = True\n",
    "\n",
    "    model.compile(\n",
    "        loss='categorical_crossentropy',\n",
    "        # Tasa de entrenamiento más lenta para el ajuste fino\n",
    "        optimizer=optimizers.SGD(lr=1e-4, momentum=0.9),\n",
    "        # optimizer=Adam(learning_rate=0.0001),\n",
    "        metrics=['accuracy']\n",
    "    )\n",
    "    \n",
    "    return model"
   ]
  },
  {
   "cell_type": "code",
   "execution_count": 75,
   "id": "f3c01e9c",
   "metadata": {},
   "outputs": [],
   "source": [
    "# Configurar el modelo para volver a entrenar nuestra \n",
    "# capa superior más el bloque 13 y 14 de Xception\n",
    "with tensorflow.device('DML'):\n",
    "    xception_base = xception.Xception(include_top=False,\n",
    "                                      weights='imagenet',\n",
    "                                      input_shape=(img_width, img_height, 3))\n",
    "\n",
    "    model = add_top(xception_base)\n",
    "    model = setup_model(model, 19)"
   ]
  },
  {
   "cell_type": "code",
   "execution_count": 76,
   "id": "b9147f66",
   "metadata": {},
   "outputs": [
    {
     "name": "stdout",
     "output_type": "stream",
     "text": [
      "Model: \"model_5\"\n",
      "__________________________________________________________________________________________________\n",
      "Layer (type)                    Output Shape         Param #     Connected to                     \n",
      "==================================================================================================\n",
      "input_10 (InputLayer)           [(None, 256, 256, 3) 0                                            \n",
      "__________________________________________________________________________________________________\n",
      "block1_conv1 (Conv2D)           (None, 127, 127, 32) 864         input_10[0][0]                   \n",
      "__________________________________________________________________________________________________\n",
      "block1_conv1_bn (BatchNormaliza (None, 127, 127, 32) 128         block1_conv1[0][0]               \n",
      "__________________________________________________________________________________________________\n",
      "block1_conv1_act (Activation)   (None, 127, 127, 32) 0           block1_conv1_bn[0][0]            \n",
      "__________________________________________________________________________________________________\n",
      "block1_conv2 (Conv2D)           (None, 125, 125, 64) 18432       block1_conv1_act[0][0]           \n",
      "__________________________________________________________________________________________________\n",
      "block1_conv2_bn (BatchNormaliza (None, 125, 125, 64) 256         block1_conv2[0][0]               \n",
      "__________________________________________________________________________________________________\n",
      "block1_conv2_act (Activation)   (None, 125, 125, 64) 0           block1_conv2_bn[0][0]            \n",
      "__________________________________________________________________________________________________\n",
      "block2_sepconv1 (SeparableConv2 (None, 125, 125, 128 8768        block1_conv2_act[0][0]           \n",
      "__________________________________________________________________________________________________\n",
      "block2_sepconv1_bn (BatchNormal (None, 125, 125, 128 512         block2_sepconv1[0][0]            \n",
      "__________________________________________________________________________________________________\n",
      "block2_sepconv2_act (Activation (None, 125, 125, 128 0           block2_sepconv1_bn[0][0]         \n",
      "__________________________________________________________________________________________________\n",
      "block2_sepconv2 (SeparableConv2 (None, 125, 125, 128 17536       block2_sepconv2_act[0][0]        \n",
      "__________________________________________________________________________________________________\n",
      "block2_sepconv2_bn (BatchNormal (None, 125, 125, 128 512         block2_sepconv2[0][0]            \n",
      "__________________________________________________________________________________________________\n",
      "conv2d_16 (Conv2D)              (None, 63, 63, 128)  8192        block1_conv2_act[0][0]           \n",
      "__________________________________________________________________________________________________\n",
      "block2_pool (MaxPooling2D)      (None, 63, 63, 128)  0           block2_sepconv2_bn[0][0]         \n",
      "__________________________________________________________________________________________________\n",
      "batch_normalization_16 (BatchNo (None, 63, 63, 128)  512         conv2d_16[0][0]                  \n",
      "__________________________________________________________________________________________________\n",
      "add_48 (Add)                    (None, 63, 63, 128)  0           block2_pool[0][0]                \n",
      "                                                                 batch_normalization_16[0][0]     \n",
      "__________________________________________________________________________________________________\n",
      "block3_sepconv1_act (Activation (None, 63, 63, 128)  0           add_48[0][0]                     \n",
      "__________________________________________________________________________________________________\n",
      "block3_sepconv1 (SeparableConv2 (None, 63, 63, 256)  33920       block3_sepconv1_act[0][0]        \n",
      "__________________________________________________________________________________________________\n",
      "block3_sepconv1_bn (BatchNormal (None, 63, 63, 256)  1024        block3_sepconv1[0][0]            \n",
      "__________________________________________________________________________________________________\n",
      "block3_sepconv2_act (Activation (None, 63, 63, 256)  0           block3_sepconv1_bn[0][0]         \n",
      "__________________________________________________________________________________________________\n",
      "block3_sepconv2 (SeparableConv2 (None, 63, 63, 256)  67840       block3_sepconv2_act[0][0]        \n",
      "__________________________________________________________________________________________________\n",
      "block3_sepconv2_bn (BatchNormal (None, 63, 63, 256)  1024        block3_sepconv2[0][0]            \n",
      "__________________________________________________________________________________________________\n",
      "conv2d_17 (Conv2D)              (None, 32, 32, 256)  32768       add_48[0][0]                     \n",
      "__________________________________________________________________________________________________\n",
      "block3_pool (MaxPooling2D)      (None, 32, 32, 256)  0           block3_sepconv2_bn[0][0]         \n",
      "__________________________________________________________________________________________________\n",
      "batch_normalization_17 (BatchNo (None, 32, 32, 256)  1024        conv2d_17[0][0]                  \n",
      "__________________________________________________________________________________________________\n",
      "add_49 (Add)                    (None, 32, 32, 256)  0           block3_pool[0][0]                \n",
      "                                                                 batch_normalization_17[0][0]     \n",
      "__________________________________________________________________________________________________\n",
      "block4_sepconv1_act (Activation (None, 32, 32, 256)  0           add_49[0][0]                     \n",
      "__________________________________________________________________________________________________\n",
      "block4_sepconv1 (SeparableConv2 (None, 32, 32, 728)  188672      block4_sepconv1_act[0][0]        \n",
      "__________________________________________________________________________________________________\n",
      "block4_sepconv1_bn (BatchNormal (None, 32, 32, 728)  2912        block4_sepconv1[0][0]            \n",
      "__________________________________________________________________________________________________\n",
      "block4_sepconv2_act (Activation (None, 32, 32, 728)  0           block4_sepconv1_bn[0][0]         \n",
      "__________________________________________________________________________________________________\n",
      "block4_sepconv2 (SeparableConv2 (None, 32, 32, 728)  536536      block4_sepconv2_act[0][0]        \n",
      "__________________________________________________________________________________________________\n",
      "block4_sepconv2_bn (BatchNormal (None, 32, 32, 728)  2912        block4_sepconv2[0][0]            \n",
      "__________________________________________________________________________________________________\n",
      "conv2d_18 (Conv2D)              (None, 16, 16, 728)  186368      add_49[0][0]                     \n",
      "__________________________________________________________________________________________________\n",
      "block4_pool (MaxPooling2D)      (None, 16, 16, 728)  0           block4_sepconv2_bn[0][0]         \n",
      "__________________________________________________________________________________________________\n",
      "batch_normalization_18 (BatchNo (None, 16, 16, 728)  2912        conv2d_18[0][0]                  \n",
      "__________________________________________________________________________________________________\n",
      "add_50 (Add)                    (None, 16, 16, 728)  0           block4_pool[0][0]                \n",
      "                                                                 batch_normalization_18[0][0]     \n",
      "__________________________________________________________________________________________________\n",
      "block5_sepconv1_act (Activation (None, 16, 16, 728)  0           add_50[0][0]                     \n",
      "__________________________________________________________________________________________________\n",
      "block5_sepconv1 (SeparableConv2 (None, 16, 16, 728)  536536      block5_sepconv1_act[0][0]        \n",
      "__________________________________________________________________________________________________\n",
      "block5_sepconv1_bn (BatchNormal (None, 16, 16, 728)  2912        block5_sepconv1[0][0]            \n",
      "__________________________________________________________________________________________________\n",
      "block5_sepconv2_act (Activation (None, 16, 16, 728)  0           block5_sepconv1_bn[0][0]         \n",
      "__________________________________________________________________________________________________\n",
      "block5_sepconv2 (SeparableConv2 (None, 16, 16, 728)  536536      block5_sepconv2_act[0][0]        \n",
      "__________________________________________________________________________________________________\n",
      "block5_sepconv2_bn (BatchNormal (None, 16, 16, 728)  2912        block5_sepconv2[0][0]            \n",
      "__________________________________________________________________________________________________\n",
      "block5_sepconv3_act (Activation (None, 16, 16, 728)  0           block5_sepconv2_bn[0][0]         \n",
      "__________________________________________________________________________________________________\n",
      "block5_sepconv3 (SeparableConv2 (None, 16, 16, 728)  536536      block5_sepconv3_act[0][0]        \n",
      "__________________________________________________________________________________________________\n",
      "block5_sepconv3_bn (BatchNormal (None, 16, 16, 728)  2912        block5_sepconv3[0][0]            \n",
      "__________________________________________________________________________________________________\n",
      "add_51 (Add)                    (None, 16, 16, 728)  0           block5_sepconv3_bn[0][0]         \n",
      "                                                                 add_50[0][0]                     \n",
      "__________________________________________________________________________________________________\n",
      "block6_sepconv1_act (Activation (None, 16, 16, 728)  0           add_51[0][0]                     \n",
      "__________________________________________________________________________________________________\n",
      "block6_sepconv1 (SeparableConv2 (None, 16, 16, 728)  536536      block6_sepconv1_act[0][0]        \n",
      "__________________________________________________________________________________________________\n",
      "block6_sepconv1_bn (BatchNormal (None, 16, 16, 728)  2912        block6_sepconv1[0][0]            \n",
      "__________________________________________________________________________________________________\n",
      "block6_sepconv2_act (Activation (None, 16, 16, 728)  0           block6_sepconv1_bn[0][0]         \n",
      "__________________________________________________________________________________________________\n",
      "block6_sepconv2 (SeparableConv2 (None, 16, 16, 728)  536536      block6_sepconv2_act[0][0]        \n",
      "__________________________________________________________________________________________________\n",
      "block6_sepconv2_bn (BatchNormal (None, 16, 16, 728)  2912        block6_sepconv2[0][0]            \n",
      "__________________________________________________________________________________________________\n",
      "block6_sepconv3_act (Activation (None, 16, 16, 728)  0           block6_sepconv2_bn[0][0]         \n",
      "__________________________________________________________________________________________________\n",
      "block6_sepconv3 (SeparableConv2 (None, 16, 16, 728)  536536      block6_sepconv3_act[0][0]        \n",
      "__________________________________________________________________________________________________\n",
      "block6_sepconv3_bn (BatchNormal (None, 16, 16, 728)  2912        block6_sepconv3[0][0]            \n",
      "__________________________________________________________________________________________________\n",
      "add_52 (Add)                    (None, 16, 16, 728)  0           block6_sepconv3_bn[0][0]         \n",
      "                                                                 add_51[0][0]                     \n",
      "__________________________________________________________________________________________________\n",
      "block7_sepconv1_act (Activation (None, 16, 16, 728)  0           add_52[0][0]                     \n",
      "__________________________________________________________________________________________________\n",
      "block7_sepconv1 (SeparableConv2 (None, 16, 16, 728)  536536      block7_sepconv1_act[0][0]        \n",
      "__________________________________________________________________________________________________\n",
      "block7_sepconv1_bn (BatchNormal (None, 16, 16, 728)  2912        block7_sepconv1[0][0]            \n",
      "__________________________________________________________________________________________________\n",
      "block7_sepconv2_act (Activation (None, 16, 16, 728)  0           block7_sepconv1_bn[0][0]         \n",
      "__________________________________________________________________________________________________\n",
      "block7_sepconv2 (SeparableConv2 (None, 16, 16, 728)  536536      block7_sepconv2_act[0][0]        \n",
      "__________________________________________________________________________________________________\n",
      "block7_sepconv2_bn (BatchNormal (None, 16, 16, 728)  2912        block7_sepconv2[0][0]            \n",
      "__________________________________________________________________________________________________\n",
      "block7_sepconv3_act (Activation (None, 16, 16, 728)  0           block7_sepconv2_bn[0][0]         \n",
      "__________________________________________________________________________________________________\n",
      "block7_sepconv3 (SeparableConv2 (None, 16, 16, 728)  536536      block7_sepconv3_act[0][0]        \n",
      "__________________________________________________________________________________________________\n",
      "block7_sepconv3_bn (BatchNormal (None, 16, 16, 728)  2912        block7_sepconv3[0][0]            \n",
      "__________________________________________________________________________________________________\n",
      "add_53 (Add)                    (None, 16, 16, 728)  0           block7_sepconv3_bn[0][0]         \n",
      "                                                                 add_52[0][0]                     \n",
      "__________________________________________________________________________________________________\n",
      "block8_sepconv1_act (Activation (None, 16, 16, 728)  0           add_53[0][0]                     \n",
      "__________________________________________________________________________________________________\n",
      "block8_sepconv1 (SeparableConv2 (None, 16, 16, 728)  536536      block8_sepconv1_act[0][0]        \n",
      "__________________________________________________________________________________________________\n",
      "block8_sepconv1_bn (BatchNormal (None, 16, 16, 728)  2912        block8_sepconv1[0][0]            \n",
      "__________________________________________________________________________________________________\n",
      "block8_sepconv2_act (Activation (None, 16, 16, 728)  0           block8_sepconv1_bn[0][0]         \n",
      "__________________________________________________________________________________________________\n",
      "block8_sepconv2 (SeparableConv2 (None, 16, 16, 728)  536536      block8_sepconv2_act[0][0]        \n",
      "__________________________________________________________________________________________________\n",
      "block8_sepconv2_bn (BatchNormal (None, 16, 16, 728)  2912        block8_sepconv2[0][0]            \n",
      "__________________________________________________________________________________________________\n",
      "block8_sepconv3_act (Activation (None, 16, 16, 728)  0           block8_sepconv2_bn[0][0]         \n",
      "__________________________________________________________________________________________________\n",
      "block8_sepconv3 (SeparableConv2 (None, 16, 16, 728)  536536      block8_sepconv3_act[0][0]        \n",
      "__________________________________________________________________________________________________\n",
      "block8_sepconv3_bn (BatchNormal (None, 16, 16, 728)  2912        block8_sepconv3[0][0]            \n",
      "__________________________________________________________________________________________________\n",
      "add_54 (Add)                    (None, 16, 16, 728)  0           block8_sepconv3_bn[0][0]         \n",
      "                                                                 add_53[0][0]                     \n",
      "__________________________________________________________________________________________________\n",
      "block9_sepconv1_act (Activation (None, 16, 16, 728)  0           add_54[0][0]                     \n",
      "__________________________________________________________________________________________________\n",
      "block9_sepconv1 (SeparableConv2 (None, 16, 16, 728)  536536      block9_sepconv1_act[0][0]        \n",
      "__________________________________________________________________________________________________\n",
      "block9_sepconv1_bn (BatchNormal (None, 16, 16, 728)  2912        block9_sepconv1[0][0]            \n",
      "__________________________________________________________________________________________________\n",
      "block9_sepconv2_act (Activation (None, 16, 16, 728)  0           block9_sepconv1_bn[0][0]         \n",
      "__________________________________________________________________________________________________\n",
      "block9_sepconv2 (SeparableConv2 (None, 16, 16, 728)  536536      block9_sepconv2_act[0][0]        \n",
      "__________________________________________________________________________________________________\n",
      "block9_sepconv2_bn (BatchNormal (None, 16, 16, 728)  2912        block9_sepconv2[0][0]            \n",
      "__________________________________________________________________________________________________\n",
      "block9_sepconv3_act (Activation (None, 16, 16, 728)  0           block9_sepconv2_bn[0][0]         \n",
      "__________________________________________________________________________________________________\n",
      "block9_sepconv3 (SeparableConv2 (None, 16, 16, 728)  536536      block9_sepconv3_act[0][0]        \n",
      "__________________________________________________________________________________________________\n",
      "block9_sepconv3_bn (BatchNormal (None, 16, 16, 728)  2912        block9_sepconv3[0][0]            \n",
      "__________________________________________________________________________________________________\n",
      "add_55 (Add)                    (None, 16, 16, 728)  0           block9_sepconv3_bn[0][0]         \n",
      "                                                                 add_54[0][0]                     \n",
      "__________________________________________________________________________________________________\n",
      "block10_sepconv1_act (Activatio (None, 16, 16, 728)  0           add_55[0][0]                     \n",
      "__________________________________________________________________________________________________\n",
      "block10_sepconv1 (SeparableConv (None, 16, 16, 728)  536536      block10_sepconv1_act[0][0]       \n",
      "__________________________________________________________________________________________________\n",
      "block10_sepconv1_bn (BatchNorma (None, 16, 16, 728)  2912        block10_sepconv1[0][0]           \n",
      "__________________________________________________________________________________________________\n",
      "block10_sepconv2_act (Activatio (None, 16, 16, 728)  0           block10_sepconv1_bn[0][0]        \n",
      "__________________________________________________________________________________________________\n",
      "block10_sepconv2 (SeparableConv (None, 16, 16, 728)  536536      block10_sepconv2_act[0][0]       \n",
      "__________________________________________________________________________________________________\n",
      "block10_sepconv2_bn (BatchNorma (None, 16, 16, 728)  2912        block10_sepconv2[0][0]           \n",
      "__________________________________________________________________________________________________\n",
      "block10_sepconv3_act (Activatio (None, 16, 16, 728)  0           block10_sepconv2_bn[0][0]        \n",
      "__________________________________________________________________________________________________\n",
      "block10_sepconv3 (SeparableConv (None, 16, 16, 728)  536536      block10_sepconv3_act[0][0]       \n",
      "__________________________________________________________________________________________________\n",
      "block10_sepconv3_bn (BatchNorma (None, 16, 16, 728)  2912        block10_sepconv3[0][0]           \n",
      "__________________________________________________________________________________________________\n",
      "add_56 (Add)                    (None, 16, 16, 728)  0           block10_sepconv3_bn[0][0]        \n",
      "                                                                 add_55[0][0]                     \n",
      "__________________________________________________________________________________________________\n",
      "block11_sepconv1_act (Activatio (None, 16, 16, 728)  0           add_56[0][0]                     \n",
      "__________________________________________________________________________________________________\n",
      "block11_sepconv1 (SeparableConv (None, 16, 16, 728)  536536      block11_sepconv1_act[0][0]       \n",
      "__________________________________________________________________________________________________\n",
      "block11_sepconv1_bn (BatchNorma (None, 16, 16, 728)  2912        block11_sepconv1[0][0]           \n",
      "__________________________________________________________________________________________________\n",
      "block11_sepconv2_act (Activatio (None, 16, 16, 728)  0           block11_sepconv1_bn[0][0]        \n",
      "__________________________________________________________________________________________________\n",
      "block11_sepconv2 (SeparableConv (None, 16, 16, 728)  536536      block11_sepconv2_act[0][0]       \n",
      "__________________________________________________________________________________________________\n",
      "block11_sepconv2_bn (BatchNorma (None, 16, 16, 728)  2912        block11_sepconv2[0][0]           \n",
      "__________________________________________________________________________________________________\n",
      "block11_sepconv3_act (Activatio (None, 16, 16, 728)  0           block11_sepconv2_bn[0][0]        \n",
      "__________________________________________________________________________________________________\n",
      "block11_sepconv3 (SeparableConv (None, 16, 16, 728)  536536      block11_sepconv3_act[0][0]       \n",
      "__________________________________________________________________________________________________\n",
      "block11_sepconv3_bn (BatchNorma (None, 16, 16, 728)  2912        block11_sepconv3[0][0]           \n",
      "__________________________________________________________________________________________________\n",
      "add_57 (Add)                    (None, 16, 16, 728)  0           block11_sepconv3_bn[0][0]        \n",
      "                                                                 add_56[0][0]                     \n",
      "__________________________________________________________________________________________________\n",
      "block12_sepconv1_act (Activatio (None, 16, 16, 728)  0           add_57[0][0]                     \n",
      "__________________________________________________________________________________________________\n",
      "block12_sepconv1 (SeparableConv (None, 16, 16, 728)  536536      block12_sepconv1_act[0][0]       \n",
      "__________________________________________________________________________________________________\n",
      "block12_sepconv1_bn (BatchNorma (None, 16, 16, 728)  2912        block12_sepconv1[0][0]           \n",
      "__________________________________________________________________________________________________\n",
      "block12_sepconv2_act (Activatio (None, 16, 16, 728)  0           block12_sepconv1_bn[0][0]        \n",
      "__________________________________________________________________________________________________\n",
      "block12_sepconv2 (SeparableConv (None, 16, 16, 728)  536536      block12_sepconv2_act[0][0]       \n",
      "__________________________________________________________________________________________________\n",
      "block12_sepconv2_bn (BatchNorma (None, 16, 16, 728)  2912        block12_sepconv2[0][0]           \n",
      "__________________________________________________________________________________________________\n",
      "block12_sepconv3_act (Activatio (None, 16, 16, 728)  0           block12_sepconv2_bn[0][0]        \n",
      "__________________________________________________________________________________________________\n",
      "block12_sepconv3 (SeparableConv (None, 16, 16, 728)  536536      block12_sepconv3_act[0][0]       \n",
      "__________________________________________________________________________________________________\n",
      "block12_sepconv3_bn (BatchNorma (None, 16, 16, 728)  2912        block12_sepconv3[0][0]           \n",
      "__________________________________________________________________________________________________\n",
      "add_58 (Add)                    (None, 16, 16, 728)  0           block12_sepconv3_bn[0][0]        \n",
      "                                                                 add_57[0][0]                     \n",
      "__________________________________________________________________________________________________\n",
      "block13_sepconv1_act (Activatio (None, 16, 16, 728)  0           add_58[0][0]                     \n",
      "__________________________________________________________________________________________________\n",
      "block13_sepconv1 (SeparableConv (None, 16, 16, 728)  536536      block13_sepconv1_act[0][0]       \n",
      "__________________________________________________________________________________________________\n",
      "block13_sepconv1_bn (BatchNorma (None, 16, 16, 728)  2912        block13_sepconv1[0][0]           \n",
      "__________________________________________________________________________________________________\n",
      "block13_sepconv2_act (Activatio (None, 16, 16, 728)  0           block13_sepconv1_bn[0][0]        \n",
      "__________________________________________________________________________________________________\n",
      "block13_sepconv2 (SeparableConv (None, 16, 16, 1024) 752024      block13_sepconv2_act[0][0]       \n",
      "__________________________________________________________________________________________________\n",
      "block13_sepconv2_bn (BatchNorma (None, 16, 16, 1024) 4096        block13_sepconv2[0][0]           \n",
      "__________________________________________________________________________________________________\n",
      "conv2d_19 (Conv2D)              (None, 8, 8, 1024)   745472      add_58[0][0]                     \n",
      "__________________________________________________________________________________________________\n",
      "block13_pool (MaxPooling2D)     (None, 8, 8, 1024)   0           block13_sepconv2_bn[0][0]        \n",
      "__________________________________________________________________________________________________\n",
      "batch_normalization_19 (BatchNo (None, 8, 8, 1024)   4096        conv2d_19[0][0]                  \n",
      "__________________________________________________________________________________________________\n",
      "add_59 (Add)                    (None, 8, 8, 1024)   0           block13_pool[0][0]               \n",
      "                                                                 batch_normalization_19[0][0]     \n",
      "__________________________________________________________________________________________________\n",
      "block14_sepconv1 (SeparableConv (None, 8, 8, 1536)   1582080     add_59[0][0]                     \n",
      "__________________________________________________________________________________________________\n",
      "block14_sepconv1_bn (BatchNorma (None, 8, 8, 1536)   6144        block14_sepconv1[0][0]           \n",
      "__________________________________________________________________________________________________\n",
      "block14_sepconv1_act (Activatio (None, 8, 8, 1536)   0           block14_sepconv1_bn[0][0]        \n",
      "__________________________________________________________________________________________________\n",
      "block14_sepconv2 (SeparableConv (None, 8, 8, 2048)   3159552     block14_sepconv1_act[0][0]       \n",
      "__________________________________________________________________________________________________\n",
      "block14_sepconv2_bn (BatchNorma (None, 8, 8, 2048)   8192        block14_sepconv2[0][0]           \n",
      "__________________________________________________________________________________________________\n",
      "block14_sepconv2_act (Activatio (None, 8, 8, 2048)   0           block14_sepconv2_bn[0][0]        \n",
      "__________________________________________________________________________________________________\n",
      "global_average_pooling2d_5 (Glo (None, 2048)         0           block14_sepconv2_act[0][0]       \n",
      "__________________________________________________________________________________________________\n",
      "dense_11 (Dense)                (None, 64)           131136      global_average_pooling2d_5[0][0] \n",
      "__________________________________________________________________________________________________\n",
      "dropout_5 (Dropout)             (None, 64)           0           dense_11[0][0]                   \n",
      "__________________________________________________________________________________________________\n",
      "dense_12 (Dense)                (None, 512)          33280       dropout_5[0][0]                  \n",
      "__________________________________________________________________________________________________\n",
      "dense_13 (Dense)                (None, 3)            1539        dense_12[0][0]                   \n",
      "==================================================================================================\n",
      "Total params: 21,027,435\n",
      "Trainable params: 6,417,803\n",
      "Non-trainable params: 14,609,632\n",
      "__________________________________________________________________________________________________\n"
     ]
    }
   ],
   "source": [
    "model.summary()"
   ]
  },
  {
   "cell_type": "code",
   "execution_count": null,
   "id": "bf3f44fc",
   "metadata": {},
   "outputs": [
    {
     "name": "stdout",
     "output_type": "stream",
     "text": [
      "Epoch 1/10\n",
      "Epoch 1/10\n",
      "167/167 - 122s - loss: 1.0990 - acc: 0.3350 - val_loss: 1.0987 - val_acc: 0.3265\n",
      "Epoch 2/10\n",
      "Epoch 1/10\n",
      "167/167 - 122s - loss: 1.0978 - acc: 0.3410 - val_loss: 1.0978 - val_acc: 0.3328\n",
      "Epoch 3/10\n",
      "Epoch 1/10\n",
      "167/167 - 122s - loss: 1.0968 - acc: 0.3515 - val_loss: 1.0975 - val_acc: 0.3368\n",
      "Epoch 4/10\n",
      "Epoch 1/10\n",
      "167/167 - 124s - loss: 1.0965 - acc: 0.3494 - val_loss: 1.0974 - val_acc: 0.3415\n",
      "Epoch 5/10\n",
      "Epoch 1/10\n",
      "167/167 - 124s - loss: 1.0953 - acc: 0.3650 - val_loss: 1.0971 - val_acc: 0.3462\n",
      "Epoch 6/10\n",
      "Epoch 1/10\n",
      "167/167 - 124s - loss: 1.0946 - acc: 0.3640 - val_loss: 1.0965 - val_acc: 0.3565\n",
      "Epoch 7/10\n",
      "Epoch 1/10\n",
      "167/167 - 125s - loss: 1.0943 - acc: 0.3674 - val_loss: 1.0964 - val_acc: 0.3549\n",
      "Epoch 8/10\n",
      "Epoch 1/10\n",
      "167/167 - 125s - loss: 1.0931 - acc: 0.3756 - val_loss: 1.0959 - val_acc: 0.3660\n",
      "Epoch 9/10\n"
     ]
    }
   ],
   "source": [
    "# Afinar la modelo\n",
    "\n",
    "epochs_ft = 20\n",
    "\n",
    "with tensorflow.device('DML'):\n",
    "    earlystopper = EarlyStopping(monitor='val_loss',\n",
    "                             min_delta=0, \n",
    "                             patience=5, # maximo epochs\n",
    "                             verbose=1,\n",
    "                             restore_best_weights=True,\n",
    "                             mode='auto')\n",
    "    \n",
    "    model.fit_generator(train_batches,\n",
    "                        epochs=epochs_ft,\n",
    "                        validation_data=valid_batches,\n",
    "                        verbose=2,\n",
    "                        callbacks = [earlystopper])"
   ]
  },
  {
   "cell_type": "markdown",
   "id": "3766f017",
   "metadata": {},
   "source": [
    "## Prediccion modelo afinado Xception model"
   ]
  },
  {
   "cell_type": "code",
   "execution_count": 62,
   "id": "dad93211",
   "metadata": {},
   "outputs": [],
   "source": [
    "predictions = model.predict(x=test_batches, verbose=0)"
   ]
  },
  {
   "cell_type": "code",
   "execution_count": 63,
   "id": "84f2f4b9",
   "metadata": {},
   "outputs": [],
   "source": [
    "cm = confusion_matrix(y_true = test_batches.classes, \n",
    "                      y_pred = np.argmax(predictions, axis=-1))"
   ]
  },
  {
   "cell_type": "code",
   "execution_count": 64,
   "id": "d19f807a",
   "metadata": {},
   "outputs": [
    {
     "data": {
      "image/png": "[encoded data removed]",
      "text/plain": [
       "<Figure size 576x432 with 2 Axes>"
      ]
     },
     "metadata": {
      "needs_background": "light"
     },
     "output_type": "display_data"
    }
   ],
   "source": [
    "target_names = ('AD', 'CN', 'MCI')\n",
    "plot_confusion_matrix(cm, target_names)"
   ]
  },
  {
   "cell_type": "markdown",
   "id": "9aa85d3a",
   "metadata": {},
   "source": [
    "## Visualizar resultados del entrenamiento"
   ]
  },
  {
   "cell_type": "code",
   "execution_count": 65,
   "id": "50c41756",
   "metadata": {},
   "outputs": [
    {
     "name": "stdout",
     "output_type": "stream",
     "text": [
      "dict_keys([])\n"
     ]
    }
   ],
   "source": [
    "print(model.history.history.keys())"
   ]
  },
  {
   "cell_type": "code",
   "execution_count": 66,
   "id": "578ceb33",
   "metadata": {},
   "outputs": [
    {
     "ename": "KeyError",
     "evalue": "'acc'",
     "output_type": "error",
     "traceback": [
      "\u001b[1;31m---------------------------------------------------------------------------\u001b[0m",
      "\u001b[1;31mKeyError\u001b[0m                                  Traceback (most recent call last)",
      "\u001b[1;32m<ipython-input-66-96cb74706d93>\u001b[0m in \u001b[0;36m<module>\u001b[1;34m\u001b[0m\n\u001b[1;32m----> 1\u001b[1;33m \u001b[0macc\u001b[0m \u001b[1;33m=\u001b[0m \u001b[0mmodel\u001b[0m\u001b[1;33m.\u001b[0m\u001b[0mhistory\u001b[0m\u001b[1;33m.\u001b[0m\u001b[0mhistory\u001b[0m\u001b[1;33m[\u001b[0m\u001b[1;34m'acc'\u001b[0m\u001b[1;33m]\u001b[0m\u001b[1;33m\u001b[0m\u001b[1;33m\u001b[0m\u001b[0m\n\u001b[0m\u001b[0;32m      2\u001b[0m \u001b[0mval_acc\u001b[0m \u001b[1;33m=\u001b[0m \u001b[0mmodel\u001b[0m\u001b[1;33m.\u001b[0m\u001b[0mhistory\u001b[0m\u001b[1;33m.\u001b[0m\u001b[0mhistory\u001b[0m\u001b[1;33m[\u001b[0m\u001b[1;34m'val_acc'\u001b[0m\u001b[1;33m]\u001b[0m\u001b[1;33m\u001b[0m\u001b[1;33m\u001b[0m\u001b[0m\n\u001b[0;32m      3\u001b[0m \u001b[0mloss\u001b[0m \u001b[1;33m=\u001b[0m \u001b[0mmodel\u001b[0m\u001b[1;33m.\u001b[0m\u001b[0mhistory\u001b[0m\u001b[1;33m.\u001b[0m\u001b[0mhistory\u001b[0m\u001b[1;33m[\u001b[0m\u001b[1;34m'loss'\u001b[0m\u001b[1;33m]\u001b[0m\u001b[1;33m\u001b[0m\u001b[1;33m\u001b[0m\u001b[0m\n\u001b[0;32m      4\u001b[0m \u001b[0mval_loss\u001b[0m \u001b[1;33m=\u001b[0m \u001b[0mmodel\u001b[0m\u001b[1;33m.\u001b[0m\u001b[0mhistory\u001b[0m\u001b[1;33m.\u001b[0m\u001b[0mhistory\u001b[0m\u001b[1;33m[\u001b[0m\u001b[1;34m'val_loss'\u001b[0m\u001b[1;33m]\u001b[0m\u001b[1;33m\u001b[0m\u001b[1;33m\u001b[0m\u001b[0m\n\u001b[0;32m      5\u001b[0m \u001b[1;33m\u001b[0m\u001b[0m\n",
      "\u001b[1;31mKeyError\u001b[0m: 'acc'"
     ]
    }
   ],
   "source": [
    "acc = model.history.history['acc']\n",
    "val_acc = model.history.history['val_acc']\n",
    "loss = model.history.history['loss']\n",
    "val_loss = model.history.history['val_loss']\n",
    "\n",
    "print(acc)\n",
    "print(val_acc)\n",
    "print(loss)\n",
    "print(val_loss)"
   ]
  },
  {
   "cell_type": "code",
   "execution_count": null,
   "id": "e2ba2121",
   "metadata": {},
   "outputs": [],
   "source": [
    "acc = model.history.history['acc']\n",
    "val_acc = model.history.history['val_acc']\n",
    "\n",
    "loss = model.history.history['loss']\n",
    "val_loss = model.history.history['val_loss']\n",
    "\n",
    "epochs_range = range(epochs_ft)\n",
    "\n",
    "plt.figure(figsize=(15, 5))\n",
    "plt.plot(epochs_range, acc, label='Training Accuracy')\n",
    "plt.plot(epochs_range, val_acc, label='Validation Accuracy')\n",
    "plt.legend(loc='lower right')\n",
    "plt.title('Training and Validation Accuracy')\n",
    "plt.show()"
   ]
  },
  {
   "cell_type": "code",
   "execution_count": null,
   "id": "e63fd2df",
   "metadata": {},
   "outputs": [],
   "source": [
    "plt.figure(figsize=(15, 5))\n",
    "plt.plot(epochs_range, loss, label='Training Loss')\n",
    "plt.plot(epochs_range, val_loss, label='Validation Loss')\n",
    "plt.legend(loc='upper right')\n",
    "plt.title('Training and Validation Loss')\n",
    "plt.show()"
   ]
  },
  {
   "cell_type": "code",
   "execution_count": null,
   "id": "0267066a",
   "metadata": {},
   "outputs": [],
   "source": [
    "from sklearn.metrics import classification_report\n",
    "\n",
    "print(classification_report(y_val, y_val_pred))"
   ]
  },
  {
   "cell_type": "markdown",
   "id": "88dfd756",
   "metadata": {},
   "source": [
    "Como puede ver en los gráficos, la precisión del entrenamiento y la precisión de la validación están desfasadas por un amplio margen y el modelo ha logrado solo alrededor del 92 % de precisión en el conjunto de validación.\n",
    "\n",
    "Veamos qué salió mal e intentemos aumentar el rendimiento general del modelo."
   ]
  },
  {
   "cell_type": "markdown",
   "id": "4a23ae9e",
   "metadata": {},
   "source": [
    "## Sobreajuste"
   ]
  },
  {
   "cell_type": "markdown",
   "id": "590df3ca",
   "metadata": {},
   "source": [
    "En los gráficos anteriores, la precisión del entrenamiento aumenta linealmente con el tiempo, mientras que la precisión de la validación se detiene alrededor del 35 % en el proceso de entrenamiento. Además, la diferencia en la precisión entre la precisión del entrenamiento y la validación es notable, un signo de sobreajuste .\n",
    "\n",
    "Cuando hay una pequeña cantidad de ejemplos de entrenamiento, el modelo a veces aprende de los ruidos o detalles no deseados de los ejemplos de entrenamiento, hasta el punto de afectar negativamente el rendimiento del modelo en los nuevos ejemplos. Este fenómeno se conoce como sobreajuste. Significa que el modelo tendrá dificultades para generalizar en un nuevo conjunto de datos.\n",
    "\n",
    "Hay múltiples formas de combatir el sobreajuste en el proceso de entrenamiento:\n",
    "\n",
    "- Aumento de datos (aplicada)\n",
    "- Aplicar giro horizontal (aplicada)\n",
    "- Rotar aleatoriamente la imagen (aplicada)\n",
    "- Aplicar aumento de zoom (aplicada)\n",
    "- Dropout"
   ]
  },
  {
   "cell_type": "markdown",
   "id": "806c0acc",
   "metadata": {},
   "source": [
    "## Dropout"
   ]
  },
  {
   "cell_type": "markdown",
   "id": "1253e3fa",
   "metadata": {},
   "source": [
    "técnica para reducir el sobreajuste es introducir deserción en la red. Es una forma de regularización que obliga a los pesos de la red a tomar solo valores pequeños, lo que hace que la distribución de los valores de peso sea más regular y la red puede reducir el sobreajuste en ejemplos de entrenamiento pequeños. Dropout es una de las técnicas de regularización utilizadas.\n",
    "\n",
    "Cuando aplica abandono a una capa, elimina aleatoriamente (establecido en cero) un número de unidades de salida de la capa aplicada durante el proceso de entrenamiento. Dropout toma un número fraccionario como su valor de entrada, en forma de 0.1, 0.2, 0.4, etc. Esto significa eliminar aleatoriamente el 10%, 20% o 40% de las unidades de salida de la capa aplicada.\n",
    "\n",
    "Cuando se aplica un abandono de 0,1 a una determinada capa, elimina aleatoriamente el 10 % de las unidades de salida en cada época de entrenamiento."
   ]
  },
  {
   "cell_type": "markdown",
   "id": "916074b4",
   "metadata": {},
   "source": [
    "### Creando una nueva red con Dropouts"
   ]
  },
  {
   "cell_type": "markdown",
   "id": "c1f409c4",
   "metadata": {},
   "source": [
    "Aquí, aplica el abandono a la primera y la última capa de agrupación máxima y a una capa completamente conectada que tiene 512 unidades de salida. El 30 % de la primera y la última capa de agrupación máxima, y ​​el 10 % de las unidades de salida de capa completamente conectadas, se establecen aleatoriamente en cero durante cada época de entrenamiento."
   ]
  },
  {
   "cell_type": "code",
   "execution_count": null,
   "id": "f297eac4",
   "metadata": {},
   "outputs": [],
   "source": [
    "https://www.tensorflow.org/api_docs/python/tf/keras/metrics/Recall"
   ]
  },
  {
   "cell_type": "code",
   "execution_count": null,
   "id": "f398f95f",
   "metadata": {},
   "outputs": [],
   "source": [
    "https://androidkt.com/precision-recall-and-f1/"
   ]
  },
  {
   "cell_type": "code",
   "execution_count": null,
   "id": "f7100a97",
   "metadata": {},
   "outputs": [],
   "source": [
    "https://keras.io/api/preprocessing/image/"
   ]
  },
  {
   "cell_type": "markdown",
   "id": "ea0eded3",
   "metadata": {},
   "source": [
    "https://www.kaggle.com/datasets/tourist55/alzheimers-dataset-4-class-of-images"
   ]
  },
  {
   "cell_type": "markdown",
   "id": "9801d913",
   "metadata": {},
   "source": [
    "https://towardsdatascience.com/alzheimer-diagnosis-with-deep-learning-a-survey-265406fa542a\n",
    "\n",
    "https://www.youtube.com/watch?v=3V9YFPfgyAY"
   ]
  },
  {
   "cell_type": "code",
   "execution_count": null,
   "id": "928f3c8b",
   "metadata": {},
   "outputs": [],
   "source": [
    "https://github.com/Yale-Deep-Learning-for-Alzheimers/Alzheimers-DL-Network"
   ]
  },
  {
   "cell_type": "code",
   "execution_count": null,
   "id": "40d36d8b",
   "metadata": {},
   "outputs": [],
   "source": [
    "https://www.kaggle.com/code/muneebkhurram/alzheimer-mri-classification"
   ]
  },
  {
   "cell_type": "markdown",
   "id": "eb5b6a73",
   "metadata": {},
   "source": [
    "0. Image Preparation for Convolutional Neural Networks with TensorFlow's Keras API\n",
    "https://www.youtube.com/watch?v=_L2uYfVV48I&list=PLZbbT5o_s2xrwRnXk_yCPtnqqo4_u2YGL&index=10\n",
    "\n",
    "0.1 Data Augmentation with TensorFlow's Keras API\n",
    "https://www.youtube.com/watch?v=WSvpLUietIM&list=PLZbbT5o_s2xrwRnXk_yCPtnqqo4_u2YGL&index=14\n",
    "\n",
    "1.Keras with TensorFlow - Data Processing for Neural Network Training\n",
    "https://www.youtube.com/watch?v=3FwGDUD_ZuQ&list=PLZbbT5o_s2xrwRnXk_yCPtnqqo4_u2YGL&index=3\n",
    "\n",
    "2.Build and Train a Convolutional Neural Network with TensorFlow's Keras API\n",
    "https://www.youtube.com/watch?v=3V9YFPfgyAY&t=326s\n",
    "\n",
    "3.Keras with TensorFlow Prerequisites - Getting Started With Neural Networks\n",
    "https://www.youtube.com/watch?v=e47ISlpYFok\n",
    "\n",
    "4.Train a Fine-Tuned Neural Network with TensorFlow's Keras API\n",
    "https://www.youtube.com/watch?v=TguZ0WK0orQ\n",
    "\n",
    "5.Create a Confusion Matrix for Neural Network Predictions\n",
    "https://www.youtube.com/watch?v=VYGVOwlT4oE&list=PLZbbT5o_s2xrwRnXk_yCPtnqqo4_u2YGL&index=9\n",
    "\n",
    "6.MobileNet Image Classification with TensorFlow's Keras API\n",
    "https://www.youtube.com/watch?v=5JAZiue-fzY&list=PLZbbT5o_s2xrwRnXk_yCPtnqqo4_u2YGL&index=19\n",
    "\n",
    "7.Save and Load a Model with TensorFlow's Keras API\n",
    "https://www.youtube.com/watch?v=8Nl-of5C3uA&list=PLZbbT5o_s2xrwRnXk_yCPtnqqo4_u2YGL&index=10"
   ]
  },
  {
   "cell_type": "markdown",
   "id": "61117e73",
   "metadata": {},
   "source": [
    "https://keras.io/api/applications/"
   ]
  },
  {
   "cell_type": "markdown",
   "id": "736d0513",
   "metadata": {},
   "source": [
    "https://note.nkmk.me/python-tensorflow-keras-applications-pretrained-models/"
   ]
  }
 ],
 "metadata": {
  "kernelspec": {
   "display_name": "gpu_tfm_unir",
   "language": "python",
   "name": "gpu_tfm_unir"
  },
  "language_info": {
   "codemirror_mode": {
    "name": "ipython",
    "version": 3
   },
   "file_extension": ".py",
   "mimetype": "text/x-python",
   "name": "python",
   "nbconvert_exporter": "python",
   "pygments_lexer": "ipython3",
   "version": "3.6.13"
  }
 },
 "nbformat": 4,
 "nbformat_minor": 5
}
