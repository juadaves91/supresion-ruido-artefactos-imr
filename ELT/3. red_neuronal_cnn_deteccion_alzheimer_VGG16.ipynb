{
 "cells": [
  {
   "cell_type": "markdown",
   "id": "217a3d2e",
   "metadata": {},
   "source": [
    "<img src=\"https://www.unir.net/wp-content/uploads/2019/11/Unir_2021_logo.svg\" width=\"240\" height=\"240\" align=\"right\"/>"
   ]
  },
  {
   "cell_type": "markdown",
   "id": "5c36edf2",
   "metadata": {},
   "source": [
    "<span>\n",
    "<h2>Eliminación de ruido en imagenes de resonancia magnetica, mediante red neuronal convolucional CNN </h2> \n",
    "</span>"
   ]
  },
  {
   "cell_type": "markdown",
   "id": "2e9b7d14",
   "metadata": {},
   "source": [
    "0. Image Preparation for Convolutional Neural Networks with TensorFlow's Keras API\n",
    "https://www.youtube.com/watch?v=_L2uYfVV48I&list=PLZbbT5o_s2xrwRnXk_yCPtnqqo4_u2YGL&index=10\n",
    "\n",
    "0.1 Data Augmentation with TensorFlow's Keras API\n",
    "https://www.youtube.com/watch?v=WSvpLUietIM&list=PLZbbT5o_s2xrwRnXk_yCPtnqqo4_u2YGL&index=14\n",
    "\n",
    "1.Keras with TensorFlow - Data Processing for Neural Network Training\n",
    "https://www.youtube.com/watch?v=3FwGDUD_ZuQ&list=PLZbbT5o_s2xrwRnXk_yCPtnqqo4_u2YGL&index=3\n",
    "\n",
    "2.Build and Train a Convolutional Neural Network with TensorFlow's Keras API\n",
    "https://www.youtube.com/watch?v=3V9YFPfgyAY&t=326s\n",
    "\n",
    "3.Keras with TensorFlow Prerequisites - Getting Started With Neural Networks\n",
    "https://www.youtube.com/watch?v=e47ISlpYFok\n",
    "\n",
    "4.Train a Fine-Tuned Neural Network with TensorFlow's Keras API\n",
    "https://www.youtube.com/watch?v=TguZ0WK0orQ\n",
    "\n",
    "5.Create a Confusion Matrix for Neural Network Predictions\n",
    "https://www.youtube.com/watch?v=VYGVOwlT4oE&list=PLZbbT5o_s2xrwRnXk_yCPtnqqo4_u2YGL&index=9\n",
    "\n",
    "6.MobileNet Image Classification with TensorFlow's Keras API\n",
    "https://www.youtube.com/watch?v=5JAZiue-fzY&list=PLZbbT5o_s2xrwRnXk_yCPtnqqo4_u2YGL&index=19\n",
    "\n",
    "7.Save and Load a Model with TensorFlow's Keras API\n",
    "https://www.youtube.com/watch?v=8Nl-of5C3uA&list=PLZbbT5o_s2xrwRnXk_yCPtnqqo4_u2YGL&index=10"
   ]
  },
  {
   "cell_type": "markdown",
   "id": "edea9d0f",
   "metadata": {},
   "source": [
    "## Instalar librerías"
   ]
  },
  {
   "cell_type": "code",
   "execution_count": 1,
   "id": "c17c102e",
   "metadata": {},
   "outputs": [],
   "source": [
    "import warnings\n",
    "warnings.simplefilter('ignore', category=FutureWarning)"
   ]
  },
  {
   "cell_type": "code",
   "execution_count": null,
   "id": "452d1720",
   "metadata": {},
   "outputs": [],
   "source": [
    "pip install tf-nightly"
   ]
  },
  {
   "cell_type": "code",
   "execution_count": null,
   "id": "02996336",
   "metadata": {},
   "outputs": [],
   "source": [
    "pip install h5py"
   ]
  },
  {
   "cell_type": "code",
   "execution_count": 50,
   "id": "6de0b3a8",
   "metadata": {},
   "outputs": [
    {
     "name": "stdout",
     "output_type": "stream",
     "text": [
      "Collecting scikit-learn\n",
      "  Using cached scikit_learn-1.0.2-cp37-cp37m-win_amd64.whl (7.1 MB)\n",
      "Collecting joblib>=0.11\n",
      "  Using cached joblib-1.1.0-py2.py3-none-any.whl (306 kB)\n",
      "Requirement already satisfied: scipy>=1.1.0 in c:\\users\\juan david\\.conda\\envs\\tensorflow-ml\\lib\\site-packages (from scikit-learn) (1.7.3)\n",
      "Collecting threadpoolctl>=2.0.0\n",
      "  Using cached threadpoolctl-3.1.0-py3-none-any.whl (14 kB)\n",
      "Requirement already satisfied: numpy>=1.14.6 in c:\\users\\juan david\\.conda\\envs\\tensorflow-ml\\lib\\site-packages (from scikit-learn) (1.21.6)\n",
      "Installing collected packages: threadpoolctl, joblib, scikit-learn\n",
      "Successfully installed joblib-1.1.0 scikit-learn-1.0.2 threadpoolctl-3.1.0\n",
      "Note: you may need to restart the kernel to use updated packages.\n"
     ]
    }
   ],
   "source": [
    "pip install scikit-learn"
   ]
  },
  {
   "cell_type": "code",
   "execution_count": 1,
   "id": "17fc3746",
   "metadata": {
    "scrolled": true
   },
   "outputs": [
    {
     "name": "stdout",
     "output_type": "stream",
     "text": [
      "Requirement already satisfied: tensorflow-directml in c:\\programdata\\anaconda3\\envs\\gpu_tfm_fn\\lib\\site-packages (1.15.7)\n",
      "Requirement already satisfied: numpy<1.19.0,>=1.16.0 in c:\\programdata\\anaconda3\\envs\\gpu_tfm_fn\\lib\\site-packages (from tensorflow-directml) (1.18.5)\n",
      "Requirement already satisfied: google-pasta>=0.1.6 in c:\\programdata\\anaconda3\\envs\\gpu_tfm_fn\\lib\\site-packages (from tensorflow-directml) (0.2.0)\n",
      "Requirement already satisfied: wrapt>=1.11.1 in c:\\programdata\\anaconda3\\envs\\gpu_tfm_fn\\lib\\site-packages (from tensorflow-directml) (1.14.1)\n",
      "Requirement already satisfied: gast==0.2.2 in c:\\programdata\\anaconda3\\envs\\gpu_tfm_fn\\lib\\site-packages (from tensorflow-directml) (0.2.2)\n",
      "Requirement already satisfied: wheel>=0.26 in c:\\programdata\\anaconda3\\envs\\gpu_tfm_fn\\lib\\site-packages (from tensorflow-directml) (0.37.1)\n",
      "Requirement already satisfied: termcolor>=1.1.0 in c:\\programdata\\anaconda3\\envs\\gpu_tfm_fn\\lib\\site-packages (from tensorflow-directml) (1.1.0)\n",
      "Requirement already satisfied: grpcio>=1.8.6 in c:\\programdata\\anaconda3\\envs\\gpu_tfm_fn\\lib\\site-packages (from tensorflow-directml) (1.46.3)\n",
      "Requirement already satisfied: keras-preprocessing>=1.0.5 in c:\\programdata\\anaconda3\\envs\\gpu_tfm_fn\\lib\\site-packages (from tensorflow-directml) (1.1.2)\n",
      "Requirement already satisfied: keras-applications>=1.0.8 in c:\\programdata\\anaconda3\\envs\\gpu_tfm_fn\\lib\\site-packages (from tensorflow-directml) (1.0.8)\n",
      "Requirement already satisfied: absl-py>=0.7.0 in c:\\programdata\\anaconda3\\envs\\gpu_tfm_fn\\lib\\site-packages (from tensorflow-directml) (1.1.0)\n",
      "Requirement already satisfied: six>=1.10.0 in c:\\programdata\\anaconda3\\envs\\gpu_tfm_fn\\lib\\site-packages (from tensorflow-directml) (1.16.0)\n",
      "Requirement already satisfied: opt-einsum>=2.3.2 in c:\\programdata\\anaconda3\\envs\\gpu_tfm_fn\\lib\\site-packages (from tensorflow-directml) (3.3.0)\n",
      "Requirement already satisfied: astor>=0.6.0 in c:\\programdata\\anaconda3\\envs\\gpu_tfm_fn\\lib\\site-packages (from tensorflow-directml) (0.8.1)\n",
      "Requirement already satisfied: tensorboard<1.16.0,>=1.15.0 in c:\\programdata\\anaconda3\\envs\\gpu_tfm_fn\\lib\\site-packages (from tensorflow-directml) (1.15.0)\n",
      "Requirement already satisfied: tensorflow-estimator==1.15.1 in c:\\programdata\\anaconda3\\envs\\gpu_tfm_fn\\lib\\site-packages (from tensorflow-directml) (1.15.1)\n",
      "Requirement already satisfied: h5py<=2.10.0 in c:\\programdata\\anaconda3\\envs\\gpu_tfm_fn\\lib\\site-packages (from tensorflow-directml) (2.10.0)\n",
      "Requirement already satisfied: protobuf>=3.6.1 in c:\\programdata\\anaconda3\\envs\\gpu_tfm_fn\\lib\\site-packages (from tensorflow-directml) (4.21.1)\n",
      "Requirement already satisfied: werkzeug>=0.11.15 in c:\\programdata\\anaconda3\\envs\\gpu_tfm_fn\\lib\\site-packages (from tensorboard<1.16.0,>=1.15.0->tensorflow-directml) (2.1.2)\n",
      "Requirement already satisfied: setuptools>=41.0.0 in c:\\programdata\\anaconda3\\envs\\gpu_tfm_fn\\lib\\site-packages (from tensorboard<1.16.0,>=1.15.0->tensorflow-directml) (61.2.0)\n",
      "Requirement already satisfied: markdown>=2.6.8 in c:\\programdata\\anaconda3\\envs\\gpu_tfm_fn\\lib\\site-packages (from tensorboard<1.16.0,>=1.15.0->tensorflow-directml) (3.3.7)\n",
      "Requirement already satisfied: importlib-metadata>=4.4 in c:\\programdata\\anaconda3\\envs\\gpu_tfm_fn\\lib\\site-packages (from markdown>=2.6.8->tensorboard<1.16.0,>=1.15.0->tensorflow-directml) (4.11.4)\n",
      "Requirement already satisfied: zipp>=0.5 in c:\\programdata\\anaconda3\\envs\\gpu_tfm_fn\\lib\\site-packages (from importlib-metadata>=4.4->markdown>=2.6.8->tensorboard<1.16.0,>=1.15.0->tensorflow-directml) (3.8.0)\n",
      "Requirement already satisfied: typing-extensions>=3.6.4 in c:\\programdata\\anaconda3\\envs\\gpu_tfm_fn\\lib\\site-packages (from importlib-metadata>=4.4->markdown>=2.6.8->tensorboard<1.16.0,>=1.15.0->tensorflow-directml) (4.2.0)\n"
     ]
    },
    {
     "name": "stderr",
     "output_type": "stream",
     "text": [
      "WARNING: Ignoring invalid distribution -ensorflow-directml (c:\\programdata\\anaconda3\\envs\\gpu_tfm_fn\\lib\\site-packages)\n",
      "WARNING: Ignoring invalid distribution -ensorflow-directml (c:\\programdata\\anaconda3\\envs\\gpu_tfm_fn\\lib\\site-packages)\n",
      "WARNING: Ignoring invalid distribution -ensorflow-directml (c:\\programdata\\anaconda3\\envs\\gpu_tfm_fn\\lib\\site-packages)\n",
      "WARNING: Ignoring invalid distribution -ensorflow-directml (c:\\programdata\\anaconda3\\envs\\gpu_tfm_fn\\lib\\site-packages)\n",
      "WARNING: Ignoring invalid distribution -ensorflow-directml (c:\\programdata\\anaconda3\\envs\\gpu_tfm_fn\\lib\\site-packages)\n",
      "WARNING: Ignoring invalid distribution -ensorflow-directml (c:\\programdata\\anaconda3\\envs\\gpu_tfm_fn\\lib\\site-packages)\n"
     ]
    }
   ],
   "source": [
    "!pip install tensorflow-directml"
   ]
  },
  {
   "cell_type": "code",
   "execution_count": null,
   "id": "d8378ad6",
   "metadata": {},
   "outputs": [],
   "source": [
    "!pip install matplotlib"
   ]
  },
  {
   "cell_type": "code",
   "execution_count": null,
   "id": "1c012353",
   "metadata": {},
   "outputs": [],
   "source": [
    "!pip install opencv-python"
   ]
  },
  {
   "cell_type": "code",
   "execution_count": 34,
   "id": "733eaeb1",
   "metadata": {},
   "outputs": [
    {
     "name": "stdout",
     "output_type": "stream",
     "text": [
      "Requirement already satisfied: pillow in c:\\users\\juan david\\.conda\\envs\\tensorflow-ml\\lib\\site-packages (9.1.1)\n"
     ]
    }
   ],
   "source": [
    "!pip install pillow"
   ]
  },
  {
   "cell_type": "code",
   "execution_count": 3,
   "id": "00a0dbb5",
   "metadata": {},
   "outputs": [],
   "source": [
    "import sys\n",
    "from PIL import Image\n",
    "sys.modules['Image'] = Image "
   ]
  },
  {
   "cell_type": "markdown",
   "id": "044224dd",
   "metadata": {},
   "source": [
    "## Importar librerías"
   ]
  },
  {
   "cell_type": "code",
   "execution_count": 2,
   "id": "7173c347",
   "metadata": {},
   "outputs": [],
   "source": [
    "import warnings\n",
    "warnings.simplefilter('ignore', category=FutureWarning)"
   ]
  },
  {
   "cell_type": "code",
   "execution_count": 1,
   "id": "11b3a8a4",
   "metadata": {},
   "outputs": [],
   "source": [
    "import tensorflow\n",
    "from tensorflow import keras\n",
    "from tensorflow.keras.models import Sequential\n",
    "from tensorflow.keras.layers import Activation, Dense, Flatten, BatchNormalization, Conv2D, MaxPool2D\n",
    "from tensorflow.keras.optimizers import Adam\n",
    "from tensorflow.keras.metrics import categorical_crossentropy\n",
    "from tensorflow.keras.preprocessing.image import ImageDataGenerator\n",
    "from sklearn.metrics import confusion_matrix\n",
    "import itertools\n",
    "import shutil\n",
    "import random\n",
    "import glob\n",
    "import matplotlib.pyplot as plt\n",
    "import cv2\n",
    "import datetime\n",
    "import time\n",
    "import numpy as np\n",
    "from sklearn.metrics import plot_confusion_matrix"
   ]
  },
  {
   "cell_type": "markdown",
   "id": "713c5ed3",
   "metadata": {},
   "source": [
    "## Configurar GPU con TensorFlow"
   ]
  },
  {
   "cell_type": "code",
   "execution_count": 2,
   "id": "9f90b773",
   "metadata": {
    "scrolled": true
   },
   "outputs": [
    {
     "name": "stdout",
     "output_type": "stream",
     "text": [
      "Num GPUs available 0\n",
      "/device:DML:0\n",
      "True\n"
     ]
    }
   ],
   "source": [
    "tensorflow.test.is_gpu_available()\n",
    "print(\"Num GPUs available\", len(tensorflow.config.experimental.list_physical_devices('GPU')))\n",
    "\n",
    "print(tensorflow.test.gpu_device_name())\n",
    "print(tensorflow.test.is_gpu_available())"
   ]
  },
  {
   "cell_type": "markdown",
   "id": "16a38f6a",
   "metadata": {},
   "source": [
    "## Preparacion de imagenes"
   ]
  },
  {
   "cell_type": "markdown",
   "id": "0c9f4c52",
   "metadata": {},
   "source": [
    "### Definir conjuntos de datos"
   ]
  },
  {
   "cell_type": "markdown",
   "id": "d2d473b4",
   "metadata": {},
   "source": [
    "#### Definir variables de entrenamiento, validacion y prueba"
   ]
  },
  {
   "cell_type": "code",
   "execution_count": 4,
   "id": "2d0c413c",
   "metadata": {},
   "outputs": [],
   "source": [
    "import glob\n",
    "\n",
    "def read_jpg_files(root_dir):\n",
    "\n",
    "    files = []\n",
    "    for filename in glob.iglob(root_dir + '**/*.jpg', recursive=True):\n",
    "        files.append(filename)\n",
    "    images = [cv2.imread(file) for file in files]  \n",
    "    return images"
   ]
  },
  {
   "cell_type": "code",
   "execution_count": 5,
   "id": "ddf58186",
   "metadata": {},
   "outputs": [],
   "source": [
    "# Entrenamiento\n",
    "path_train = 'D:/ADNI - IDA/ADNI1_Complete 1Yr 1.5T/ADNI-PRE-PROCESAMIENTO/ENTRENAMIENTO/' \n",
    "# data_dir_train = read_jpg_files(path_train)\n",
    "# print(len(data_dir_train)) \n",
    "\n",
    "# Validacion\n",
    "path_val = 'D:/ADNI - IDA/ADNI1_Complete 1Yr 1.5T/ADNI-PRE-PROCESAMIENTO/VALIDACION/' \n",
    "# data_dir_val = read_jpg_files(path_val)\n",
    "# print(len(data_dir_val)) \n",
    "\n",
    "# Pruebas\n",
    "path_test = r'D:/ADNI - IDA/ADNI1_Complete 1Yr 1.5T/ADNI-PRE-PROCESAMIENTO/PRUEBA/'\n",
    "# data_dir_test = read_jpg_files(path_test)\n",
    "# print(len(data_dir_test)) "
   ]
  },
  {
   "cell_type": "markdown",
   "id": "2eff27bb",
   "metadata": {},
   "source": [
    "### Definir conjuntos de datos en formato KERAS"
   ]
  },
  {
   "cell_type": "code",
   "execution_count": 6,
   "id": "75ad463b",
   "metadata": {},
   "outputs": [
    {
     "name": "stdout",
     "output_type": "stream",
     "text": [
      "True\n"
     ]
    }
   ],
   "source": [
    "print(tensorflow.keras.applications.vgg16.VGG16 is tensorflow.keras.applications.VGG16)"
   ]
  },
  {
   "cell_type": "code",
   "execution_count": 7,
   "id": "15974f5c",
   "metadata": {},
   "outputs": [
    {
     "name": "stdout",
     "output_type": "stream",
     "text": [
      "True\n"
     ]
    }
   ],
   "source": [
    "from tensorflow.keras.applications.vgg16 import VGG16\n",
    "print(tensorflow.keras.applications.vgg16.VGG16 is VGG16)"
   ]
  },
  {
   "cell_type": "code",
   "execution_count": 8,
   "id": "a7e7f034",
   "metadata": {},
   "outputs": [],
   "source": [
    "def to_grayscale_then_rgb(image):\n",
    "    image = tf.image.rgb_to_grayscale(image)\n",
    "    image = tf.image.grayscale_to_rgb(image)\n",
    "    return image"
   ]
  },
  {
   "cell_type": "code",
   "execution_count": 9,
   "id": "17ee933d",
   "metadata": {},
   "outputs": [
    {
     "name": "stdout",
     "output_type": "stream",
     "text": [
      "Found 5343 images belonging to 3 classes.\n",
      "Found 1265 images belonging to 3 classes.\n",
      "Found 63 images belonging to 3 classes.\n"
     ]
    }
   ],
   "source": [
    "# Generacion de lotes de datos para modelo en Keras en formato vgg16\n",
    "\n",
    "# Entrenamiento\n",
    "train_batches = ImageDataGenerator(preprocessing_function=tensorflow.keras.applications.vgg16.preprocess_input) \\\n",
    "    .flow_from_directory(directory=path_train, target_size=(224,224), classes=['AD','CN','MCI'], batch_size=10)\n",
    "    #.flow_from_directory(directory=path_train, target_size=(224,224), classes=['AD','CN','MCI'], batch_size=10, color_mode='grayscale')\n",
    "\n",
    "# Validacion\n",
    "valid_batches = ImageDataGenerator(preprocessing_function=tensorflow.keras.applications.vgg16.preprocess_input) \\\n",
    "    .flow_from_directory(directory=path_val, target_size=(224,224), classes=['AD','CN','MCI'], batch_size=10)\n",
    "    #.flow_from_directory(directory=path_val, target_size=(224,224), classes=['AD','CN','MCI'], batch_size=10, color_mode='grayscale')\n",
    "\n",
    "# Pruebas\n",
    "test_batches = ImageDataGenerator(preprocessing_function=tensorflow.keras.applications.vgg16.preprocess_input) \\\n",
    "    .flow_from_directory(directory=path_test, target_size=(224,224), classes=['AD','CN','MCI'], batch_size=10, shuffle=False)\n",
    "    #.flow_from_directory(directory=path_test, target_size=(224,224), classes=['AD','CN','MCI'], batch_size=10, color_mode='grayscale', shuffle=False)"
   ]
  },
  {
   "cell_type": "code",
   "execution_count": 12,
   "id": "c8e939d0",
   "metadata": {},
   "outputs": [],
   "source": [
    "assert train_batches.n == 5343 \n",
    "assert valid_batches.n == 1265\n",
    "assert test_batches.n == 63\n",
    "assert train_batches.num_classes == valid_batches.num_classes == test_batches.num_classes == 3 "
   ]
  },
  {
   "cell_type": "code",
   "execution_count": 13,
   "id": "3d20946a",
   "metadata": {},
   "outputs": [],
   "source": [
    "imgs, labels = next(train_batches)"
   ]
  },
  {
   "cell_type": "code",
   "execution_count": 14,
   "id": "6bc5a44f",
   "metadata": {},
   "outputs": [],
   "source": [
    "\"\"\"Esta funcion mostrara imagenes en un grid con 1 fila y 10 columnas\n",
    "\n",
    "Parameters\n",
    "----------\n",
    "list : numpy.ndarray\n",
    "\"\"\"\n",
    "\n",
    "def plotImages(images_arr):\n",
    "    fig, axes = plt.subplots(1, 10, figsize=(20,20))\n",
    "    axes =  axes.flatten()\n",
    "    for img, ax in zip(images_arr, axes):\n",
    "        ax.imshow(img)\n",
    "        ax.axis('off')\n",
    "    plt.tight_layout()\n",
    "    plt.show()"
   ]
  },
  {
   "cell_type": "code",
   "execution_count": 15,
   "id": "e2f5f2fc",
   "metadata": {},
   "outputs": [
    {
     "data": {
      "text/plain": [
       "(224, 224, 3)"
      ]
     },
     "execution_count": 15,
     "metadata": {},
     "output_type": "execute_result"
    }
   ],
   "source": [
    "imgs[0].shape"
   ]
  },
  {
   "cell_type": "code",
   "execution_count": 13,
   "id": "a887766e",
   "metadata": {},
   "outputs": [
    {
     "name": "stderr",
     "output_type": "stream",
     "text": [
      "Clipping input data to the valid range for imshow with RGB data ([0..1] for floats or [0..255] for integers).\n",
      "Clipping input data to the valid range for imshow with RGB data ([0..1] for floats or [0..255] for integers).\n",
      "Clipping input data to the valid range for imshow with RGB data ([0..1] for floats or [0..255] for integers).\n",
      "Clipping input data to the valid range for imshow with RGB data ([0..1] for floats or [0..255] for integers).\n",
      "Clipping input data to the valid range for imshow with RGB data ([0..1] for floats or [0..255] for integers).\n",
      "Clipping input data to the valid range for imshow with RGB data ([0..1] for floats or [0..255] for integers).\n",
      "Clipping input data to the valid range for imshow with RGB data ([0..1] for floats or [0..255] for integers).\n",
      "Clipping input data to the valid range for imshow with RGB data ([0..1] for floats or [0..255] for integers).\n",
      "Clipping input data to the valid range for imshow with RGB data ([0..1] for floats or [0..255] for integers).\n",
      "Clipping input data to the valid range for imshow with RGB data ([0..1] for floats or [0..255] for integers).\n"
     ]
    },
    {
     "data": {
      "image/png": "[encoded data removed]",
      "text/plain": [
       "<Figure size 1440x1440 with 10 Axes>"
      ]
     },
     "metadata": {
      "needs_background": "light"
     },
     "output_type": "display_data"
    },
    {
     "name": "stdout",
     "output_type": "stream",
     "text": [
      "[[0. 0. 1.]\n",
      " [1. 0. 0.]\n",
      " [0. 0. 1.]\n",
      " [0. 1. 0.]\n",
      " [1. 0. 0.]\n",
      " [0. 1. 0.]\n",
      " [1. 0. 0.]\n",
      " [0. 1. 0.]\n",
      " [1. 0. 0.]\n",
      " [0. 1. 0.]]\n"
     ]
    }
   ],
   "source": [
    "plotImages(imgs)\n",
    "print(labels)"
   ]
  },
  {
   "cell_type": "markdown",
   "id": "9f58917b",
   "metadata": {},
   "source": [
    "## Construccion y entrenamiento del modelo CNN"
   ]
  },
  {
   "cell_type": "markdown",
   "id": "ffe77542",
   "metadata": {},
   "source": [
    "<p>\n",
    "El modelo VGG16 fue el modelo que gano la competicion de clasificacion de imagenes en 2014, en la ImageNet competition. VGG16 es un modelo de red neuronal convolucional propuesto por K. Simonyan y A. Zisserman de la Universidad de Oxford en el artículo \"Redes convolucionales muy profundas para el reconocimiento de imágenes a gran escala\".El modelo logra una precisión de prueba del 92,7% entre los 5 primeros en ImageNet,que es un conjunto de datos de más de 14 millones de imágenes pertenecientes a 1000 clases. Fue uno de los modelos famosos presentados a ILSVRC-2014 . Realiza la mejora con respecto a AlexNet al reemplazar filtros grandes del tamaño del kernel (11 y 5 en la primera y segunda capa convolucional, respectivamente) con múltiples filtros del tamaño del kernel 3×3 uno tras otro. VGG16 fue entrenado durante semanas y estaba usando GPU NVIDIA Titan Black.</p>\n",
    "\n",
    "Desafortunadamente, hay dos grandes inconvenientes con VGGNet:\n",
    "Es  dolorosamente lento  entrenar.\n",
    "Los pesos de la arquitectura de red en sí mismos son bastante grandes (con respecto al disco/ancho de banda).\n",
    "\n",
    "https://neurohive.io/en/popular-networks/vgg16/"
   ]
  },
  {
   "cell_type": "code",
   "execution_count": 16,
   "id": "e2ef773d",
   "metadata": {},
   "outputs": [],
   "source": [
    "def conv_model(device_name):\n",
    "    with tensorflow.device(device_name):\n",
    "        model = Sequential()\n",
    "        model.add(Conv2D(filters=32, kernel_size=(3,3), activation='relu', padding='same', input_shape=(224,224,3)))\n",
    "        model.add(MaxPool2D(pool_size=(2,2), strides=2))\n",
    "        model.add(Conv2D(filters=64, kernel_size=(3,3), activation='relu', padding='same'))\n",
    "        model.add( MaxPool2D(pool_size=(2,2), strides=2))\n",
    "        model.add(Flatten())\n",
    "        model.add(Dense(units=3, activation='softmax'))\n",
    "        \n",
    "        model.compile(optimizer=Adam(learning_rate=0.0001), \n",
    "              loss='categorical_crossentropy', \n",
    "              metrics=['accuracy'])\n",
    "        return model"
   ]
  },
  {
   "cell_type": "code",
   "execution_count": 17,
   "id": "cbe0d992",
   "metadata": {},
   "outputs": [],
   "source": [
    "def run(model_arg):\n",
    "    model_arg.fit(x=train_batches,\n",
    "              validation_data=valid_batches,\n",
    "              epochs=10,\n",
    "              verbose=2)    \n",
    "    return model_arg"
   ]
  },
  {
   "cell_type": "code",
   "execution_count": 18,
   "id": "692904db",
   "metadata": {},
   "outputs": [
    {
     "name": "stdout",
     "output_type": "stream",
     "text": [
      "WARNING:tensorflow:From C:\\ProgramData\\Anaconda3\\envs\\gpu_tfm_unir\\lib\\site-packages\\tensorflow_core\\python\\ops\\resource_variable_ops.py:1630: calling BaseResourceVariable.__init__ (from tensorflow.python.ops.resource_variable_ops) with constraint is deprecated and will be removed in a future version.\n",
      "Instructions for updating:\n",
      "If using Keras pass *_constraint arguments to layers.\n"
     ]
    }
   ],
   "source": [
    "#cpu_model = conv_model('CPU')\n",
    "gpu_model = conv_model('DML')"
   ]
  },
  {
   "cell_type": "code",
   "execution_count": 19,
   "id": "1f77cdc4",
   "metadata": {},
   "outputs": [
    {
     "name": "stdout",
     "output_type": "stream",
     "text": [
      "Model: \"sequential\"\n",
      "_________________________________________________________________\n",
      "Layer (type)                 Output Shape              Param #   \n",
      "=================================================================\n",
      "conv2d (Conv2D)              (None, 224, 224, 32)      896       \n",
      "_________________________________________________________________\n",
      "max_pooling2d (MaxPooling2D) (None, 112, 112, 32)      0         \n",
      "_________________________________________________________________\n",
      "conv2d_1 (Conv2D)            (None, 112, 112, 64)      18496     \n",
      "_________________________________________________________________\n",
      "max_pooling2d_1 (MaxPooling2 (None, 56, 56, 64)        0         \n",
      "_________________________________________________________________\n",
      "flatten (Flatten)            (None, 200704)            0         \n",
      "_________________________________________________________________\n",
      "dense (Dense)                (None, 3)                 602115    \n",
      "=================================================================\n",
      "Total params: 621,507\n",
      "Trainable params: 621,507\n",
      "Non-trainable params: 0\n",
      "_________________________________________________________________\n"
     ]
    }
   ],
   "source": [
    "#cpu_model.summary()\n",
    "gpu_model.summary()"
   ]
  },
  {
   "cell_type": "code",
   "execution_count": 20,
   "id": "2de9e03e",
   "metadata": {},
   "outputs": [
    {
     "name": "stdout",
     "output_type": "stream",
     "text": [
      "Procesando entrenamiento del modelo.. 2022-06-19 21:27:52\n",
      "Epoch 1/10\n",
      "Epoch 1/10\n",
      "535/535 - 18s - loss: 5.1131 - acc: 0.4424 - val_loss: 1.2199 - val_acc: 0.4458\n",
      "Epoch 2/10\n",
      "Epoch 1/10\n",
      "535/535 - 17s - loss: 0.4574 - acc: 0.8173 - val_loss: 1.4152 - val_acc: 0.4696\n",
      "Epoch 3/10\n",
      "Epoch 1/10\n",
      "535/535 - 16s - loss: 0.0698 - acc: 0.9888 - val_loss: 1.7043 - val_acc: 0.4767\n",
      "Epoch 4/10\n",
      "Epoch 1/10\n",
      "535/535 - 17s - loss: 0.0122 - acc: 0.9996 - val_loss: 1.9784 - val_acc: 0.4648\n",
      "Epoch 5/10\n",
      "Epoch 1/10\n",
      "535/535 - 17s - loss: 0.0034 - acc: 1.0000 - val_loss: 2.1011 - val_acc: 0.4877\n",
      "Epoch 6/10\n",
      "Epoch 1/10\n",
      "535/535 - 16s - loss: 0.0016 - acc: 1.0000 - val_loss: 2.2597 - val_acc: 0.4798\n",
      "Epoch 7/10\n",
      "Epoch 1/10\n",
      "535/535 - 16s - loss: 9.7017e-04 - acc: 1.0000 - val_loss: 2.3702 - val_acc: 0.4759\n",
      "Epoch 8/10\n",
      "Epoch 1/10\n",
      "535/535 - 17s - loss: 6.3560e-04 - acc: 1.0000 - val_loss: 2.4896 - val_acc: 0.4798\n",
      "Epoch 9/10\n",
      "Epoch 1/10\n",
      "535/535 - 17s - loss: 4.3491e-04 - acc: 1.0000 - val_loss: 2.5804 - val_acc: 0.4830\n",
      "Epoch 10/10\n",
      "Epoch 1/10\n",
      "535/535 - 17s - loss: 3.0257e-04 - acc: 1.0000 - val_loss: 2.6774 - val_acc: 0.4862\n",
      "Estampa tiempo fin entrenamiento.. 2022-06-19 21:30:43\n",
      "\n",
      "\n",
      "Tiempo de entrenamiento en GPU con 10 Epochs: 0:02:50.487528 segundos\n"
     ]
    }
   ],
   "source": [
    "#cpu_model = conv_model('CPU')\n",
    "gpu_model = conv_model('DML')\n",
    "\n",
    "currentime_ini = datetime.datetime.now()\n",
    "time = currentime_ini.strftime(\"%Y-%m-%d %H:%M:%S\")\n",
    "print(\"Procesando entrenamiento del modelo..\", time)\n",
    "\n",
    "#conv_cpu_trained = run(cpu_model)\n",
    "conv_gpu_trained = run(gpu_model)\n",
    "\n",
    "currentime_fin = datetime.datetime.now()\n",
    "time = currentime_fin.strftime(\"%Y-%m-%d %H:%M:%S\")\n",
    "diff = currentime_fin - currentime_ini\n",
    "print(\"Estampa tiempo fin entrenamiento..\", time)\n",
    "\n",
    "\n",
    "#print('Tiempo de entrenamiento en CPU con 10 Epochs: {} segundos'.format(conv_cpu_time))\n",
    "print('\\n')\n",
    "print('Tiempo de entrenamiento en GPU con 10 Epochs: {} segundos'.format(diff))"
   ]
  },
  {
   "cell_type": "markdown",
   "id": "ebfee4f7",
   "metadata": {},
   "source": [
    "La exactitud o accuracy en el cliclo (epoch) 6 al 10 fue de 100% \n",
    "y la validacion de exactitud (val_acc) tomo valores entre: 43.26% y 43.03% lo que nos indica que no es tan buena"
   ]
  },
  {
   "cell_type": "markdown",
   "id": "010abad0",
   "metadata": {},
   "source": [
    "## Prediccion"
   ]
  },
  {
   "cell_type": "code",
   "execution_count": 21,
   "id": "5f58e5de",
   "metadata": {},
   "outputs": [],
   "source": [
    "predictions = gpu_model.predict(x = test_batches, \n",
    "                                verbose = 0)"
   ]
  },
  {
   "cell_type": "code",
   "execution_count": 22,
   "id": "376fbd58",
   "metadata": {},
   "outputs": [
    {
     "data": {
      "text/plain": [
       "array([0, 0, 0, 0, 0, 0, 0, 0, 0, 0, 0, 0, 0, 0, 0, 0, 0, 0, 0, 0, 1, 1,\n",
       "       1, 1, 1, 1, 1, 1, 1, 1, 1, 1, 1, 1, 1, 1, 1, 1, 1, 1, 1, 2, 2, 2,\n",
       "       2, 2, 2, 2, 2, 2, 2, 2, 2, 2, 2, 2, 2, 2, 2, 2, 2, 2, 2])"
      ]
     },
     "execution_count": 22,
     "metadata": {},
     "output_type": "execute_result"
    }
   ],
   "source": [
    "test_batches.classes"
   ]
  },
  {
   "cell_type": "code",
   "execution_count": 23,
   "id": "a9bca284",
   "metadata": {},
   "outputs": [],
   "source": [
    "cm = confusion_matrix(y_true = test_batches.classes, \n",
    "                      y_pred = np.argmax(predictions, axis=-1))"
   ]
  },
  {
   "cell_type": "code",
   "execution_count": 24,
   "id": "e8c5dcea",
   "metadata": {},
   "outputs": [
    {
     "data": {
      "text/plain": [
       "{'AD': 0, 'CN': 1, 'MCI': 2}"
      ]
     },
     "execution_count": 24,
     "metadata": {},
     "output_type": "execute_result"
    }
   ],
   "source": [
    "test_batches.class_indices\n",
    "#{'AD': 0, 'CN': 1, 'MCI': 2}"
   ]
  },
  {
   "cell_type": "code",
   "execution_count": 25,
   "id": "645111b8",
   "metadata": {},
   "outputs": [],
   "source": [
    "cm_plot_labels = ['AD', 'CN', 'MCI']"
   ]
  },
  {
   "cell_type": "markdown",
   "id": "02796ebb",
   "metadata": {},
   "source": [
    "https://www.youtube.com/watch?v=q-HkgmJ4aR8&list=PLZbbT5o_s2xrwRnXk_yCPtnqqo4_u2YGL&index=7"
   ]
  },
  {
   "cell_type": "code",
   "execution_count": 26,
   "id": "12e9eaa0",
   "metadata": {},
   "outputs": [
    {
     "data": {
      "image/png": "[encoded data removed]",
      "text/plain": [
       "<Figure size 576x432 with 2 Axes>"
      ]
     },
     "metadata": {
      "needs_background": "light"
     },
     "output_type": "display_data"
    }
   ],
   "source": [
    "def plot_confusion_matrix(cm, target_names, title='Confusion matrix', cmap=None, normalize=False):\n",
    "    \"\"\"\n",
    "    arguments\n",
    "    ---------\n",
    "    cm:           confusion matrix from sklearn.metrics.confusion_matrix\n",
    "\n",
    "    target_names: given classification classes such as [0, 1, 2]\n",
    "                  the class names, for example: ['high', 'medium', 'low']\n",
    "\n",
    "    title:        the text to display at the top of the matrix\n",
    "\n",
    "    cmap:         the gradient of the values displayed from matplotlib.pyplot.cm\n",
    "                  see http://matplotlib.org/examples/color/colormaps_reference.html\n",
    "\n",
    "    normalize:    If False, plot the raw numbers\n",
    "                  If True, plot the proportions\n",
    "    \"\"\"\n",
    "     \n",
    "    if cmap is None:\n",
    "        cmap = plt.get_cmap('Blues')\n",
    "\n",
    "    plt.figure(figsize=(8, 6))\n",
    "    plt.imshow(cm, interpolation='nearest', cmap=cmap)\n",
    "    plt.title(title)\n",
    "    plt.colorbar()\n",
    "    \n",
    "    if target_names is not None:\n",
    "        tick_marks = np.arange(len(target_names))\n",
    "        plt.xticks(tick_marks, target_names, rotation=45)\n",
    "        plt.yticks(tick_marks, target_names)\n",
    "\n",
    "    if normalize:\n",
    "        cm = cm.astype('float') / cm.sum(axis=1)[:, np.newaxis]\n",
    "\n",
    "\n",
    "    thresh = cm.max() / 1.5 if normalize else cm.max() / 2\n",
    "    for i, j in itertools.product(range(cm.shape[0]), range(cm.shape[1])):\n",
    "        if normalize:\n",
    "            plt.text(j, i, \"{:0.4f}\".format(cm[i, j]),\n",
    "                     horizontalalignment=\"center\",\n",
    "                     color=\"white\" if cm[i, j] > thresh else \"black\")\n",
    "        else:\n",
    "            plt.text(j, i, \"{:,}\".format(cm[i, j]),\n",
    "                     horizontalalignment=\"center\",\n",
    "                     color=\"white\" if cm[i, j] > thresh else \"black\")\n",
    "\n",
    "\n",
    "    plt.tight_layout()\n",
    "    plt.ylim(len(target_names)-0.5, -0.5)\n",
    "    plt.ylabel('True labels')\n",
    "    plt.xlabel('Predicted labels')\n",
    "    plt.savefig(title + '.png', dpi=500, bbox_inches = 'tight')\n",
    "    plt.show()\n",
    "    \n",
    "    \n",
    "    \n",
    "# a tuple for all the class names\n",
    "target_names = ('AD', 'CN', 'MCI')\n",
    "plot_confusion_matrix(cm, target_names)"
   ]
  },
  {
   "cell_type": "markdown",
   "id": "0f4e99a3",
   "metadata": {},
   "source": [
    "<!-- GoogLeNet \n",
    "ILSVRC-2013 (Clarifai)\n",
    "MSRA\n",
    "Zeler & Fergus\n",
    "OverFeat\n",
    "Krizhevsky -->"
   ]
  },
  {
   "cell_type": "code",
   "execution_count": null,
   "id": "65c6e9e2",
   "metadata": {},
   "outputs": [],
   "source": [
    "# TODO: Grafico de Epochs"
   ]
  },
  {
   "cell_type": "markdown",
   "id": "767b138b",
   "metadata": {},
   "source": [
    "## Construccion y construir afinar el modelo CNN-VGG16"
   ]
  },
  {
   "cell_type": "code",
   "execution_count": 27,
   "id": "75bc2c5a",
   "metadata": {},
   "outputs": [],
   "source": [
    "# Descargar el modelo de internet\n",
    "vgg16_model = tensorflow.keras.applications.vgg16.VGG16()"
   ]
  },
  {
   "cell_type": "code",
   "execution_count": 28,
   "id": "c8288500",
   "metadata": {},
   "outputs": [
    {
     "name": "stdout",
     "output_type": "stream",
     "text": [
      "Model: \"vgg16\"\n",
      "_________________________________________________________________\n",
      "Layer (type)                 Output Shape              Param #   \n",
      "=================================================================\n",
      "input_1 (InputLayer)         [(None, 224, 224, 3)]     0         \n",
      "_________________________________________________________________\n",
      "block1_conv1 (Conv2D)        (None, 224, 224, 64)      1792      \n",
      "_________________________________________________________________\n",
      "block1_conv2 (Conv2D)        (None, 224, 224, 64)      36928     \n",
      "_________________________________________________________________\n",
      "block1_pool (MaxPooling2D)   (None, 112, 112, 64)      0         \n",
      "_________________________________________________________________\n",
      "block2_conv1 (Conv2D)        (None, 112, 112, 128)     73856     \n",
      "_________________________________________________________________\n",
      "block2_conv2 (Conv2D)        (None, 112, 112, 128)     147584    \n",
      "_________________________________________________________________\n",
      "block2_pool (MaxPooling2D)   (None, 56, 56, 128)       0         \n",
      "_________________________________________________________________\n",
      "block3_conv1 (Conv2D)        (None, 56, 56, 256)       295168    \n",
      "_________________________________________________________________\n",
      "block3_conv2 (Conv2D)        (None, 56, 56, 256)       590080    \n",
      "_________________________________________________________________\n",
      "block3_conv3 (Conv2D)        (None, 56, 56, 256)       590080    \n",
      "_________________________________________________________________\n",
      "block3_pool (MaxPooling2D)   (None, 28, 28, 256)       0         \n",
      "_________________________________________________________________\n",
      "block4_conv1 (Conv2D)        (None, 28, 28, 512)       1180160   \n",
      "_________________________________________________________________\n",
      "block4_conv2 (Conv2D)        (None, 28, 28, 512)       2359808   \n",
      "_________________________________________________________________\n",
      "block4_conv3 (Conv2D)        (None, 28, 28, 512)       2359808   \n",
      "_________________________________________________________________\n",
      "block4_pool (MaxPooling2D)   (None, 14, 14, 512)       0         \n",
      "_________________________________________________________________\n",
      "block5_conv1 (Conv2D)        (None, 14, 14, 512)       2359808   \n",
      "_________________________________________________________________\n",
      "block5_conv2 (Conv2D)        (None, 14, 14, 512)       2359808   \n",
      "_________________________________________________________________\n",
      "block5_conv3 (Conv2D)        (None, 14, 14, 512)       2359808   \n",
      "_________________________________________________________________\n",
      "block5_pool (MaxPooling2D)   (None, 7, 7, 512)         0         \n",
      "_________________________________________________________________\n",
      "flatten (Flatten)            (None, 25088)             0         \n",
      "_________________________________________________________________\n",
      "fc1 (Dense)                  (None, 4096)              102764544 \n",
      "_________________________________________________________________\n",
      "fc2 (Dense)                  (None, 4096)              16781312  \n",
      "_________________________________________________________________\n",
      "predictions (Dense)          (None, 1000)              4097000   \n",
      "=================================================================\n",
      "Total params: 138,357,544\n",
      "Trainable params: 138,357,544\n",
      "Non-trainable params: 0\n",
      "_________________________________________________________________\n"
     ]
    }
   ],
   "source": [
    "vgg16_model.summary()"
   ]
  },
  {
   "cell_type": "code",
   "execution_count": 29,
   "id": "7e95e754",
   "metadata": {},
   "outputs": [],
   "source": [
    "def count_params(model):\n",
    "    non_trainable_params = np.sum([np.prod(v.get_shape().as_list()) for v in model.non_trainable_weights])\n",
    "    trainable_params = np.sum([np.prod(v.get_shape().as_list()) for v in model.trainable_weights])\n",
    "    return {'non_trainable_params':non_trainable_params, 'trainable_params':trainable_params}\n",
    "    "
   ]
  },
  {
   "cell_type": "code",
   "execution_count": 30,
   "id": "95217e86",
   "metadata": {},
   "outputs": [],
   "source": [
    "params = count_params(vgg16_model)\n",
    "assert params['non_trainable_params'] == 0\n",
    "assert params['trainable_params'] == 138357544"
   ]
  },
  {
   "cell_type": "code",
   "execution_count": 31,
   "id": "73ca0022",
   "metadata": {},
   "outputs": [
    {
     "data": {
      "text/plain": [
       "tensorflow.python.keras.engine.training.Model"
      ]
     },
     "execution_count": 31,
     "metadata": {},
     "output_type": "execute_result"
    }
   ],
   "source": [
    "type(vgg16_model)"
   ]
  },
  {
   "cell_type": "code",
   "execution_count": 32,
   "id": "09e13e1b",
   "metadata": {},
   "outputs": [],
   "source": [
    "model = Sequential()\n",
    "# iterar capas sin incluir la ultima\n",
    "for layer in vgg16_model.layers[:-1]:\n",
    "    # agregamos cada capa a un nuevo modelo\n",
    "    model.add(layer)"
   ]
  },
  {
   "cell_type": "code",
   "execution_count": 33,
   "id": "ec347018",
   "metadata": {},
   "outputs": [
    {
     "name": "stdout",
     "output_type": "stream",
     "text": [
      "Model: \"sequential_2\"\n",
      "_________________________________________________________________\n",
      "Layer (type)                 Output Shape              Param #   \n",
      "=================================================================\n",
      "block1_conv1 (Conv2D)        (None, 224, 224, 64)      1792      \n",
      "_________________________________________________________________\n",
      "block1_conv2 (Conv2D)        (None, 224, 224, 64)      36928     \n",
      "_________________________________________________________________\n",
      "block1_pool (MaxPooling2D)   (None, 112, 112, 64)      0         \n",
      "_________________________________________________________________\n",
      "block2_conv1 (Conv2D)        (None, 112, 112, 128)     73856     \n",
      "_________________________________________________________________\n",
      "block2_conv2 (Conv2D)        (None, 112, 112, 128)     147584    \n",
      "_________________________________________________________________\n",
      "block2_pool (MaxPooling2D)   (None, 56, 56, 128)       0         \n",
      "_________________________________________________________________\n",
      "block3_conv1 (Conv2D)        (None, 56, 56, 256)       295168    \n",
      "_________________________________________________________________\n",
      "block3_conv2 (Conv2D)        (None, 56, 56, 256)       590080    \n",
      "_________________________________________________________________\n",
      "block3_conv3 (Conv2D)        (None, 56, 56, 256)       590080    \n",
      "_________________________________________________________________\n",
      "block3_pool (MaxPooling2D)   (None, 28, 28, 256)       0         \n",
      "_________________________________________________________________\n",
      "block4_conv1 (Conv2D)        (None, 28, 28, 512)       1180160   \n",
      "_________________________________________________________________\n",
      "block4_conv2 (Conv2D)        (None, 28, 28, 512)       2359808   \n",
      "_________________________________________________________________\n",
      "block4_conv3 (Conv2D)        (None, 28, 28, 512)       2359808   \n",
      "_________________________________________________________________\n",
      "block4_pool (MaxPooling2D)   (None, 14, 14, 512)       0         \n",
      "_________________________________________________________________\n",
      "block5_conv1 (Conv2D)        (None, 14, 14, 512)       2359808   \n",
      "_________________________________________________________________\n",
      "block5_conv2 (Conv2D)        (None, 14, 14, 512)       2359808   \n",
      "_________________________________________________________________\n",
      "block5_conv3 (Conv2D)        (None, 14, 14, 512)       2359808   \n",
      "_________________________________________________________________\n",
      "block5_pool (MaxPooling2D)   (None, 7, 7, 512)         0         \n",
      "_________________________________________________________________\n",
      "flatten (Flatten)            (None, 25088)             0         \n",
      "_________________________________________________________________\n",
      "fc1 (Dense)                  (None, 4096)              102764544 \n",
      "_________________________________________________________________\n",
      "fc2 (Dense)                  (None, 4096)              16781312  \n",
      "=================================================================\n",
      "Total params: 134,260,544\n",
      "Trainable params: 134,260,544\n",
      "Non-trainable params: 0\n",
      "_________________________________________________________________\n"
     ]
    }
   ],
   "source": [
    "model.summary()"
   ]
  },
  {
   "cell_type": "code",
   "execution_count": 34,
   "id": "20ebd946",
   "metadata": {},
   "outputs": [
    {
     "name": "stdout",
     "output_type": "stream",
     "text": [
      "Model: \"sequential_2\"\n",
      "_________________________________________________________________\n",
      "Layer (type)                 Output Shape              Param #   \n",
      "=================================================================\n",
      "block1_conv1 (Conv2D)        (None, 224, 224, 64)      1792      \n",
      "_________________________________________________________________\n",
      "block1_conv2 (Conv2D)        (None, 224, 224, 64)      36928     \n",
      "_________________________________________________________________\n",
      "block1_pool (MaxPooling2D)   (None, 112, 112, 64)      0         \n",
      "_________________________________________________________________\n",
      "block2_conv1 (Conv2D)        (None, 112, 112, 128)     73856     \n",
      "_________________________________________________________________\n",
      "block2_conv2 (Conv2D)        (None, 112, 112, 128)     147584    \n",
      "_________________________________________________________________\n",
      "block2_pool (MaxPooling2D)   (None, 56, 56, 128)       0         \n",
      "_________________________________________________________________\n",
      "block3_conv1 (Conv2D)        (None, 56, 56, 256)       295168    \n",
      "_________________________________________________________________\n",
      "block3_conv2 (Conv2D)        (None, 56, 56, 256)       590080    \n",
      "_________________________________________________________________\n",
      "block3_conv3 (Conv2D)        (None, 56, 56, 256)       590080    \n",
      "_________________________________________________________________\n",
      "block3_pool (MaxPooling2D)   (None, 28, 28, 256)       0         \n",
      "_________________________________________________________________\n",
      "block4_conv1 (Conv2D)        (None, 28, 28, 512)       1180160   \n",
      "_________________________________________________________________\n",
      "block4_conv2 (Conv2D)        (None, 28, 28, 512)       2359808   \n",
      "_________________________________________________________________\n",
      "block4_conv3 (Conv2D)        (None, 28, 28, 512)       2359808   \n",
      "_________________________________________________________________\n",
      "block4_pool (MaxPooling2D)   (None, 14, 14, 512)       0         \n",
      "_________________________________________________________________\n",
      "block5_conv1 (Conv2D)        (None, 14, 14, 512)       2359808   \n",
      "_________________________________________________________________\n",
      "block5_conv2 (Conv2D)        (None, 14, 14, 512)       2359808   \n",
      "_________________________________________________________________\n",
      "block5_conv3 (Conv2D)        (None, 14, 14, 512)       2359808   \n",
      "_________________________________________________________________\n",
      "block5_pool (MaxPooling2D)   (None, 7, 7, 512)         0         \n",
      "_________________________________________________________________\n",
      "flatten (Flatten)            (None, 25088)             0         \n",
      "_________________________________________________________________\n",
      "fc1 (Dense)                  (None, 4096)              102764544 \n",
      "_________________________________________________________________\n",
      "fc2 (Dense)                  (None, 4096)              16781312  \n",
      "=================================================================\n",
      "Total params: 134,260,544\n",
      "Trainable params: 134,260,544\n",
      "Non-trainable params: 0\n",
      "_________________________________________________________________\n"
     ]
    }
   ],
   "source": [
    "model.summary()"
   ]
  },
  {
   "cell_type": "code",
   "execution_count": 12,
   "id": "fd4b7ec2",
   "metadata": {},
   "outputs": [],
   "source": [
    "params = count_params(model)\n",
    "assert params['non_trainable_params'] == 0\n",
    "assert params['trainable_params'] == 134260544"
   ]
  },
  {
   "cell_type": "code",
   "execution_count": 13,
   "id": "5f5137ca",
   "metadata": {},
   "outputs": [],
   "source": [
    "for layer in vgg16_model.layers:\n",
    "    model.trainable = False"
   ]
  },
  {
   "cell_type": "code",
   "execution_count": 39,
   "id": "93ef20b3",
   "metadata": {},
   "outputs": [],
   "source": [
    "# La ultima capa sera la unica capa entrenable\n",
    "model.add(Dense(units=3, activation='softmax'))"
   ]
  },
  {
   "cell_type": "code",
   "execution_count": 40,
   "id": "6a424101",
   "metadata": {},
   "outputs": [
    {
     "name": "stdout",
     "output_type": "stream",
     "text": [
      "Model: \"sequential_2\"\n",
      "_________________________________________________________________\n",
      "Layer (type)                 Output Shape              Param #   \n",
      "=================================================================\n",
      "block1_conv1 (Conv2D)        (None, 224, 224, 64)      1792      \n",
      "_________________________________________________________________\n",
      "block1_conv2 (Conv2D)        (None, 224, 224, 64)      36928     \n",
      "_________________________________________________________________\n",
      "block1_pool (MaxPooling2D)   (None, 112, 112, 64)      0         \n",
      "_________________________________________________________________\n",
      "block2_conv1 (Conv2D)        (None, 112, 112, 128)     73856     \n",
      "_________________________________________________________________\n",
      "block2_conv2 (Conv2D)        (None, 112, 112, 128)     147584    \n",
      "_________________________________________________________________\n",
      "block2_pool (MaxPooling2D)   (None, 56, 56, 128)       0         \n",
      "_________________________________________________________________\n",
      "block3_conv1 (Conv2D)        (None, 56, 56, 256)       295168    \n",
      "_________________________________________________________________\n",
      "block3_conv2 (Conv2D)        (None, 56, 56, 256)       590080    \n",
      "_________________________________________________________________\n",
      "block3_conv3 (Conv2D)        (None, 56, 56, 256)       590080    \n",
      "_________________________________________________________________\n",
      "block3_pool (MaxPooling2D)   (None, 28, 28, 256)       0         \n",
      "_________________________________________________________________\n",
      "block4_conv1 (Conv2D)        (None, 28, 28, 512)       1180160   \n",
      "_________________________________________________________________\n",
      "block4_conv2 (Conv2D)        (None, 28, 28, 512)       2359808   \n",
      "_________________________________________________________________\n",
      "block4_conv3 (Conv2D)        (None, 28, 28, 512)       2359808   \n",
      "_________________________________________________________________\n",
      "block4_pool (MaxPooling2D)   (None, 14, 14, 512)       0         \n",
      "_________________________________________________________________\n",
      "block5_conv1 (Conv2D)        (None, 14, 14, 512)       2359808   \n",
      "_________________________________________________________________\n",
      "block5_conv2 (Conv2D)        (None, 14, 14, 512)       2359808   \n",
      "_________________________________________________________________\n",
      "block5_conv3 (Conv2D)        (None, 14, 14, 512)       2359808   \n",
      "_________________________________________________________________\n",
      "block5_pool (MaxPooling2D)   (None, 7, 7, 512)         0         \n",
      "_________________________________________________________________\n",
      "flatten (Flatten)            (None, 25088)             0         \n",
      "_________________________________________________________________\n",
      "fc1 (Dense)                  (None, 4096)              102764544 \n",
      "_________________________________________________________________\n",
      "fc2 (Dense)                  (None, 4096)              16781312  \n",
      "_________________________________________________________________\n",
      "dense_2 (Dense)              (None, 3)                 12291     \n",
      "=================================================================\n",
      "WARNING:tensorflow:Discrepancy between trainable weights and collected trainable weights, did you set `model.trainable` without calling `model.compile` after ?\n",
      "Total params: 134,260,544\n",
      "Trainable params: 134,260,544\n",
      "Non-trainable params: 0\n",
      "_________________________________________________________________\n"
     ]
    }
   ],
   "source": [
    "model.summary()"
   ]
  },
  {
   "cell_type": "code",
   "execution_count": 45,
   "id": "8af7eafe",
   "metadata": {},
   "outputs": [
    {
     "ename": "KeyError",
     "evalue": "'Non-trainable params'",
     "output_type": "error",
     "traceback": [
      "\u001b[1;31m---------------------------------------------------------------------------\u001b[0m",
      "\u001b[1;31mKeyError\u001b[0m                                  Traceback (most recent call last)",
      "\u001b[1;32m<ipython-input-45-4b88afa50712>\u001b[0m in \u001b[0;36m<module>\u001b[1;34m\u001b[0m\n\u001b[0;32m      1\u001b[0m \u001b[0mparams\u001b[0m \u001b[1;33m=\u001b[0m \u001b[0mcount_params\u001b[0m\u001b[1;33m(\u001b[0m\u001b[0mmodel\u001b[0m\u001b[1;33m)\u001b[0m\u001b[1;33m\u001b[0m\u001b[1;33m\u001b[0m\u001b[0m\n\u001b[1;32m----> 2\u001b[1;33m \u001b[1;32massert\u001b[0m \u001b[0mparams\u001b[0m\u001b[1;33m[\u001b[0m\u001b[1;34m'Non-trainable params'\u001b[0m\u001b[1;33m]\u001b[0m \u001b[1;33m==\u001b[0m \u001b[1;36m0\u001b[0m\u001b[1;33m\u001b[0m\u001b[1;33m\u001b[0m\u001b[0m\n\u001b[0m\u001b[0;32m      3\u001b[0m \u001b[1;32massert\u001b[0m \u001b[0mparams\u001b[0m\u001b[1;33m[\u001b[0m\u001b[1;34m'Trainable params'\u001b[0m\u001b[1;33m]\u001b[0m \u001b[1;33m==\u001b[0m \u001b[1;36m134260544\u001b[0m\u001b[1;33m\u001b[0m\u001b[1;33m\u001b[0m\u001b[0m\n",
      "\u001b[1;31mKeyError\u001b[0m: 'Non-trainable params'"
     ]
    }
   ],
   "source": [
    "params = count_params(model)\n",
    "assert params['non_trainable_params'] == 0\n",
    "assert params['trainable_params'] == 134260544"
   ]
  },
  {
   "cell_type": "markdown",
   "id": "39087742",
   "metadata": {},
   "source": [
    " ## Entrenamiento del modelo afinado CNN-VGG16"
   ]
  },
  {
   "cell_type": "code",
   "execution_count": null,
   "id": "5d487864",
   "metadata": {},
   "outputs": [
    {
     "name": "stdout",
     "output_type": "stream",
     "text": [
      "Epoch 1/10\n"
     ]
    }
   ],
   "source": [
    "with tensorflow.device('DML'):\n",
    "    epochs_ft = 10\n",
    "    model.compile(optimizer=Adam(learning_rate=0.0001),\n",
    "                  loss='categorical_crossentropy',\n",
    "                  metrics=['accuracy'])\n",
    "    model.fit(x=train_batches,\n",
    "              validation_data=valid_batches,\n",
    "              epochs=epochs_ft,\n",
    "              verbose=2) "
   ]
  },
  {
   "cell_type": "code",
   "execution_count": null,
   "id": "5101f66c",
   "metadata": {},
   "outputs": [],
   "source": [
    "assert model.history.history.get('accuracy')[-1] > 0.95"
   ]
  },
  {
   "cell_type": "markdown",
   "id": "e8c12e6e",
   "metadata": {},
   "source": [
    "## Prediccion modelo afinado VGG16 model"
   ]
  },
  {
   "cell_type": "code",
   "execution_count": 30,
   "id": "693684b0",
   "metadata": {},
   "outputs": [],
   "source": [
    "predictions = model.predict(x=test_batches, verbose=0)"
   ]
  },
  {
   "cell_type": "code",
   "execution_count": 31,
   "id": "839eb319",
   "metadata": {},
   "outputs": [],
   "source": [
    "cm = confusion_matrix(y_true = test_batches.classes, \n",
    "                      y_pred = np.argmax(predictions, axis=-1))"
   ]
  },
  {
   "cell_type": "code",
   "execution_count": 34,
   "id": "9e9bdfae",
   "metadata": {},
   "outputs": [
    {
     "data": {
      "image/png": "[encoded data removed]",
      "text/plain": [
       "<Figure size 576x432 with 2 Axes>"
      ]
     },
     "metadata": {
      "needs_background": "light"
     },
     "output_type": "display_data"
    }
   ],
   "source": [
    "target_names = ('AD', 'CN', 'MCI')\n",
    "plot_confusion_matrix(cm, target_names)"
   ]
  },
  {
   "cell_type": "markdown",
   "id": "efadf984",
   "metadata": {},
   "source": [
    "## Visualizar resultados del entrenamiento"
   ]
  },
  {
   "cell_type": "code",
   "execution_count": 1,
   "id": "7217b272",
   "metadata": {},
   "outputs": [
    {
     "ename": "NameError",
     "evalue": "name 'model' is not defined",
     "output_type": "error",
     "traceback": [
      "\u001b[1;31m---------------------------------------------------------------------------\u001b[0m",
      "\u001b[1;31mNameError\u001b[0m                                 Traceback (most recent call last)",
      "\u001b[1;32m<ipython-input-1-96cb74706d93>\u001b[0m in \u001b[0;36m<module>\u001b[1;34m\u001b[0m\n\u001b[1;32m----> 1\u001b[1;33m \u001b[0macc\u001b[0m \u001b[1;33m=\u001b[0m \u001b[0mmodel\u001b[0m\u001b[1;33m.\u001b[0m\u001b[0mhistory\u001b[0m\u001b[1;33m.\u001b[0m\u001b[0mhistory\u001b[0m\u001b[1;33m[\u001b[0m\u001b[1;34m'acc'\u001b[0m\u001b[1;33m]\u001b[0m\u001b[1;33m\u001b[0m\u001b[1;33m\u001b[0m\u001b[0m\n\u001b[0m\u001b[0;32m      2\u001b[0m \u001b[0mval_acc\u001b[0m \u001b[1;33m=\u001b[0m \u001b[0mmodel\u001b[0m\u001b[1;33m.\u001b[0m\u001b[0mhistory\u001b[0m\u001b[1;33m.\u001b[0m\u001b[0mhistory\u001b[0m\u001b[1;33m[\u001b[0m\u001b[1;34m'val_acc'\u001b[0m\u001b[1;33m]\u001b[0m\u001b[1;33m\u001b[0m\u001b[1;33m\u001b[0m\u001b[0m\n\u001b[0;32m      3\u001b[0m \u001b[0mloss\u001b[0m \u001b[1;33m=\u001b[0m \u001b[0mmodel\u001b[0m\u001b[1;33m.\u001b[0m\u001b[0mhistory\u001b[0m\u001b[1;33m.\u001b[0m\u001b[0mhistory\u001b[0m\u001b[1;33m[\u001b[0m\u001b[1;34m'loss'\u001b[0m\u001b[1;33m]\u001b[0m\u001b[1;33m\u001b[0m\u001b[1;33m\u001b[0m\u001b[0m\n\u001b[0;32m      4\u001b[0m \u001b[0mval_loss\u001b[0m \u001b[1;33m=\u001b[0m \u001b[0mmodel\u001b[0m\u001b[1;33m.\u001b[0m\u001b[0mhistory\u001b[0m\u001b[1;33m.\u001b[0m\u001b[0mhistory\u001b[0m\u001b[1;33m[\u001b[0m\u001b[1;34m'val_loss'\u001b[0m\u001b[1;33m]\u001b[0m\u001b[1;33m\u001b[0m\u001b[1;33m\u001b[0m\u001b[0m\n\u001b[0;32m      5\u001b[0m \u001b[1;33m\u001b[0m\u001b[0m\n",
      "\u001b[1;31mNameError\u001b[0m: name 'model' is not defined"
     ]
    }
   ],
   "source": [
    "acc = model.history.history['acc']\n",
    "val_acc = model.history.history['val_acc']\n",
    "loss = model.history.history['loss']\n",
    "val_loss = model.history.history['val_loss']\n",
    "\n",
    "print(acc)\n",
    "print(val_acc)\n",
    "print(loss)\n",
    "print(val_loss)"
   ]
  },
  {
   "cell_type": "code",
   "execution_count": null,
   "id": "0c735d76",
   "metadata": {},
   "outputs": [],
   "source": [
    "acc = model.history.history['acc']\n",
    "val_acc = model.history.history['val_acc']\n",
    "\n",
    "loss = model.history.history['loss']\n",
    "val_loss = model.history.history['val_loss']\n",
    "\n",
    "epochs_range = range(epochs_ft)\n",
    "\n",
    "plt.figure(figsize=(15, 5))\n",
    "plt.plot(epochs_range, acc, label='Training Accuracy')\n",
    "plt.plot(epochs_range, val_acc, label='Validation Accuracy')\n",
    "plt.legend(loc='lower right')\n",
    "plt.title('Training and Validation Accuracy')\n",
    "plt.show()"
   ]
  },
  {
   "cell_type": "markdown",
   "id": "511021e5",
   "metadata": {},
   "source": [
    "https://machinelearningmastery.com/how-to-develop-a-convolutional-neural-network-to-classify-photos-of-dogs-and-cats/\n",
    "\n",
    "https://colab.research.google.com/github/tfindiamooc/tfindiamooc.github.io/blob/master/colabs/image_classification_and_visualization.ipynb#scrollTo=1Ba2LjtkVrXy\n",
    "\n",
    "https://learnopencv.com/keras-tutorial-fine-tuning-using-pre-trained-models/"
   ]
  },
  {
   "cell_type": "code",
   "execution_count": null,
   "id": "4acb5e28",
   "metadata": {},
   "outputs": [],
   "source": []
  },
  {
   "cell_type": "code",
   "execution_count": null,
   "id": "c86f56d6",
   "metadata": {},
   "outputs": [],
   "source": []
  },
  {
   "cell_type": "markdown",
   "id": "ea0eded3",
   "metadata": {},
   "source": [
    "https://www.kaggle.com/datasets/tourist55/alzheimers-dataset-4-class-of-images"
   ]
  },
  {
   "cell_type": "markdown",
   "id": "9801d913",
   "metadata": {},
   "source": [
    "https://towardsdatascience.com/alzheimer-diagnosis-with-deep-learning-a-survey-265406fa542a\n",
    "\n",
    "https://www.youtube.com/watch?v=3V9YFPfgyAY"
   ]
  },
  {
   "cell_type": "code",
   "execution_count": null,
   "id": "928f3c8b",
   "metadata": {},
   "outputs": [],
   "source": [
    "https://github.com/Yale-Deep-Learning-for-Alzheimers/Alzheimers-DL-Network"
   ]
  },
  {
   "cell_type": "code",
   "execution_count": null,
   "id": "40d36d8b",
   "metadata": {},
   "outputs": [],
   "source": [
    "https://www.kaggle.com/code/muneebkhurram/alzheimer-mri-classification"
   ]
  },
  {
   "cell_type": "markdown",
   "id": "eb5b6a73",
   "metadata": {},
   "source": [
    "0. Image Preparation for Convolutional Neural Networks with TensorFlow's Keras API\n",
    "https://www.youtube.com/watch?v=_L2uYfVV48I&list=PLZbbT5o_s2xrwRnXk_yCPtnqqo4_u2YGL&index=10\n",
    "\n",
    "0.1 Data Augmentation with TensorFlow's Keras API\n",
    "https://www.youtube.com/watch?v=WSvpLUietIM&list=PLZbbT5o_s2xrwRnXk_yCPtnqqo4_u2YGL&index=14\n",
    "\n",
    "1.Keras with TensorFlow - Data Processing for Neural Network Training\n",
    "https://www.youtube.com/watch?v=3FwGDUD_ZuQ&list=PLZbbT5o_s2xrwRnXk_yCPtnqqo4_u2YGL&index=3\n",
    "\n",
    "2.Build and Train a Convolutional Neural Network with TensorFlow's Keras API\n",
    "https://www.youtube.com/watch?v=3V9YFPfgyAY&t=326s\n",
    "\n",
    "3.Keras with TensorFlow Prerequisites - Getting Started With Neural Networks\n",
    "https://www.youtube.com/watch?v=e47ISlpYFok\n",
    "\n",
    "4.Train a Fine-Tuned Neural Network with TensorFlow's Keras API\n",
    "https://www.youtube.com/watch?v=TguZ0WK0orQ\n",
    "\n",
    "5.Create a Confusion Matrix for Neural Network Predictions\n",
    "https://www.youtube.com/watch?v=VYGVOwlT4oE&list=PLZbbT5o_s2xrwRnXk_yCPtnqqo4_u2YGL&index=9\n",
    "\n",
    "6.MobileNet Image Classification with TensorFlow's Keras API\n",
    "https://www.youtube.com/watch?v=5JAZiue-fzY&list=PLZbbT5o_s2xrwRnXk_yCPtnqqo4_u2YGL&index=19\n",
    "\n",
    "7.Save and Load a Model with TensorFlow's Keras API\n",
    "https://www.youtube.com/watch?v=8Nl-of5C3uA&list=PLZbbT5o_s2xrwRnXk_yCPtnqqo4_u2YGL&index=10"
   ]
  },
  {
   "cell_type": "markdown",
   "id": "61117e73",
   "metadata": {},
   "source": [
    "https://keras.io/api/applications/"
   ]
  },
  {
   "cell_type": "markdown",
   "id": "736d0513",
   "metadata": {},
   "source": [
    "https://note.nkmk.me/python-tensorflow-keras-applications-pretrained-models/"
   ]
  }
 ],
 "metadata": {
  "kernelspec": {
   "display_name": "gpu_tfm_unir",
   "language": "python",
   "name": "gpu_tfm_unir"
  },
  "language_info": {
   "codemirror_mode": {
    "name": "ipython",
    "version": 3
   },
   "file_extension": ".py",
   "mimetype": "text/x-python",
   "name": "python",
   "nbconvert_exporter": "python",
   "pygments_lexer": "ipython3",
   "version": "3.6.13"
  }
 },
 "nbformat": 4,
 "nbformat_minor": 5
}
