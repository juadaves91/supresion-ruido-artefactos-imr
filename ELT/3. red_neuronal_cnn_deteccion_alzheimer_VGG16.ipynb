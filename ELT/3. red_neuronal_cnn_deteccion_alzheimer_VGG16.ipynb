{
 "cells": [
  {
   "cell_type": "markdown",
   "id": "217a3d2e",
   "metadata": {},
   "source": [
    "<img src=\"https://www.unir.net/wp-content/uploads/2019/11/Unir_2021_logo.svg\" width=\"240\" height=\"240\" align=\"right\"/>"
   ]
  },
  {
   "cell_type": "markdown",
   "id": "5c36edf2",
   "metadata": {},
   "source": [
    "<span>\n",
    "<h2>Eliminación de ruido en imagenes de resonancia magnetica, mediante red neuronal convolucional CNN </h2> \n",
    "</span>"
   ]
  },
  {
   "cell_type": "markdown",
   "id": "e571c218",
   "metadata": {},
   "source": [
    "<p>\n",
    "El modelo VGG16 fue el modelo que gano la competicion de clasificacion de imagenes en 2014, en la ImageNet competition. VGG16 es un modelo de red neuronal convolucional propuesto por K. Simonyan y A. Zisserman de la Universidad de Oxford en el artículo \"Redes convolucionales muy profundas para el reconocimiento de imágenes a gran escala\".El modelo logra una precisión de prueba del 92,7% entre los 5 primeros en ImageNet,que es un conjunto de datos de más de 14 millones de imágenes pertenecientes a 1000 clases. Fue uno de los modelos famosos presentados a ILSVRC-2014 . Realiza la mejora con respecto a AlexNet al reemplazar filtros grandes del tamaño del kernel (11 y 5 en la primera y segunda capa convolucional, respectivamente) con múltiples filtros del tamaño del kernel 3×3 uno tras otro. VGG16 fue entrenado durante semanas y estaba usando GPU NVIDIA Titan Black.</p>\n",
    "\n",
    "Desafortunadamente, hay dos grandes inconvenientes con VGGNet:\n",
    "Es  dolorosamente lento  entrenar.\n",
    "Los pesos de la arquitectura de red en sí mismos son bastante grandes (con respecto al disco/ancho de banda).\n",
    "\n",
    "https://neurohive.io/en/popular-networks/vgg16/"
   ]
  },
  {
   "cell_type": "markdown",
   "id": "edea9d0f",
   "metadata": {},
   "source": [
    "## Instalar librerías"
   ]
  },
  {
   "cell_type": "code",
   "execution_count": null,
   "id": "c17c102e",
   "metadata": {},
   "outputs": [],
   "source": [
    "import warnings\n",
    "warnings.simplefilter('ignore', category=FutureWarning)"
   ]
  },
  {
   "cell_type": "code",
   "execution_count": null,
   "id": "452d1720",
   "metadata": {},
   "outputs": [],
   "source": [
    "!pip install tf-nightly"
   ]
  },
  {
   "cell_type": "code",
   "execution_count": null,
   "id": "02996336",
   "metadata": {},
   "outputs": [],
   "source": [
    "!pip install h5py"
   ]
  },
  {
   "cell_type": "code",
   "execution_count": null,
   "id": "6de0b3a8",
   "metadata": {},
   "outputs": [],
   "source": [
    "!pip install scikit-learn"
   ]
  },
  {
   "cell_type": "code",
   "execution_count": null,
   "id": "17fc3746",
   "metadata": {
    "scrolled": true
   },
   "outputs": [],
   "source": [
    "!pip install tensorflow-directml"
   ]
  },
  {
   "cell_type": "code",
   "execution_count": null,
   "id": "d8378ad6",
   "metadata": {},
   "outputs": [],
   "source": [
    "!pip install matplotlib"
   ]
  },
  {
   "cell_type": "code",
   "execution_count": null,
   "id": "1c012353",
   "metadata": {},
   "outputs": [],
   "source": [
    "!pip install opencv-python"
   ]
  },
  {
   "cell_type": "code",
   "execution_count": null,
   "id": "733eaeb1",
   "metadata": {},
   "outputs": [],
   "source": [
    "!pip install pillow"
   ]
  },
  {
   "cell_type": "code",
   "execution_count": 1,
   "id": "00a0dbb5",
   "metadata": {},
   "outputs": [],
   "source": [
    "import sys\n",
    "from PIL import Image\n",
    "sys.modules['Image'] = Image "
   ]
  },
  {
   "cell_type": "markdown",
   "id": "044224dd",
   "metadata": {},
   "source": [
    "## Importar librerías"
   ]
  },
  {
   "cell_type": "code",
   "execution_count": 19,
   "id": "11b3a8a4",
   "metadata": {},
   "outputs": [],
   "source": [
    "import tensorflow\n",
    "from tensorflow import keras\n",
    "from tensorflow.keras.models import Sequential\n",
    "from tensorflow.keras.layers import Activation, Dense, Flatten, BatchNormalization, Conv2D, MaxPool2D, Dropout\n",
    "from tensorflow.keras.optimizers import Adam\n",
    "from tensorflow.keras.metrics import categorical_crossentropy\n",
    "from tensorflow.keras.preprocessing.image import ImageDataGenerator\n",
    "from sklearn.metrics import confusion_matrix\n",
    "import itertools\n",
    "import shutil\n",
    "import random\n",
    "import glob\n",
    "import matplotlib.pyplot as plt\n",
    "import cv2\n",
    "import datetime\n",
    "import time\n",
    "import numpy as np\n",
    "from sklearn.metrics import plot_confusion_matrix\n",
    "from keras.callbacks import EarlyStopping\n",
    "from sklearn.metrics import classification_report"
   ]
  },
  {
   "cell_type": "markdown",
   "id": "713c5ed3",
   "metadata": {},
   "source": [
    "## Configurar GPU con TensorFlow"
   ]
  },
  {
   "cell_type": "code",
   "execution_count": 4,
   "id": "9f90b773",
   "metadata": {
    "scrolled": true
   },
   "outputs": [
    {
     "name": "stdout",
     "output_type": "stream",
     "text": [
      "Num GPUs available 0\n",
      "/device:DML:0\n",
      "True\n"
     ]
    }
   ],
   "source": [
    "tensorflow.test.is_gpu_available()\n",
    "print(\"Num GPUs available\", len(tensorflow.config.experimental.list_physical_devices('GPU')))\n",
    "\n",
    "print(tensorflow.test.gpu_device_name())\n",
    "print(tensorflow.test.is_gpu_available())"
   ]
  },
  {
   "cell_type": "markdown",
   "id": "16a38f6a",
   "metadata": {},
   "source": [
    "## Preparacion de imagenes"
   ]
  },
  {
   "cell_type": "markdown",
   "id": "0c9f4c52",
   "metadata": {},
   "source": [
    "### Definir conjuntos de datos"
   ]
  },
  {
   "cell_type": "markdown",
   "id": "d2d473b4",
   "metadata": {},
   "source": [
    "#### Definir variables de entrenamiento, validacion y prueba"
   ]
  },
  {
   "cell_type": "code",
   "execution_count": 5,
   "id": "2d0c413c",
   "metadata": {},
   "outputs": [],
   "source": [
    "import glob\n",
    "\n",
    "def read_jpg_files(root_dir):\n",
    "\n",
    "    files = []\n",
    "    for filename in glob.iglob(root_dir + '**/*.jpg', recursive=True):\n",
    "        files.append(filename)\n",
    "    images = [cv2.imread(file) for file in files]  \n",
    "    return images"
   ]
  },
  {
   "cell_type": "code",
   "execution_count": 6,
   "id": "ddf58186",
   "metadata": {},
   "outputs": [],
   "source": [
    "# Entrenamiento\n",
    "path_train = 'D:/ADNI - IDA/ADNI1_Complete 1Yr 1.5T/ADNI-PRE-PROCESAMIENTO/ENTRENAMIENTO/' \n",
    "\n",
    "# Validacion\n",
    "path_val = 'D:/ADNI - IDA/ADNI1_Complete 1Yr 1.5T/ADNI-PRE-PROCESAMIENTO/VALIDACION/' \n",
    "\n",
    "# Pruebas\n",
    "path_test = r'D:/ADNI - IDA/ADNI1_Complete 1Yr 1.5T/ADNI-PRE-PROCESAMIENTO/PRUEBA/'"
   ]
  },
  {
   "cell_type": "markdown",
   "id": "2eff27bb",
   "metadata": {},
   "source": [
    "### Definir conjuntos de datos en formato KERAS"
   ]
  },
  {
   "cell_type": "code",
   "execution_count": 7,
   "id": "75ad463b",
   "metadata": {},
   "outputs": [
    {
     "name": "stdout",
     "output_type": "stream",
     "text": [
      "True\n"
     ]
    }
   ],
   "source": [
    "print(tensorflow.keras.applications.vgg16.VGG16 is tensorflow.keras.applications.VGG16)"
   ]
  },
  {
   "cell_type": "code",
   "execution_count": 8,
   "id": "15974f5c",
   "metadata": {},
   "outputs": [
    {
     "name": "stdout",
     "output_type": "stream",
     "text": [
      "True\n"
     ]
    }
   ],
   "source": [
    "from tensorflow.keras.applications.vgg16 import VGG16\n",
    "print(tensorflow.keras.applications.vgg16.VGG16 is VGG16)"
   ]
  },
  {
   "cell_type": "code",
   "execution_count": null,
   "id": "a7e7f034",
   "metadata": {},
   "outputs": [],
   "source": [
    "def to_grayscale_then_rgb(image):\n",
    "    image = tf.image.rgb_to_grayscale(image)\n",
    "    image = tf.image.grayscale_to_rgb(image)\n",
    "    return image"
   ]
  },
  {
   "cell_type": "code",
   "execution_count": 9,
   "id": "17ee933d",
   "metadata": {},
   "outputs": [
    {
     "name": "stdout",
     "output_type": "stream",
     "text": [
      "Found 5343 images belonging to 3 classes.\n",
      "Found 1265 images belonging to 3 classes.\n",
      "Found 63 images belonging to 3 classes.\n"
     ]
    }
   ],
   "source": [
    "# Generacion de lotes de datos para modelo en Keras en formato vgg16\n",
    "\n",
    "# Entrenamiento\n",
    "train_batches = ImageDataGenerator(preprocessing_function=tensorflow.keras.applications.vgg16.preprocess_input) \\\n",
    "    .flow_from_directory(directory=path_train, target_size=(224,224), classes=['AD','CN','MCI'], batch_size=10)\n",
    "\n",
    "# Validacion\n",
    "valid_batches = ImageDataGenerator(preprocessing_function=tensorflow.keras.applications.vgg16.preprocess_input) \\\n",
    "    .flow_from_directory(directory=path_val, target_size=(224,224), classes=['AD','CN','MCI'], batch_size=10)\n",
    "\n",
    "# Pruebas\n",
    "test_batches = ImageDataGenerator(preprocessing_function=tensorflow.keras.applications.vgg16.preprocess_input) \\\n",
    "    .flow_from_directory(directory=path_test, target_size=(224,224), classes=['AD','CN','MCI'], batch_size=10, shuffle=False)"
   ]
  },
  {
   "cell_type": "code",
   "execution_count": 10,
   "id": "c8e939d0",
   "metadata": {},
   "outputs": [],
   "source": [
    "assert train_batches.n == 5343 \n",
    "assert valid_batches.n == 1265\n",
    "assert test_batches.n == 63\n",
    "assert train_batches.num_classes == valid_batches.num_classes == test_batches.num_classes == 3 "
   ]
  },
  {
   "cell_type": "code",
   "execution_count": 11,
   "id": "3d20946a",
   "metadata": {},
   "outputs": [],
   "source": [
    "imgs, labels = next(train_batches)"
   ]
  },
  {
   "cell_type": "code",
   "execution_count": 12,
   "id": "6bc5a44f",
   "metadata": {},
   "outputs": [],
   "source": [
    "\"\"\"Esta funcion mostrara imagenes en un grid con 1 fila y 10 columnas\n",
    "\n",
    "Parameters\n",
    "----------\n",
    "list : numpy.ndarray\n",
    "\"\"\"\n",
    "\n",
    "def plotImages(images_arr):\n",
    "    fig, axes = plt.subplots(1, 10, figsize=(20,20))\n",
    "    axes =  axes.flatten()\n",
    "    for img, ax in zip(images_arr, axes):\n",
    "        ax.imshow(img)\n",
    "        ax.axis('off')\n",
    "    plt.tight_layout()\n",
    "    plt.show()"
   ]
  },
  {
   "cell_type": "code",
   "execution_count": 13,
   "id": "e2f5f2fc",
   "metadata": {},
   "outputs": [
    {
     "data": {
      "text/plain": [
       "(224, 224, 3)"
      ]
     },
     "execution_count": 13,
     "metadata": {},
     "output_type": "execute_result"
    }
   ],
   "source": [
    "imgs[0].shape"
   ]
  },
  {
   "cell_type": "code",
   "execution_count": 14,
   "id": "a887766e",
   "metadata": {},
   "outputs": [
    {
     "name": "stderr",
     "output_type": "stream",
     "text": [
      "Clipping input data to the valid range for imshow with RGB data ([0..1] for floats or [0..255] for integers).\n",
      "Clipping input data to the valid range for imshow with RGB data ([0..1] for floats or [0..255] for integers).\n",
      "Clipping input data to the valid range for imshow with RGB data ([0..1] for floats or [0..255] for integers).\n",
      "Clipping input data to the valid range for imshow with RGB data ([0..1] for floats or [0..255] for integers).\n",
      "Clipping input data to the valid range for imshow with RGB data ([0..1] for floats or [0..255] for integers).\n",
      "Clipping input data to the valid range for imshow with RGB data ([0..1] for floats or [0..255] for integers).\n",
      "Clipping input data to the valid range for imshow with RGB data ([0..1] for floats or [0..255] for integers).\n",
      "Clipping input data to the valid range for imshow with RGB data ([0..1] for floats or [0..255] for integers).\n",
      "Clipping input data to the valid range for imshow with RGB data ([0..1] for floats or [0..255] for integers).\n",
      "Clipping input data to the valid range for imshow with RGB data ([0..1] for floats or [0..255] for integers).\n"
     ]
    },
    {
     "data": {
      "image/png": "[encoded data removed]",
      "text/plain": [
       "<Figure size 1440x1440 with 10 Axes>"
      ]
     },
     "metadata": {
      "needs_background": "light"
     },
     "output_type": "display_data"
    },
    {
     "name": "stdout",
     "output_type": "stream",
     "text": [
      "[[1. 0. 0.]\n",
      " [0. 1. 0.]\n",
      " [1. 0. 0.]\n",
      " [1. 0. 0.]\n",
      " [0. 1. 0.]\n",
      " [1. 0. 0.]\n",
      " [1. 0. 0.]\n",
      " [0. 1. 0.]\n",
      " [1. 0. 0.]\n",
      " [1. 0. 0.]]\n"
     ]
    }
   ],
   "source": [
    "plotImages(imgs)\n",
    "print(labels)"
   ]
  },
  {
   "cell_type": "markdown",
   "id": "9f58917b",
   "metadata": {},
   "source": [
    "## Construccion y entrenamiento del modelo CNN - VGG16"
   ]
  },
  {
   "cell_type": "code",
   "execution_count": 23,
   "id": "e2ef773d",
   "metadata": {},
   "outputs": [],
   "source": [
    "def conv_model(device_name):\n",
    "    with tensorflow.device(device_name):\n",
    "        model = Sequential()\n",
    "        model.add(Conv2D(filters=32, kernel_size=(3,3), activation='relu', padding='same', input_shape=(224,224,3)))\n",
    "        model.add(MaxPool2D(pool_size=(2,2), strides=2))\n",
    "        model.add(Conv2D(filters=64, kernel_size=(3,3), activation='relu', padding='same'))\n",
    "        model.add( MaxPool2D(pool_size=(2,2), strides=2))\n",
    "        model.add(Flatten())      \n",
    "        model.add(Dense(units=3, activation='softmax'))\n",
    "        \n",
    "        model.compile(optimizer=Adam(learning_rate=0.0001), \n",
    "              loss='categorical_crossentropy', \n",
    "              metrics=['accuracy'])\n",
    "        return model"
   ]
  },
  {
   "cell_type": "markdown",
   "id": "61b32565",
   "metadata": {},
   "source": [
    " ## Entrenamiento del modelo VGG16"
   ]
  },
  {
   "cell_type": "code",
   "execution_count": 24,
   "id": "cbe0d992",
   "metadata": {},
   "outputs": [],
   "source": [
    "def run(model_arg):\n",
    "    model_arg.fit(x=train_batches,\n",
    "              validation_data=valid_batches,\n",
    "              epochs=10,\n",
    "              verbose=2)    \n",
    "    return model_arg"
   ]
  },
  {
   "cell_type": "code",
   "execution_count": 25,
   "id": "692904db",
   "metadata": {},
   "outputs": [],
   "source": [
    "#cpu_model = conv_model('CPU')\n",
    "gpu_model = conv_model('DML')"
   ]
  },
  {
   "cell_type": "code",
   "execution_count": 26,
   "id": "1f77cdc4",
   "metadata": {},
   "outputs": [
    {
     "name": "stdout",
     "output_type": "stream",
     "text": [
      "Model: \"sequential_2\"\n",
      "_________________________________________________________________\n",
      "Layer (type)                 Output Shape              Param #   \n",
      "=================================================================\n",
      "conv2d_4 (Conv2D)            (None, 224, 224, 32)      896       \n",
      "_________________________________________________________________\n",
      "max_pooling2d_4 (MaxPooling2 (None, 112, 112, 32)      0         \n",
      "_________________________________________________________________\n",
      "conv2d_5 (Conv2D)            (None, 112, 112, 64)      18496     \n",
      "_________________________________________________________________\n",
      "max_pooling2d_5 (MaxPooling2 (None, 56, 56, 64)        0         \n",
      "_________________________________________________________________\n",
      "flatten_2 (Flatten)          (None, 200704)            0         \n",
      "_________________________________________________________________\n",
      "dense (Dense)                (None, 3)                 602115    \n",
      "=================================================================\n",
      "Total params: 621,507\n",
      "Trainable params: 621,507\n",
      "Non-trainable params: 0\n",
      "_________________________________________________________________\n"
     ]
    }
   ],
   "source": [
    "#cpu_model.summary()\n",
    "gpu_model.summary()"
   ]
  },
  {
   "cell_type": "code",
   "execution_count": null,
   "id": "2de9e03e",
   "metadata": {},
   "outputs": [
    {
     "name": "stdout",
     "output_type": "stream",
     "text": [
      "Procesando entrenamiento del modelo.. 2022-06-20 14:43:48\n",
      "Epoch 1/10\n"
     ]
    }
   ],
   "source": [
    "#cpu_model = conv_model('CPU')\n",
    "gpu_model = conv_model('DML')\n",
    "\n",
    "currentime_ini = datetime.datetime.now()\n",
    "time = currentime_ini.strftime(\"%Y-%m-%d %H:%M:%S\")\n",
    "print(\"Procesando entrenamiento del modelo..\", time)\n",
    "\n",
    "#conv_cpu_trained = run(cpu_model)\n",
    "conv_gpu_trained = run(gpu_model)\n",
    "\n",
    "currentime_fin = datetime.datetime.now()\n",
    "time = currentime_fin.strftime(\"%Y-%m-%d %H:%M:%S\")\n",
    "diff = currentime_fin - currentime_ini\n",
    "print(\"Estampa tiempo fin entrenamiento..\", time)\n",
    "\n",
    "\n",
    "#print('Tiempo de entrenamiento en CPU con 10 Epochs: {} segundos'.format(conv_cpu_time))\n",
    "print('\\n')\n",
    "print('Tiempo de entrenamiento en GPU con 10 Epochs: {} segundos'.format(diff))"
   ]
  },
  {
   "cell_type": "markdown",
   "id": "ebfee4f7",
   "metadata": {},
   "source": [
    "La exactitud o accuracy en el cliclo (epoch) 6 al 10 fue de 100% \n",
    "y la validacion de exactitud (val_acc) tomo valores entre: 43.26% y 43.03% lo que nos indica que no es tan buena"
   ]
  },
  {
   "cell_type": "markdown",
   "id": "010abad0",
   "metadata": {},
   "source": [
    " ## Predicción con conjunto de pruebas"
   ]
  },
  {
   "cell_type": "code",
   "execution_count": null,
   "id": "5f58e5de",
   "metadata": {},
   "outputs": [],
   "source": [
    "predictions = gpu_model.predict(x = test_batches, \n",
    "                                verbose = 0)"
   ]
  },
  {
   "cell_type": "code",
   "execution_count": null,
   "id": "376fbd58",
   "metadata": {},
   "outputs": [],
   "source": [
    "test_batches.classes"
   ]
  },
  {
   "cell_type": "code",
   "execution_count": null,
   "id": "a9bca284",
   "metadata": {},
   "outputs": [],
   "source": [
    "cm = confusion_matrix(y_true = test_batches.classes, \n",
    "                      y_pred = np.argmax(predictions, axis=-1))"
   ]
  },
  {
   "cell_type": "code",
   "execution_count": null,
   "id": "e8c5dcea",
   "metadata": {},
   "outputs": [],
   "source": [
    "test_batches.class_indices"
   ]
  },
  {
   "cell_type": "code",
   "execution_count": null,
   "id": "12e9eaa0",
   "metadata": {},
   "outputs": [],
   "source": [
    "def plot_confusion_matrix(cm, target_names, title='Confusion matrix', cmap=None, normalize=False):\n",
    "    \"\"\"\n",
    "    arguments\n",
    "    ---------\n",
    "    cm:           confusion matrix from sklearn.metrics.confusion_matrix\n",
    "\n",
    "    target_names: given classification classes such as [0, 1, 2]\n",
    "                  the class names, for example: ['high', 'medium', 'low']\n",
    "\n",
    "    title:        the text to display at the top of the matrix\n",
    "\n",
    "    cmap:         the gradient of the values displayed from matplotlib.pyplot.cm\n",
    "                  see http://matplotlib.org/examples/color/colormaps_reference.html\n",
    "\n",
    "    normalize:    If False, plot the raw numbers\n",
    "                  If True, plot the proportions\n",
    "    \"\"\"\n",
    "     \n",
    "    if cmap is None:\n",
    "        cmap = plt.get_cmap('Blues')\n",
    "\n",
    "    plt.figure(figsize=(8, 6))\n",
    "    plt.imshow(cm, interpolation='nearest', cmap=cmap)\n",
    "    plt.title(title)\n",
    "    plt.colorbar()\n",
    "    \n",
    "    if target_names is not None:\n",
    "        tick_marks = np.arange(len(target_names))\n",
    "        plt.xticks(tick_marks, target_names, rotation=45)\n",
    "        plt.yticks(tick_marks, target_names)\n",
    "\n",
    "    if normalize:\n",
    "        cm = cm.astype('float') / cm.sum(axis=1)[:, np.newaxis]\n",
    "\n",
    "\n",
    "    thresh = cm.max() / 1.5 if normalize else cm.max() / 2\n",
    "    for i, j in itertools.product(range(cm.shape[0]), range(cm.shape[1])):\n",
    "        if normalize:\n",
    "            plt.text(j, i, \"{:0.4f}\".format(cm[i, j]),\n",
    "                     horizontalalignment=\"center\",\n",
    "                     color=\"white\" if cm[i, j] > thresh else \"black\")\n",
    "        else:\n",
    "            plt.text(j, i, \"{:,}\".format(cm[i, j]),\n",
    "                     horizontalalignment=\"center\",\n",
    "                     color=\"white\" if cm[i, j] > thresh else \"black\")\n",
    "\n",
    "\n",
    "    plt.tight_layout()\n",
    "    plt.ylim(len(target_names)-0.5, -0.5)\n",
    "    plt.ylabel('True labels')\n",
    "    plt.xlabel('Predicted labels')\n",
    "    plt.savefig(title + '.png', dpi=500, bbox_inches = 'tight')\n",
    "    plt.show()\n",
    "    \n",
    "    \n",
    "    \n",
    "# a tuple for all the class names\n",
    "target_names = ('AD', 'CN', 'MCI')\n",
    "plot_confusion_matrix(cm, target_names)"
   ]
  },
  {
   "cell_type": "markdown",
   "id": "53ab2833",
   "metadata": {},
   "source": [
    "## Visualizar resultados del entrenamiento"
   ]
  },
  {
   "cell_type": "code",
   "execution_count": null,
   "id": "8cb90707",
   "metadata": {},
   "outputs": [],
   "source": [
    "print(model.history.history.keys())"
   ]
  },
  {
   "cell_type": "code",
   "execution_count": null,
   "id": "5cfe493c",
   "metadata": {},
   "outputs": [],
   "source": [
    "acc = model.history.history['acc']\n",
    "val_acc = model.history.history['val_acc']\n",
    "loss = model.history.history['loss']\n",
    "val_loss = model.history.history['val_loss']\n",
    "\n",
    "print(acc)\n",
    "print(val_acc)\n",
    "print(loss)\n",
    "print(val_loss)"
   ]
  },
  {
   "cell_type": "code",
   "execution_count": null,
   "id": "bcdd8a69",
   "metadata": {},
   "outputs": [],
   "source": [
    "epochs_ft = 20\n",
    "acc = model.history.history['acc']\n",
    "val_acc = model.history.history['val_acc']\n",
    "\n",
    "loss = model.history.history['loss']\n",
    "val_loss = model.history.history['val_loss']\n",
    "\n",
    "epochs_range = range(epochs_ft)\n",
    "\n",
    "plt.figure(figsize=(15, 5))\n",
    "plt.plot(epochs_range, acc, label='Training Accuracy')\n",
    "plt.plot(epochs_range, val_acc, label='Validation Accuracy')\n",
    "plt.legend(loc='lower right')\n",
    "plt.title('Training and Validation Accuracy')\n",
    "plt.show()"
   ]
  },
  {
   "cell_type": "code",
   "execution_count": null,
   "id": "71ed4e69",
   "metadata": {},
   "outputs": [],
   "source": [
    "plt.figure(figsize=(15, 5))\n",
    "plt.plot(epochs_range, loss, label='Training Loss')\n",
    "plt.plot(epochs_range, val_loss, label='Validation Loss')\n",
    "plt.legend(loc='upper right')\n",
    "plt.title('Training and Validation Loss')\n",
    "plt.show()"
   ]
  },
  {
   "cell_type": "code",
   "execution_count": null,
   "id": "6fb1523f",
   "metadata": {},
   "outputs": [],
   "source": [
    "y_true = test_batches.classes\n",
    "y_pred = np.argmax(predictions, axis=-1)\n",
    "target_names = ('AD', 'CN', 'MCI')\n",
    "\n",
    "print(classification_report(y_true, y_pred, target_names=target_names))"
   ]
  },
  {
   "cell_type": "markdown",
   "id": "2bd4374d",
   "metadata": {},
   "source": [
    "---\n",
    "---\n",
    "---"
   ]
  },
  {
   "cell_type": "markdown",
   "id": "767b138b",
   "metadata": {},
   "source": [
    "## Construccion y construir afinar el modelo CNN-VGG16 (Modelo afinado)"
   ]
  },
  {
   "cell_type": "code",
   "execution_count": null,
   "id": "75bc2c5a",
   "metadata": {},
   "outputs": [],
   "source": [
    "# Agregar la base de la parte superior del modelo (top)\n",
    "\n",
    "nb_classes = 3\n",
    "\n",
    "def add_top(base):\n",
    "    x = base.output\n",
    "\n",
    "    # Capa de grupo de promedio global\n",
    "    x = GlobalAveragePooling2D()(x)\n",
    "\n",
    "    x = tensorflow.keras.layers.Dense(64, activation='relu')(x)\n",
    "    x = tensorflow.keras.layers.Dropout(0.2)(x)\n",
    "    \n",
    "    # Capa regular densamente conectada\n",
    "    x = Dense(512, activation='relu')(x)\n",
    "\n",
    "    # Capa de salida\n",
    "    predictions = Dense(nb_classes, activation='softmax')(x)\n",
    "\n",
    "    return Model(inputs = base.input, outputs= predictions)"
   ]
  },
  {
   "cell_type": "code",
   "execution_count": null,
   "id": "c8288500",
   "metadata": {},
   "outputs": [],
   "source": [
    "# Modelo de configuración afinado\n",
    "def setup_model(model, trainable):\n",
    "    # Congelar las capas no entrenables de la base del modelo\n",
    "    for layer in model.layers[:(len(model.layers) - trainable)]:\n",
    "        layer.trainable = False\n",
    "\n",
    "    for layer in model.layers[(len(model.layers) - trainable):]:\n",
    "        layer.trainable = True\n",
    "\n",
    "    model.compile(\n",
    "        loss='categorical_crossentropy',\n",
    "        # Tasa de entrenamiento más lenta para el ajuste fino\n",
    "        optimizer=optimizers.SGD(lr=1e-4, momentum=0.9),\n",
    "        # optimizer=Adam(learning_rate=0.0001),\n",
    "        metrics=['accuracy']\n",
    "    )\n",
    "    \n",
    "    return model"
   ]
  },
  {
   "cell_type": "code",
   "execution_count": null,
   "id": "73ca0022",
   "metadata": {},
   "outputs": [],
   "source": [
    "# Configurar el modelo para volver a entrenar nuestra \n",
    "# capa superior más el bloque 13 y 14 de Xception\n",
    "with tensorflow.device('DML'):\n",
    "    IMG_SHAPE = (224, 224, 3)\n",
    "    ngg16_model = tf.keras.applications.vgg16.VGG16(input_shape=IMG_SHAPE, \n",
    "                                                         include_top=False,\n",
    "                                                         weights='imagenet',\n",
    "                                                         pooling='avg')\n",
    "\n",
    "    model = add_top(ngg16_model)\n",
    "    model = setup_model(model, 19)"
   ]
  },
  {
   "cell_type": "code",
   "execution_count": null,
   "id": "09e13e1b",
   "metadata": {},
   "outputs": [],
   "source": [
    "model.summary()"
   ]
  },
  {
   "cell_type": "code",
   "execution_count": null,
   "id": "ec347018",
   "metadata": {},
   "outputs": [],
   "source": [
    "# Afinar la modelo\n",
    "\n",
    "epochs_ft = 20\n",
    "\n",
    "with tensorflow.device('DML'):\n",
    "    earlystopper = EarlyStopping(monitor='val_loss',\n",
    "                             min_delta=0, \n",
    "                             patience=10, # maximo epochs\n",
    "                             verbose=1,\n",
    "                             restore_best_weights=True,\n",
    "                             mode='auto')\n",
    "    \n",
    "    model.fit_generator(train_batches,\n",
    "                        epochs=epochs_ft,\n",
    "                        validation_data=valid_batches,\n",
    "                        verbose=2,\n",
    "                        callbacks = [earlystopper])"
   ]
  },
  {
   "cell_type": "markdown",
   "id": "72d1cd7b",
   "metadata": {},
   "source": [
    "## Predicción modelo afinado VGG16 (Modelo afinado)"
   ]
  },
  {
   "cell_type": "code",
   "execution_count": null,
   "id": "bb04f592",
   "metadata": {},
   "outputs": [],
   "source": [
    "predictions = model.predict(x=test_batches, verbose=0)"
   ]
  },
  {
   "cell_type": "code",
   "execution_count": null,
   "id": "1d8e8bfc",
   "metadata": {},
   "outputs": [],
   "source": [
    "cm = confusion_matrix(y_true = test_batches.classes, \n",
    "                      y_pred = np.argmax(predictions, axis=-1))"
   ]
  },
  {
   "cell_type": "code",
   "execution_count": null,
   "id": "b15b426f",
   "metadata": {},
   "outputs": [],
   "source": [
    "target_names = ('AD', 'CN', 'MCI')\n",
    "plot_confusion_matrix(cm, target_names)"
   ]
  },
  {
   "cell_type": "markdown",
   "id": "d8d7bc4d",
   "metadata": {},
   "source": [
    "## Visualizar resultados del entrenamiento (Modelo afinado)"
   ]
  },
  {
   "cell_type": "code",
   "execution_count": null,
   "id": "5a9cd52b",
   "metadata": {},
   "outputs": [],
   "source": [
    "print(model.history.history.keys())"
   ]
  },
  {
   "cell_type": "code",
   "execution_count": null,
   "id": "44816ee5",
   "metadata": {},
   "outputs": [],
   "source": [
    "acc = model.history.history['acc']\n",
    "val_acc = model.history.history['val_acc']\n",
    "loss = model.history.history['loss']\n",
    "val_loss = model.history.history['val_loss']\n",
    "\n",
    "print(acc)\n",
    "print(val_acc)\n",
    "print(loss)\n",
    "print(val_loss)"
   ]
  },
  {
   "cell_type": "code",
   "execution_count": null,
   "id": "f24ca2d6",
   "metadata": {},
   "outputs": [],
   "source": [
    "acc = model.history.history['acc']\n",
    "val_acc = model.history.history['val_acc']\n",
    "\n",
    "loss = model.history.history['loss']\n",
    "val_loss = model.history.history['val_loss']\n",
    "\n",
    "epochs_range = range(epochs_ft)\n",
    "\n",
    "plt.figure(figsize=(15, 5))\n",
    "plt.plot(epochs_range, acc, label='Training Accuracy')\n",
    "plt.plot(epochs_range, val_acc, label='Validation Accuracy')\n",
    "plt.legend(loc='lower right')\n",
    "plt.title('Training and Validation Accuracy')\n",
    "plt.show()"
   ]
  },
  {
   "cell_type": "code",
   "execution_count": null,
   "id": "2223328e",
   "metadata": {},
   "outputs": [],
   "source": [
    "plt.figure(figsize=(15, 5))\n",
    "plt.plot(epochs_range, loss, label='Training Loss')\n",
    "plt.plot(epochs_range, val_loss, label='Validation Loss')\n",
    "plt.legend(loc='upper right')\n",
    "plt.title('Training and Validation Loss')\n",
    "plt.show()"
   ]
  },
  {
   "cell_type": "code",
   "execution_count": null,
   "id": "a3e213ed",
   "metadata": {},
   "outputs": [],
   "source": [
    "y_true = test_batches.classes\n",
    "y_pred = np.argmax(predictions, axis=-1)\n",
    "target_names = ('AD', 'CN', 'MCI')\n",
    "\n",
    "print(classification_report(y_true, y_pred, target_names=target_names))"
   ]
  },
  {
   "cell_type": "markdown",
   "id": "efadf984",
   "metadata": {},
   "source": [
    "## Visualizar resultados del entrenamiento"
   ]
  },
  {
   "cell_type": "code",
   "execution_count": null,
   "id": "7217b272",
   "metadata": {},
   "outputs": [],
   "source": [
    "acc = model.history.history['acc']\n",
    "val_acc = model.history.history['val_acc']\n",
    "loss = model.history.history['loss']\n",
    "val_loss = model.history.history['val_loss']\n",
    "\n",
    "print(acc)\n",
    "print(val_acc)\n",
    "print(loss)\n",
    "print(val_loss)"
   ]
  },
  {
   "cell_type": "code",
   "execution_count": null,
   "id": "0c735d76",
   "metadata": {},
   "outputs": [],
   "source": [
    "acc = model.history.history['acc']\n",
    "val_acc = model.history.history['val_acc']\n",
    "\n",
    "loss = model.history.history['loss']\n",
    "val_loss = model.history.history['val_loss']\n",
    "\n",
    "epochs_range = range(epochs_ft)\n",
    "\n",
    "plt.figure(figsize=(15, 5))\n",
    "plt.plot(epochs_range, acc, label='Training Accuracy')\n",
    "plt.plot(epochs_range, val_acc, label='Validation Accuracy')\n",
    "plt.legend(loc='lower right')\n",
    "plt.title('Training and Validation Accuracy')\n",
    "plt.show()"
   ]
  },
  {
   "cell_type": "markdown",
   "id": "0e9c8125",
   "metadata": {},
   "source": [
    "# Referencias bibliográficas"
   ]
  },
  {
   "cell_type": "code",
   "execution_count": null,
   "id": "9b814a27",
   "metadata": {},
   "outputs": [],
   "source": [
    "https://www.youtube.com/watch?v=q-HkgmJ4aR8&list=PLZbbT5o_s2xrwRnXk_yCPtnqqo4_u2YGL&index=7"
   ]
  },
  {
   "cell_type": "code",
   "execution_count": null,
   "id": "88335ebc",
   "metadata": {},
   "outputs": [],
   "source": [
    "https://neurohive.io/en/popular-networks/vgg16/"
   ]
  },
  {
   "cell_type": "code",
   "execution_count": null,
   "id": "39de9406",
   "metadata": {},
   "outputs": [],
   "source": [
    "https://www.youtube.com/watch?v=q-HkgmJ4aR8&list=PLZbbT5o_s2xrwRnXk_yCPtnqqo4_u2YGL&index=7"
   ]
  },
  {
   "cell_type": "code",
   "execution_count": null,
   "id": "36ceb4e5",
   "metadata": {},
   "outputs": [],
   "source": [
    "https://neurohive.io/en/popular-networks/vgg16/"
   ]
  },
  {
   "cell_type": "markdown",
   "id": "511021e5",
   "metadata": {},
   "source": [
    "https://machinelearningmastery.com/how-to-develop-a-convolutional-neural-network-to-classify-photos-of-dogs-and-cats/\n",
    "\n",
    "https://colab.research.google.com/github/tfindiamooc/tfindiamooc.github.io/blob/master/colabs/image_classification_and_visualization.ipynb#scrollTo=1Ba2LjtkVrXy\n",
    "\n",
    "https://learnopencv.com/keras-tutorial-fine-tuning-using-pre-trained-models/"
   ]
  },
  {
   "cell_type": "markdown",
   "id": "ea0eded3",
   "metadata": {},
   "source": [
    "https://www.kaggle.com/datasets/tourist55/alzheimers-dataset-4-class-of-images"
   ]
  },
  {
   "cell_type": "markdown",
   "id": "9801d913",
   "metadata": {},
   "source": [
    "https://towardsdatascience.com/alzheimer-diagnosis-with-deep-learning-a-survey-265406fa542a\n",
    "\n",
    "https://www.youtube.com/watch?v=3V9YFPfgyAY"
   ]
  },
  {
   "cell_type": "code",
   "execution_count": null,
   "id": "928f3c8b",
   "metadata": {},
   "outputs": [],
   "source": [
    "https://github.com/Yale-Deep-Learning-for-Alzheimers/Alzheimers-DL-Network"
   ]
  },
  {
   "cell_type": "code",
   "execution_count": null,
   "id": "40d36d8b",
   "metadata": {},
   "outputs": [],
   "source": [
    "https://www.kaggle.com/code/muneebkhurram/alzheimer-mri-classification"
   ]
  },
  {
   "cell_type": "markdown",
   "id": "eb5b6a73",
   "metadata": {},
   "source": [
    "0. Image Preparation for Convolutional Neural Networks with TensorFlow's Keras API\n",
    "https://www.youtube.com/watch?v=_L2uYfVV48I&list=PLZbbT5o_s2xrwRnXk_yCPtnqqo4_u2YGL&index=10\n",
    "\n",
    "0.1 Data Augmentation with TensorFlow's Keras API\n",
    "https://www.youtube.com/watch?v=WSvpLUietIM&list=PLZbbT5o_s2xrwRnXk_yCPtnqqo4_u2YGL&index=14\n",
    "\n",
    "1.Keras with TensorFlow - Data Processing for Neural Network Training\n",
    "https://www.youtube.com/watch?v=3FwGDUD_ZuQ&list=PLZbbT5o_s2xrwRnXk_yCPtnqqo4_u2YGL&index=3\n",
    "\n",
    "2.Build and Train a Convolutional Neural Network with TensorFlow's Keras API\n",
    "https://www.youtube.com/watch?v=3V9YFPfgyAY&t=326s\n",
    "\n",
    "3.Keras with TensorFlow Prerequisites - Getting Started With Neural Networks\n",
    "https://www.youtube.com/watch?v=e47ISlpYFok\n",
    "\n",
    "4.Train a Fine-Tuned Neural Network with TensorFlow's Keras API\n",
    "https://www.youtube.com/watch?v=TguZ0WK0orQ\n",
    "\n",
    "5.Create a Confusion Matrix for Neural Network Predictions\n",
    "https://www.youtube.com/watch?v=VYGVOwlT4oE&list=PLZbbT5o_s2xrwRnXk_yCPtnqqo4_u2YGL&index=9\n",
    "\n",
    "6.MobileNet Image Classification with TensorFlow's Keras API\n",
    "https://www.youtube.com/watch?v=5JAZiue-fzY&list=PLZbbT5o_s2xrwRnXk_yCPtnqqo4_u2YGL&index=19\n",
    "\n",
    "7.Save and Load a Model with TensorFlow's Keras API\n",
    "https://www.youtube.com/watch?v=8Nl-of5C3uA&list=PLZbbT5o_s2xrwRnXk_yCPtnqqo4_u2YGL&index=10"
   ]
  },
  {
   "cell_type": "markdown",
   "id": "61117e73",
   "metadata": {},
   "source": [
    "https://keras.io/api/applications/"
   ]
  },
  {
   "cell_type": "markdown",
   "id": "736d0513",
   "metadata": {},
   "source": [
    "https://note.nkmk.me/python-tensorflow-keras-applications-pretrained-models/"
   ]
  },
  {
   "cell_type": "markdown",
   "id": "2e9b7d14",
   "metadata": {},
   "source": [
    "0. Image Preparation for Convolutional Neural Networks with TensorFlow's Keras API\n",
    "https://www.youtube.com/watch?v=_L2uYfVV48I&list=PLZbbT5o_s2xrwRnXk_yCPtnqqo4_u2YGL&index=10\n",
    "\n",
    "0.1 Data Augmentation with TensorFlow's Keras API\n",
    "https://www.youtube.com/watch?v=WSvpLUietIM&list=PLZbbT5o_s2xrwRnXk_yCPtnqqo4_u2YGL&index=14\n",
    "\n",
    "1.Keras with TensorFlow - Data Processing for Neural Network Training\n",
    "https://www.youtube.com/watch?v=3FwGDUD_ZuQ&list=PLZbbT5o_s2xrwRnXk_yCPtnqqo4_u2YGL&index=3\n",
    "\n",
    "2.Build and Train a Convolutional Neural Network with TensorFlow's Keras API\n",
    "https://www.youtube.com/watch?v=3V9YFPfgyAY&t=326s\n",
    "\n",
    "3.Keras with TensorFlow Prerequisites - Getting Started With Neural Networks\n",
    "https://www.youtube.com/watch?v=e47ISlpYFok\n",
    "\n",
    "4.Train a Fine-Tuned Neural Network with TensorFlow's Keras API\n",
    "https://www.youtube.com/watch?v=TguZ0WK0orQ\n",
    "\n",
    "5.Create a Confusion Matrix for Neural Network Predictions\n",
    "https://www.youtube.com/watch?v=VYGVOwlT4oE&list=PLZbbT5o_s2xrwRnXk_yCPtnqqo4_u2YGL&index=9\n",
    "\n",
    "6.MobileNet Image Classification with TensorFlow's Keras API\n",
    "https://www.youtube.com/watch?v=5JAZiue-fzY&list=PLZbbT5o_s2xrwRnXk_yCPtnqqo4_u2YGL&index=19\n",
    "\n",
    "7.Save and Load a Model with TensorFlow's Keras API\n",
    "https://www.youtube.com/watch?v=8Nl-of5C3uA&list=PLZbbT5o_s2xrwRnXk_yCPtnqqo4_u2YGL&index=10"
   ]
  }
 ],
 "metadata": {
  "kernelspec": {
   "display_name": "gpu_tfm_unir",
   "language": "python",
   "name": "gpu_tfm_unir"
  },
  "language_info": {
   "codemirror_mode": {
    "name": "ipython",
    "version": 3
   },
   "file_extension": ".py",
   "mimetype": "text/x-python",
   "name": "python",
   "nbconvert_exporter": "python",
   "pygments_lexer": "ipython3",
   "version": "3.6.13"
  }
 },
 "nbformat": 4,
 "nbformat_minor": 5
}
