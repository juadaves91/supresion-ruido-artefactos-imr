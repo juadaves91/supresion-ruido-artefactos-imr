{
 "cells": [
  {
   "cell_type": "markdown",
   "id": "f9a75397",
   "metadata": {},
   "source": [
    "https://www.kaggle.com/datasets/tourist55/alzheimers-dataset-4-class-of-images"
   ]
  },
  {
   "cell_type": "markdown",
   "id": "8334bbb6",
   "metadata": {},
   "source": [
    "https://towardsdatascience.com/alzheimer-diagnosis-with-deep-learning-a-survey-265406fa542a"
   ]
  },
  {
   "cell_type": "code",
   "execution_count": null,
   "id": "ac5afb44",
   "metadata": {},
   "outputs": [],
   "source": [
    "https://github.com/Yale-Deep-Learning-for-Alzheimers/Alzheimers-DL-Network"
   ]
  },
  {
   "cell_type": "code",
   "execution_count": null,
   "id": "a53f34c6",
   "metadata": {},
   "outputs": [],
   "source": [
    "https://www.kaggle.com/code/muneebkhurram/alzheimer-mri-classification"
   ]
  }
 ],
 "metadata": {
  "kernelspec": {
   "display_name": "Python 3 (ipykernel)",
   "language": "python",
   "name": "python3"
  },
  "language_info": {
   "codemirror_mode": {
    "name": "ipython",
    "version": 3
   },
   "file_extension": ".py",
   "mimetype": "text/x-python",
   "name": "python",
   "nbconvert_exporter": "python",
   "pygments_lexer": "ipython3",
   "version": "3.7.13"
  }
 },
 "nbformat": 4,
 "nbformat_minor": 5
}
