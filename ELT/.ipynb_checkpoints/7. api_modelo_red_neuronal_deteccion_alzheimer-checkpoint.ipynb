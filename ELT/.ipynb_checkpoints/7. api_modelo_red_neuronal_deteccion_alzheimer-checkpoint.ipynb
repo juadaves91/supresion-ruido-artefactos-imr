{
 "cells": [
  {
   "cell_type": "markdown",
   "id": "d22c9c09",
   "metadata": {},
   "source": [
    "https://akoios.medium.com/titan-tutorial-1-hello-world-c4595bd58c08"
   ]
  },
  {
   "cell_type": "markdown",
   "id": "4610ed6a",
   "metadata": {},
   "source": [
    "https://www.youtube.com/watch?v=VrDz14iEhwA"
   ]
  }
 ],
 "metadata": {
  "kernelspec": {
   "display_name": "Python 3 (ipykernel)",
   "language": "python",
   "name": "python3"
  },
  "language_info": {
   "codemirror_mode": {
    "name": "ipython",
    "version": 3
   },
   "file_extension": ".py",
   "mimetype": "text/x-python",
   "name": "python",
   "nbconvert_exporter": "python",
   "pygments_lexer": "ipython3",
   "version": "3.7.13"
  }
 },
 "nbformat": 4,
 "nbformat_minor": 5
}
