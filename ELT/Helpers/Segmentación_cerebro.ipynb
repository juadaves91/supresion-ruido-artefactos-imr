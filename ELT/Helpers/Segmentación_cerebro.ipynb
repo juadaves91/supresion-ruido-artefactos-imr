{
 "cells": [
  {
   "cell_type": "markdown",
   "id": "2947aaed",
   "metadata": {},
   "source": [
    "<img src=\"https://www.unir.net/wp-content/uploads/2019/11/Unir_2021_logo.svg\" width=\"240\" height=\"240\" align=\"right\"/>"
   ]
  },
  {
   "cell_type": "markdown",
   "id": "e3ff7ed3",
   "metadata": {},
   "source": [
    "<h2>Deep Learning en el diagnóstico de Alzheimer mediante Imágenes de Resonancia Magnética </h2> "
   ]
  },
  {
   "cell_type": "markdown",
   "id": "38805e9d",
   "metadata": {},
   "source": [
    "## DIPY "
   ]
  },
  {
   "cell_type": "markdown",
   "id": "69d2dd6e",
   "metadata": {},
   "source": [
    "#### https://dipy.org/documentation/1.0.0./examples_built/brain_extraction_dwi/"
   ]
  },
  {
   "cell_type": "code",
   "execution_count": null,
   "id": "3bb0d4a7",
   "metadata": {},
   "outputs": [],
   "source": [
    "import numpy as np\n",
    "import nibabel as nib"
   ]
  },
  {
   "cell_type": "code",
   "execution_count": null,
   "id": "d0499bf6",
   "metadata": {},
   "outputs": [],
   "source": [
    "from nipype.interfaces import brainsuite\n",
    "from nipype.testing import example_data\n",
    "bse = brainsuite.Bse()\n",
    "path_img = r\"D:\\output\\I45108\\ADNI_002_S_0295_MR_MPR__GradWarp__B1_Correction__N3__Scaled_Br_20070319113623975_S13408_I45108.nii\"\n",
    "\n",
    "bse.inputs.inputMRIFile = example_data(path_img)"
   ]
  },
  {
   "cell_type": "code",
   "execution_count": null,
   "id": "40d8fc53",
   "metadata": {},
   "outputs": [],
   "source": [
    "results = bse.run() "
   ]
  },
  {
   "cell_type": "code",
   "execution_count": null,
   "id": "9b8ded7c",
   "metadata": {},
   "outputs": [],
   "source": [
    "results"
   ]
  },
  {
   "cell_type": "code",
   "execution_count": null,
   "id": "6169085d",
   "metadata": {},
   "outputs": [],
   "source": [
    "# from dipy.data.fetcher import fetch_scil_b0, read_siemens_scil_b0\n",
    "# fetch_scil_b0()\n",
    "# img = read_siemens_scil_b0()\n",
    "# data = np.squeeze(img.get_data())\n",
    "# print(type(data.shape), data.shape)"
   ]
  },
  {
   "cell_type": "code",
   "execution_count": null,
   "id": "8b61a76b",
   "metadata": {},
   "outputs": [],
   "source": [
    "path_img = r\"D:\\output\\I45108\\ADNI_002_S_0295_MR_MPR__GradWarp__B1_Correction__N3__Scaled_Br_20070319113623975_S13408_I45108.nii\"\n",
    "\n",
    "img = nib.load(path_img)\n",
    "data = np.squeeze(img.get_data())\n",
    "\n",
    "print(img.shape, type(data.shape), data.shape)"
   ]
  },
  {
   "cell_type": "code",
   "execution_count": null,
   "id": "109053dc",
   "metadata": {},
   "outputs": [],
   "source": [
    "from dipy.segment.mask import median_otsu\n",
    "b0_mask, mask = median_otsu(data, median_radius=2, numpass=1)"
   ]
  },
  {
   "cell_type": "code",
   "execution_count": null,
   "id": "af0a7b73",
   "metadata": {},
   "outputs": [],
   "source": [
    "b0_mask_crop, mask_crop = median_otsu(data, median_radius=4, numpass=4,\n",
    "                                      autocrop=True)"
   ]
  },
  {
   "cell_type": "code",
   "execution_count": null,
   "id": "dbf7455b",
   "metadata": {},
   "outputs": [],
   "source": [
    "mask_img = nib.Nifti1Image(mask.astype(np.float32), img.affine)\n",
    "b0_img = nib.Nifti1Image(b0_mask.astype(np.float32), img.affine)\n",
    "\n",
    "fname = 'se_1.5t'\n",
    "nib.save(mask_img, fname + '_binary_mask.nii.gz')\n",
    "nib.save(b0_img, fname + '_mask.nii.gz')"
   ]
  },
  {
   "cell_type": "code",
   "execution_count": null,
   "id": "80f00b18",
   "metadata": {},
   "outputs": [],
   "source": [
    "data.shape"
   ]
  },
  {
   "cell_type": "code",
   "execution_count": null,
   "id": "c1c72f42",
   "metadata": {},
   "outputs": [],
   "source": [
    "import matplotlib.pyplot as plt\n",
    "from dipy.core.histeq import histeq\n",
    "\n",
    "sli = data.shape[2] // 2\n",
    "plt.figure('Brain segmentation')\n",
    "plt.subplot(1, 2, 1).set_axis_off()\n",
    "plt.imshow(histeq(data[sli,:, :].astype('float')).T,\n",
    "           cmap='gray', origin='lower')\n",
    "\n",
    "plt.subplot(1, 2, 2).set_axis_off()\n",
    "plt.imshow(histeq(b0_mask[sli,:, :].astype('float')).T,\n",
    "           cmap='gray', origin='lower')\n",
    "\n",
    "plt.savefig('median_otsu.png')"
   ]
  },
  {
   "cell_type": "code",
   "execution_count": null,
   "id": "7a911ff7",
   "metadata": {},
   "outputs": [],
   "source": [
    "import matplotlib.pyplot as plt\n",
    "from dipy.core.histeq import histeq\n",
    "\n",
    "sli = data.shape[0] // 2\n",
    "sli = 100\n",
    "print(sli,data.shape[2],data.shape)\n",
    "\n",
    "plt.figure('Brain segmentation')\n",
    "plt.subplot(1, 2, 1).set_axis_off()\n",
    "plt.imshow(histeq(data[:, sli, :].astype('float')).T,\n",
    "           cmap='gray', origin='lower')\n",
    "\n",
    "plt.subplot(1, 2, 2).set_axis_off()\n",
    "plt.imshow(histeq(b0_mask[:, sli, :].astype('float')).T,\n",
    "           cmap='gray', origin='lower')\n",
    "\n",
    "plt.savefig('median_otsu.png')"
   ]
  },
  {
   "cell_type": "code",
   "execution_count": null,
   "id": "9311a3e6",
   "metadata": {},
   "outputs": [],
   "source": [
    "import matplotlib.pyplot as plt\n",
    "from dipy.core.histeq import histeq\n",
    "\n",
    "print(data.shape)\n",
    "\n",
    "\n",
    "center_i = (n_i - 1) // 2  # // división entera Coronal\n",
    "center_j = (n_j - 1) // 2 # // división entera Axial\n",
    "center_k = (n_k - 1) // 2 # // división entera Sagital\n",
    "\n",
    "slice_coronal_0 = data[center_i, :, :] # Coronal\n",
    "slice_axial_1 = data[:, center_j, :] # Axial\n",
    "slice_sagital_2 = data[:, :, center_k] # Sagital\n",
    "\n",
    "fig = plt.figure(figsize=(10,10))\n",
    "\n",
    "plt.subplot(3, 2, 1)\n",
    "plt.imshow(histeq(data[center_i, :, :].astype('float')).T,\n",
    "           cmap='gray', origin='lower')\n",
    "\n",
    "plt.subplot(3, 2, 2)\n",
    "plt.imshow(histeq(b0_mask[center_i, :, :].astype('float')).T,\n",
    "           cmap='gray', origin='lower')\n",
    "  \n",
    "plt.subplot(3, 2, 3)\n",
    "plt.imshow(histeq(data[:, center_j, :].astype('float')).T,\n",
    "           cmap='gray', origin='lower')\n",
    "\n",
    "plt.subplot(3, 2, 4)\n",
    "plt.imshow(histeq(b0_mask[:, center_j, :].astype('float')).T,\n",
    "           cmap='gray', origin='lower')    \n",
    "\n",
    "plt.subplot(3, 2, 5)\n",
    "plt.imshow(histeq(data[:, :, center_k].astype('float')).T,\n",
    "           cmap='gray', origin='lower')\n",
    "\n",
    "plt.subplot(3, 2, 6)\n",
    "plt.imshow(histeq(b0_mask[:, :, center_k].astype('float')).T,\n",
    "           cmap='gray', origin='lower') \n",
    "\n",
    "# plt.savefig('median_otsu.png')"
   ]
  },
  {
   "cell_type": "code",
   "execution_count": null,
   "id": "47a286ac",
   "metadata": {},
   "outputs": [],
   "source": [
    "import matplotlib.pyplot as plt\n",
    "from dipy.core.histeq import histeq\n",
    "\n",
    "\n",
    "fig, ax = plt.subplots(ncols=3, figsize=(15, 5))\n",
    "\n",
    "# 2. Obtener los valores de las 3D del la imagen .nii\n",
    "n_i, n_j, n_k = data.shape\n",
    "\n",
    "# 3. Obtener el eje central de cada dimensión\n",
    "center_i = (n_i - 1) // 2  # // división entera\n",
    "center_j = (n_j - 1) // 2\n",
    "center_k = (n_k - 1) // 2\n",
    "\n",
    "print(center_i)\n",
    "print(center_j)\n",
    "print(center_k)\n",
    "\n",
    "# 4. Obtener cortes de cada dimensión ubicados en el centro de cada dimensión\n",
    "slice_coronal_0 = data[center_i, :, :] # Coronal\n",
    "slice_axial_1 = data[:, center_j, :] # Axial\n",
    "slice_sagital_2 = data[:, :, center_k] # Sagital\n",
    "                 \n",
    "\n",
    "ax[0].imshow(slice_coronal_0.T, origin='lower')\n",
    "#ax[0].imshow(histeq(slice_coronal_0.astype('float')).T, cmap='gray', origin='lower')\n",
    "ax[0].set_xlabel('Third dim voxel coords.', fontsize=12)\n",
    "ax[0].set_ylabel('Third dim voxel coords', fontsize=12)\n",
    "ax[0].set_title('(Coronal) - Third dimension, slice nr. 70', fontsize=15)\n",
    "\n",
    "\n",
    "ax[1].imshow(slice_axial_1.T, origin='lower')\n",
    "#ax[1].imshow(histeq(slice_axial_1.astype('float')).T, cmap='gray', origin='lower')\n",
    "ax[1].set_xlabel('Second dim voxel coords.', fontsize=12)\n",
    "ax[1].set_ylabel('Second dim voxel coords', fontsize=12)\n",
    "ax[1].set_title('(Sagital) - Second dimension, slice nr. 100', fontsize=15)\n",
    "\n",
    "ax[2].imshow(slice_sagital_2.T, origin='lower')\n",
    "#ax[2].imshow(histeq(slice_sagital_2.astype('float')).T, cmap='gray', origin='lower')\n",
    "ax[2].set_xlabel('First dim voxel coords.', fontsize=12)\n",
    "ax[2].set_ylabel('First dim voxel coords', fontsize=12)\n",
    "ax[2].set_title('(Axial) - First dimension, slice nr. 100', fontsize=15)\n",
    "\n",
    "fig.tight_layout()\n",
    "\n",
    "slice_coronal_0.shape, slice_axial_1.shape, slice_sagital_2.shape"
   ]
  },
  {
   "cell_type": "code",
   "execution_count": null,
   "id": "bd4ff960",
   "metadata": {},
   "outputs": [],
   "source": [
    "%run Prepocesamiento_helper.ipynb"
   ]
  },
  {
   "cell_type": "code",
   "execution_count": null,
   "id": "aebfe8c7",
   "metadata": {},
   "outputs": [],
   "source": [
    "normalize_image(data, 0)"
   ]
  },
  {
   "cell_type": "code",
   "execution_count": null,
   "id": "e582ec73",
   "metadata": {},
   "outputs": [],
   "source": [
    "# import matplotlib.pyplot as plt\n",
    "# from dipy.core.histeq import histeq\n",
    "\n",
    "# sli = data.shape[2] // 2\n",
    "# plt.figure('Brain segmentation')\n",
    "# plt.subplot(1, 2, 1).set_axis_off()\n",
    "# plt.imshow(histeq(data[:, :, sli].astype('float')).T,\n",
    "#            cmap='gray', origin='lower')\n",
    "\n",
    "# plt.subplot(1, 2, 2).set_axis_off()\n",
    "# plt.imshow(histeq(b0_mask[:, :, sli].astype('float')).T,\n",
    "#            cmap='gray', origin='lower')\n",
    "\n",
    "# plt.savefig('median_otsu.png')"
   ]
  },
  {
   "cell_type": "code",
   "execution_count": null,
   "id": "d3b8b40b",
   "metadata": {},
   "outputs": [],
   "source": [
    "b0_mask_crop, mask_crop = median_otsu(data, median_radius=4, numpass=4,\n",
    "                                      autocrop=True)"
   ]
  },
  {
   "cell_type": "code",
   "execution_count": null,
   "id": "ea3a7b06",
   "metadata": {},
   "outputs": [],
   "source": [
    "mask_img_crop = nib.Nifti1Image(mask_crop.astype(np.float32), img.affine)\n",
    "\n",
    "b0_img_crop = nib.Nifti1Image(b0_mask_crop.astype(np.float32), img.affine)\n",
    "                              nib.save(mask_img_crop, fname + '_binary_mask_crop.nii.gz')\n",
    "                              nib.save(b0_img_crop, fname + '_mask_crop.nii.gz')"
   ]
  },
  {
   "cell_type": "markdown",
   "id": "68b4aa35",
   "metadata": {},
   "source": [
    "## EJEMPLO 2"
   ]
  },
  {
   "cell_type": "code",
   "execution_count": null,
   "id": "42b9fb53",
   "metadata": {},
   "outputs": [],
   "source": [
    "!pip install nilearn"
   ]
  },
  {
   "cell_type": "code",
   "execution_count": null,
   "id": "eda00825",
   "metadata": {},
   "outputs": [],
   "source": [
    "# Image settings\n",
    "from nilearn import plotting\n",
    "import pylab as plt\n",
    "\n",
    "import numpy as np\n",
    "from nilearn import image as nli"
   ]
  },
  {
   "cell_type": "code",
   "execution_count": null,
   "id": "1ab49297",
   "metadata": {},
   "outputs": [],
   "source": [
    "path_img = r\"D:\\output\\I45108\\ADNI_002_S_0295_MR_MPR__GradWarp__B1_Correction__N3__Scaled_Br_20070319113623975_S13408_I45108.nii\"\n",
    "\n",
    "t1 = nli.load_img(path_img)\n",
    "\n",
    "t1.shape\n"
   ]
  },
  {
   "cell_type": "code",
   "execution_count": null,
   "id": "4ebaefba",
   "metadata": {},
   "outputs": [],
   "source": [
    "img = nli.mean_img(t1)"
   ]
  },
  {
   "cell_type": "code",
   "execution_count": null,
   "id": "3428bfc8",
   "metadata": {},
   "outputs": [],
   "source": [
    "plotting.view_img(img, bg_img=img)"
   ]
  },
  {
   "cell_type": "code",
   "execution_count": null,
   "id": "04fa222a",
   "metadata": {},
   "outputs": [],
   "source": [
    "mean = nli.mean_img(t1)"
   ]
  },
  {
   "cell_type": "code",
   "execution_count": null,
   "id": "3b16bde7",
   "metadata": {},
   "outputs": [],
   "source": [
    "thr = nli.threshold_img(mean, threshold='95%')"
   ]
  },
  {
   "cell_type": "code",
   "execution_count": null,
   "id": "f1815832",
   "metadata": {},
   "outputs": [],
   "source": [
    "plotting.view_img(thr, bg_img=img)"
   ]
  },
  {
   "cell_type": "code",
   "execution_count": null,
   "id": "fdc6aa51",
   "metadata": {},
   "outputs": [],
   "source": [
    "voxel_size = np.prod(thr.header['pixdim'][1:4])  # Size of 1 voxel in mm^3\n",
    "voxel_size"
   ]
  },
  {
   "cell_type": "code",
   "execution_count": null,
   "id": "dfc0a088",
   "metadata": {},
   "outputs": [],
   "source": [
    "from nilearn.regions import connected_regions\n",
    "cluster = connected_regions(thr, min_region_size=1000. / voxel_size, smoothing_fwhm=1)[0]"
   ]
  },
  {
   "cell_type": "code",
   "execution_count": null,
   "id": "7cdca95c",
   "metadata": {},
   "outputs": [],
   "source": [
    "mask = nli.math_img('np.mean(img,axis=3) > 0', img=cluster)"
   ]
  },
  {
   "cell_type": "code",
   "execution_count": null,
   "id": "2ce00c3c",
   "metadata": {},
   "outputs": [],
   "source": [
    "from nilearn.plotting import plot_roi\n",
    "plotting.plot_roi(mask, bg_img=t1, display_mode='z', dim=-.5, cmap='magma_r');"
   ]
  },
  {
   "cell_type": "code",
   "execution_count": null,
   "id": "b2806921",
   "metadata": {},
   "outputs": [],
   "source": [
    "# Apply mask to original functional image\n",
    "from nilearn.masking import apply_mask\n",
    "\n",
    "all_timecourses = apply_mask(img, mask)\n",
    "all_timecourses.shape"
   ]
  },
  {
   "cell_type": "code",
   "execution_count": null,
   "id": "c0f21e86",
   "metadata": {},
   "outputs": [],
   "source": [
    "from nilearn.masking import unmask\n",
    "img_timecourse = unmask(all_timecourses, mask)"
   ]
  },
  {
   "cell_type": "code",
   "execution_count": null,
   "id": "9d6119f7",
   "metadata": {},
   "outputs": [],
   "source": [
    "mean_timecourse = all_timecourses.mean(axis=1)\n",
    "plt.plot(mean_timecourse)"
   ]
  }
 ],
 "metadata": {
  "kernelspec": {
   "display_name": "Python 3",
   "language": "python",
   "name": "python3"
  },
  "language_info": {
   "codemirror_mode": {
    "name": "ipython",
    "version": 3
   },
   "file_extension": ".py",
   "mimetype": "text/x-python",
   "name": "python",
   "nbconvert_exporter": "python",
   "pygments_lexer": "ipython3",
   "version": "3.6.13"
  }
 },
 "nbformat": 4,
 "nbformat_minor": 5
}
